{
 "cells": [
  {
   "cell_type": "markdown",
   "metadata": {
    "Collapsed": "false"
   },
   "source": [
    "# Generacion Features de Grafo"
   ]
  },
  {
   "cell_type": "markdown",
   "metadata": {
    "Collapsed": "false"
   },
   "source": [
    "## Imports & Load Data"
   ]
  },
  {
   "cell_type": "code",
   "execution_count": 1,
   "metadata": {
    "Collapsed": "false"
   },
   "outputs": [],
   "source": [
    "import warnings\n",
    "warnings.filterwarnings('ignore')"
   ]
  },
  {
   "cell_type": "code",
   "execution_count": 2,
   "metadata": {
    "Collapsed": "false"
   },
   "outputs": [],
   "source": [
    "import geopandas as gpd\n",
    "import networkx as nx\n",
    "\n",
    "import numpy as np\n",
    "import pandas as pd\n",
    "\n",
    "from scipy.spatial import cKDTree\n",
    "\n",
    "import pickle"
   ]
  },
  {
   "cell_type": "code",
   "execution_count": 3,
   "metadata": {
    "Collapsed": "false"
   },
   "outputs": [],
   "source": [
    "# Cargar endpoint\n",
    "infile = open('./data/1_GDB_Layers.pkl','rb')\n",
    "GDB = pickle.load(infile)\n",
    "infile.close()"
   ]
  },
  {
   "cell_type": "markdown",
   "metadata": {
    "Collapsed": "false"
   },
   "source": [
    "## Adicionar variables de densidad de consumo"
   ]
  },
  {
   "cell_type": "code",
   "execution_count": 9,
   "metadata": {
    "Collapsed": "false"
   },
   "outputs": [],
   "source": [
    "UCBT = GDB['UCBT']\n",
    "UCBT = UCBT.to_crs({'init': 'epsg:31982'})\n",
    "gUCBT = [x.coords[0] for x in UCBT.geometry]"
   ]
  },
  {
   "cell_type": "code",
   "execution_count": 17,
   "metadata": {
    "Collapsed": "false"
   },
   "outputs": [],
   "source": [
    "radio = 50\n",
    "tree = cKDTree(gUCBT) "
   ]
  },
  {
   "cell_type": "code",
   "execution_count": 18,
   "metadata": {
    "Collapsed": "false"
   },
   "outputs": [],
   "source": [
    "ConCercanos = tree.query_ball_point(gUCBT, radio)"
   ]
  },
  {
   "cell_type": "code",
   "execution_count": 15,
   "metadata": {
    "Collapsed": "false"
   },
   "outputs": [
    {
     "data": {
      "text/plain": [
       "{50: array([list([0, 20, 30, 155]), list([1]), list([2, 3]), ...,\n",
       "        list([106143]),\n",
       "        list([105975, 105986, 105995, 106056, 106057, 106058, 106144]),\n",
       "        list([106072, 106145])], dtype=object),\n",
       " 100: array([list([0, 14, 20, 30, 70, 71, 72, 73, 106, 109, 155]), list([1]),\n",
       "        list([2, 3]), ..., list([106018, 106143]),\n",
       "        list([105975, 105986, 105995, 106056, 106057, 106058, 106144]),\n",
       "        list([106072, 106145])], dtype=object),\n",
       " 250: array([list([0, 14, 20, 25, 30, 33, 68, 69, 70, 71, 72, 73, 74, 75, 76, 77, 106, 109, 116, 155]),\n",
       "        list([1, 31]), list([2, 3]), ..., list([106018, 106027, 106143]),\n",
       "        list([105972, 105975, 105977, 105980, 105986, 105995, 106022, 106056, 106057, 106058, 106059, 106144]),\n",
       "        list([105994, 106070, 106071, 106072, 106078, 106079, 106080, 106097, 106104, 106138, 106139, 106145])],\n",
       "       dtype=object)}"
      ]
     },
     "execution_count": 15,
     "metadata": {},
     "output_type": "execute_result"
    }
   ],
   "source": [
    "ConCercanos"
   ]
  },
  {
   "cell_type": "code",
   "execution_count": 19,
   "metadata": {
    "Collapsed": "false"
   },
   "outputs": [],
   "source": [
    "UCBT['Cercanos']= ConsCercanos\n",
    "UCBT['QCercanos']= UCBT['Cercanos'].apply(lambda x: len(x)-1)"
   ]
  },
  {
   "cell_type": "code",
   "execution_count": 28,
   "metadata": {
    "Collapsed": "false"
   },
   "outputs": [],
   "source": [
    "UNTRD_QCer = UCBT.groupby('UNI_TR_D').mean().QCercanos.reset_index()"
   ]
  },
  {
   "cell_type": "markdown",
   "metadata": {
    "Collapsed": "false"
   },
   "source": [
    "## Exportar exit point"
   ]
  },
  {
   "cell_type": "code",
   "execution_count": 29,
   "metadata": {
    "Collapsed": "false"
   },
   "outputs": [],
   "source": [
    "filename = './data/223_ConsumerDensity.pkl'\n",
    "outfile = open(filename, 'wb')\n",
    "pickle.dump(UNTRD_QCer, outfile)\n",
    "outfile.close()"
   ]
  },
  {
   "cell_type": "code",
   "execution_count": null,
   "metadata": {
    "Collapsed": "false"
   },
   "outputs": [],
   "source": []
  }
 ],
 "metadata": {
  "kernelspec": {
   "display_name": "Python 3",
   "language": "python",
   "name": "python3"
  },
  "language_info": {
   "codemirror_mode": {
    "name": "ipython",
    "version": 3
   },
   "file_extension": ".py",
   "mimetype": "text/x-python",
   "name": "python",
   "nbconvert_exporter": "python",
   "pygments_lexer": "ipython3",
   "version": "3.7.2"
  }
 },
 "nbformat": 4,
 "nbformat_minor": 4
}
