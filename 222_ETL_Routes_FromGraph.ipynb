{
 "cells": [
  {
   "cell_type": "markdown",
   "metadata": {
    "Collapsed": "false"
   },
   "source": [
    "# Generacion Features de Grafo"
   ]
  },
  {
   "cell_type": "markdown",
   "metadata": {
    "Collapsed": "false"
   },
   "source": [
    "## Imports & Load Data"
   ]
  },
  {
   "cell_type": "code",
   "execution_count": 1,
   "metadata": {
    "Collapsed": "false"
   },
   "outputs": [],
   "source": [
    "import warnings\n",
    "warnings.filterwarnings('ignore')"
   ]
  },
  {
   "cell_type": "code",
   "execution_count": 2,
   "metadata": {
    "Collapsed": "false"
   },
   "outputs": [],
   "source": [
    "import geopandas as gpd\n",
    "import networkx as nx\n",
    "\n",
    "import numpy as np\n",
    "import pandas as pd\n",
    "\n",
    "import pickle"
   ]
  },
  {
   "cell_type": "code",
   "execution_count": 3,
   "metadata": {
    "Collapsed": "false"
   },
   "outputs": [],
   "source": [
    "# Cargar endpoint\n",
    "infile = open('./data/1_GDB_Layers.pkl','rb')\n",
    "GDB = pickle.load(infile)\n",
    "infile.close()"
   ]
  },
  {
   "cell_type": "code",
   "execution_count": 4,
   "metadata": {
    "Collapsed": "false"
   },
   "outputs": [],
   "source": [
    "filename = './data/22_Full_Graph.pkl'\n",
    "infile = open(filename, 'rb')\n",
    "MTG = pickle.load(infile)\n",
    "infile.close()"
   ]
  },
  {
   "cell_type": "code",
   "execution_count": 5,
   "metadata": {
    "Collapsed": "false"
   },
   "outputs": [],
   "source": [
    "filename = './data/22_CTMT_Graph_Dict.pkl'\n",
    "infile = open(filename, 'rb')\n",
    "CTMT_GR = pickle.load(infile)\n",
    "infile.close()"
   ]
  },
  {
   "cell_type": "code",
   "execution_count": 6,
   "metadata": {
    "Collapsed": "false"
   },
   "outputs": [],
   "source": [
    "filename = './data/22_UNTRD_Conections.pkl'\n",
    "infile = open(filename, 'rb')\n",
    "UNTRD_CONS = pickle.load(infile)\n",
    "infile.close()"
   ]
  },
  {
   "cell_type": "markdown",
   "metadata": {
    "Collapsed": "false"
   },
   "source": [
    "## Obtener Rutas a Sub Estacion"
   ]
  },
  {
   "cell_type": "code",
   "execution_count": 7,
   "metadata": {
    "Collapsed": "false"
   },
   "outputs": [],
   "source": [
    "def get_route(trd):\n",
    "    route = []\n",
    "    \n",
    "    if trd.UNTRD_PCON == '':\n",
    "        return route\n",
    "    \n",
    "    try:\n",
    "        route = nx.shortest_path(CTMT_GR[trd.CTMT], trd.UNTRD_PCON, trd.CTMT_PCON, weight='length')\n",
    "    except Exception as e:\n",
    "        print('-----------')\n",
    "        print(e)\n",
    "        print('Probando con grafo Gral')\n",
    "        try:\n",
    "            route = nx.shortest_path(MTG, trd.UNTRD_PCON, trd.CTMT_PCON, weight='length')\n",
    "        except Exception as e:\n",
    "            print(e)\n",
    "            print(f'CTMT:{trd.CTMT}, Source:{trd.UNTRD_PCON}, Target:{trd.CTMT_PCON}')\n",
    "    \n",
    "    return route"
   ]
  },
  {
   "cell_type": "code",
   "execution_count": 8,
   "metadata": {
    "Collapsed": "false"
   },
   "outputs": [
    {
     "name": "stdout",
     "output_type": "stream",
     "text": [
      "-----------\n",
      "No path to nan.\n",
      "Probando con grafo Gral\n",
      "No path to nan.\n",
      "CTMT:27117492, Source:27128440, Target:nan\n",
      "-----------\n",
      "No path to 27863987.\n",
      "Probando con grafo Gral\n",
      "No path to 27863987.\n",
      "CTMT:27117487, Source:27148623, Target:27863987\n",
      "-----------\n",
      "No path to 27707915.\n",
      "Probando con grafo Gral\n",
      "No path to 27707915.\n",
      "CTMT:27117496, Source:27149709, Target:27707915\n"
     ]
    }
   ],
   "source": [
    "UNTRD_CONS['ROUTE_SUB'] = UNTRD_CONS.apply(get_route, axis=1)"
   ]
  },
  {
   "cell_type": "code",
   "execution_count": 9,
   "metadata": {
    "Collapsed": "false"
   },
   "outputs": [],
   "source": [
    "## Ruta hasta sub estacion referenciado a los ID de los segmentos de SSDMT\n",
    "UNTRD_CONS['SID_ROUTE_SUB'] = UNTRD_CONS.apply(\n",
    "    lambda x: [at['COD_ID'] for p1,p2,at in CTMT_GR[x.CTMT].edges(x.ROUTE_SUB, data=True)], axis=1)"
   ]
  },
  {
   "cell_type": "code",
   "execution_count": 10,
   "metadata": {
    "Collapsed": "false"
   },
   "outputs": [
    {
     "data": {
      "text/plain": [
       "(3848, 8)"
      ]
     },
     "execution_count": 10,
     "metadata": {},
     "output_type": "execute_result"
    }
   ],
   "source": [
    "UNTRD_CONS.shape"
   ]
  },
  {
   "cell_type": "code",
   "execution_count": 11,
   "metadata": {
    "Collapsed": "false"
   },
   "outputs": [],
   "source": [
    "# Pre filtrar variables de interes\n",
    "SSDMT_ft = ['COD_ID','TIP_CND','COMP']\n",
    "SEGCON_ft = ['COD_ID', 'R1', 'X1', 'FTRCNV', 'CNOM', 'CMAX'] "
   ]
  },
  {
   "cell_type": "code",
   "execution_count": 12,
   "metadata": {
    "Collapsed": "false"
   },
   "outputs": [],
   "source": [
    "# Cargar valores electricos relacionados a los segmentos de transmicion\n",
    "SSDMT_ELE = pd.merge(GDB['SSDMT'][SSDMT_ft], GDB['SEGCON'][SEGCON_ft],\n",
    "                     how='left', left_on='TIP_CND', right_on='COD_ID', suffixes=('','CON'))"
   ]
  },
  {
   "cell_type": "markdown",
   "metadata": {
    "Collapsed": "false"
   },
   "source": [
    "## Adicionar Informacion Electrica"
   ]
  },
  {
   "cell_type": "code",
   "execution_count": 13,
   "metadata": {
    "Collapsed": "false"
   },
   "outputs": [],
   "source": [
    "def get_elec_features(TRD):\n",
    "    \n",
    "    SEG_REF_ROUTE = TRD.SID_ROUTE_SUB\n",
    "    \n",
    "    SRR_ELE = SSDMT_ELE[SSDMT_ELE.COD_ID.isin(SEG_REF_ROUTE)]\n",
    "    \n",
    "    DISTANCIA = SRR_ELE.COMP.sum()\n",
    "    RESISTENCIA = (SRR_ELE.R1  * SRR_ELE.COMP).sum()\n",
    "    REACTANCIA = (SRR_ELE.X1 * SRR_ELE.COMP).sum()\n",
    "    \n",
    "    FCONV = SRR_ELE.FTRCNV.mean()\n",
    "    \n",
    "    I_NOM_MIN = SRR_ELE.CNOM.min()\n",
    "    I_NOM_MED = SRR_ELE.CNOM.median()\n",
    "    \n",
    "    I_MAX_MIN = SRR_ELE.CMAX.min()\n",
    "    I_MAX_MED = SRR_ELE.CMAX.median()\n",
    "    \n",
    "    elect_ft = {\n",
    "        'DISTANCE_SUB': DISTANCIA,\n",
    "        'RESI_SUB': RESISTENCIA,\n",
    "        'REAC_SUB': REACTANCIA,\n",
    "        'FCONV_R': FCONV,\n",
    "        'I_NOM_MED_R': I_NOM_MED,\n",
    "        'I_NOM_MIN_R': I_NOM_MIN,\n",
    "        'I_MAX_MED_R': I_MAX_MED,\n",
    "        'I_MAX_MIN_R': I_MAX_MIN\n",
    "    }\n",
    "    \n",
    "    return elect_ft"
   ]
  },
  {
   "cell_type": "code",
   "execution_count": 14,
   "metadata": {
    "Collapsed": "false"
   },
   "outputs": [],
   "source": [
    "UNTRD_ELE = UNTRD_CONS.apply(get_elec_features , axis=1, result_type='expand')"
   ]
  },
  {
   "cell_type": "code",
   "execution_count": 15,
   "metadata": {
    "Collapsed": "false"
   },
   "outputs": [],
   "source": [
    "# Agregar Variables Manualmente\n",
    "UNTRD_ELE['Z_MOD_SUB'] = UNTRD_ELE.apply(lambda x: np.absolute(x.RESI_SUB - x.REAC_SUB*1j), axis=1)\n",
    "UNTRD_ELE['Z_ANG_SUB'] = UNTRD_ELE.apply(lambda x: np.angle(x.RESI_SUB- x.REAC_SUB*1j, deg=True), axis=1)"
   ]
  },
  {
   "cell_type": "markdown",
   "metadata": {
    "Collapsed": "false"
   },
   "source": [
    "## Unir variables de distancia y electricas"
   ]
  },
  {
   "cell_type": "code",
   "execution_count": 16,
   "metadata": {
    "Collapsed": "false"
   },
   "outputs": [],
   "source": [
    "UNTRD_CONS[UNTRD_ELE.columns] = UNTRD_ELE"
   ]
  },
  {
   "cell_type": "code",
   "execution_count": 18,
   "metadata": {
    "Collapsed": "false"
   },
   "outputs": [
    {
     "data": {
      "text/plain": [
       "Index(['COD_ID', 'PAC_1', 'CTMT', 'SUB', 'UNTRD_PCON', 'CTMT_PCON',\n",
       "       'ROUTE_SUB', 'SID_ROUTE_SUB', 'DISTANCE_SUB', 'FCONV_R', 'I_MAX_MED_R',\n",
       "       'I_MAX_MIN_R', 'I_NOM_MED_R', 'I_NOM_MIN_R', 'REAC_SUB', 'RESI_SUB',\n",
       "       'Z_MOD_SUB', 'Z_ANG_SUB'],\n",
       "      dtype='object')"
      ]
     },
     "execution_count": 18,
     "metadata": {},
     "output_type": "execute_result"
    }
   ],
   "source": [
    "UNTRD_CONS.columns"
   ]
  },
  {
   "cell_type": "code",
   "execution_count": 19,
   "metadata": {
    "Collapsed": "false"
   },
   "outputs": [],
   "source": [
    "# Quitar keys y listas\n",
    "UNTRD_CONS.drop(['PAC_1', 'CTMT', 'SUB', 'UNTRD_PCON', 'CTMT_PCON','ROUTE_SUB', 'SID_ROUTE_SUB'], axis=1, inplace= True)"
   ]
  },
  {
   "cell_type": "markdown",
   "metadata": {
    "Collapsed": "false"
   },
   "source": [
    "## Exportar exit point"
   ]
  },
  {
   "cell_type": "code",
   "execution_count": 20,
   "metadata": {
    "Collapsed": "false"
   },
   "outputs": [],
   "source": [
    "filename = './data/222_ETRD_ROUTES_ELEC.pkl'\n",
    "outfile = open(filename, 'wb')\n",
    "pickle.dump(UNTRD_CONS,outfile)\n",
    "outfile.close()"
   ]
  },
  {
   "cell_type": "code",
   "execution_count": null,
   "metadata": {
    "Collapsed": "false"
   },
   "outputs": [],
   "source": []
  }
 ],
 "metadata": {
  "kernelspec": {
   "display_name": "Python 3",
   "language": "python",
   "name": "python3"
  },
  "language_info": {
   "codemirror_mode": {
    "name": "ipython",
    "version": 3
   },
   "file_extension": ".py",
   "mimetype": "text/x-python",
   "name": "python",
   "nbconvert_exporter": "python",
   "pygments_lexer": "ipython3",
   "version": "3.7.3"
  }
 },
 "nbformat": 4,
 "nbformat_minor": 4
}
