{
 "cells": [
  {
   "cell_type": "markdown",
   "metadata": {
    "Collapsed": "false"
   },
   "source": [
    "# Generacion Features de Grafo"
   ]
  },
  {
   "cell_type": "markdown",
   "metadata": {
    "Collapsed": "true"
   },
   "source": [
    "## Imports & Load Data"
   ]
  },
  {
   "cell_type": "code",
   "execution_count": 2,
   "metadata": {
    "Collapsed": "false"
   },
   "outputs": [],
   "source": [
    "import warnings\n",
    "warnings.filterwarnings('ignore')"
   ]
  },
  {
   "cell_type": "code",
   "execution_count": 3,
   "metadata": {
    "Collapsed": "false"
   },
   "outputs": [],
   "source": [
    "import geopandas as gpd\n",
    "import networkx as nx\n",
    "\n",
    "import numpy as np\n",
    "import pandas as pd\n",
    "\n",
    "import pickle"
   ]
  },
  {
   "cell_type": "code",
   "execution_count": 4,
   "metadata": {
    "Collapsed": "false"
   },
   "outputs": [],
   "source": [
    "# Cargar endpoint\n",
    "infile = open('./data/1_GDB_Layers.pkl','rb')\n",
    "GDB = pickle.load(infile)\n",
    "infile.close()"
   ]
  },
  {
   "cell_type": "code",
   "execution_count": 5,
   "metadata": {
    "Collapsed": "false"
   },
   "outputs": [],
   "source": [
    "filename = './data/22_Full_Graph.pkl'\n",
    "infile = open(filename, 'rb')\n",
    "MTG = pickle.load(infile)\n",
    "infile.close()"
   ]
  },
  {
   "cell_type": "code",
   "execution_count": 6,
   "metadata": {
    "Collapsed": "false"
   },
   "outputs": [],
   "source": [
    "filename = './data/22_CTMT_Graph_Dict.pkl'\n",
    "infile = open(filename, 'rb')\n",
    "CTMT_GR = pickle.load(infile)\n",
    "infile.close()"
   ]
  },
  {
   "cell_type": "code",
   "execution_count": 7,
   "metadata": {
    "Collapsed": "false"
   },
   "outputs": [],
   "source": [
    "filename = './data/22_UNTRD_Conections.pkl'\n",
    "infile = open(filename, 'rb')\n",
    "UNTRD_CONS = pickle.load(infile)\n",
    "infile.close()"
   ]
  },
  {
   "cell_type": "markdown",
   "metadata": {
    "Collapsed": "true"
   },
   "source": [
    "## Obtener Rutas a Sub Estacion"
   ]
  },
  {
   "cell_type": "code",
   "execution_count": 8,
   "metadata": {
    "Collapsed": "false"
   },
   "outputs": [],
   "source": [
    "def get_route(trd):\n",
    "    route = []\n",
    "    \n",
    "    if trd.UNTRD_PCON == '':\n",
    "        return route\n",
    "    \n",
    "    try:\n",
    "        route = nx.shortest_path(CTMT_GR[trd.CTMT], trd.UNTRD_PCON, trd.CTMT_PCON, weight='length')\n",
    "    except Exception as e:\n",
    "        print('-----------')\n",
    "        print(e)\n",
    "        print('Probando con grafo Gral')\n",
    "        try:\n",
    "            route = nx.shortest_path(MTG, trd.UNTRD_PCON, trd.CTMT_PCON, weight='length')\n",
    "        except Exception as e:\n",
    "            print(e)\n",
    "            print(f'CTMT:{trd.CTMT}, Source:{trd.UNTRD_PCON}, Target:{trd.CTMT_PCON}')\n",
    "    \n",
    "    return route"
   ]
  },
  {
   "cell_type": "code",
   "execution_count": 9,
   "metadata": {
    "Collapsed": "false"
   },
   "outputs": [
    {
     "name": "stdout",
     "output_type": "stream",
     "text": [
      "-----------\n",
      "No path to nan.\n",
      "Probando con grafo Gral\n",
      "No path to nan.\n",
      "CTMT:27117492, Source:27128440, Target:nan\n",
      "-----------\n",
      "No path to 27863987.\n",
      "Probando con grafo Gral\n",
      "No path to 27863987.\n",
      "CTMT:27117487, Source:27148623, Target:27863987\n",
      "-----------\n",
      "No path to 27707915.\n",
      "Probando con grafo Gral\n",
      "No path to 27707915.\n",
      "CTMT:27117496, Source:27149709, Target:27707915\n"
     ]
    }
   ],
   "source": [
    "UNTRD_CONS['ROUTE_SUB'] = UNTRD_CONS.apply(get_route, axis=1)"
   ]
  },
  {
   "cell_type": "code",
   "execution_count": 10,
   "metadata": {
    "Collapsed": "false"
   },
   "outputs": [],
   "source": [
    "## Ruta hasta sub estacion referenciado a los ID de los segmentos de SSDMT\n",
    "UNTRD_CONS['SID_ROUTE_SUB'] = UNTRD_CONS.apply(\n",
    "    lambda x: [at['COD_ID'] for p1,p2,at in CTMT_GR[x.CTMT].edges(x.ROUTE_SUB, data=True)], axis=1)"
   ]
  },
  {
   "cell_type": "code",
   "execution_count": 11,
   "metadata": {
    "Collapsed": "false"
   },
   "outputs": [
    {
     "data": {
      "text/plain": [
       "(3848, 8)"
      ]
     },
     "execution_count": 11,
     "metadata": {},
     "output_type": "execute_result"
    }
   ],
   "source": [
    "UNTRD_CONS.shape"
   ]
  },
  {
   "cell_type": "code",
   "execution_count": 12,
   "metadata": {
    "Collapsed": "false"
   },
   "outputs": [],
   "source": [
    "# Pre filtrar variables de interes\n",
    "SSDMT_ft = ['COD_ID','TIP_CND','COMP']\n",
    "SEGCON_ft = ['COD_ID', 'R1', 'X1', 'FTRCNV', 'CNOM', 'CMAX'] "
   ]
  },
  {
   "cell_type": "code",
   "execution_count": 13,
   "metadata": {
    "Collapsed": "false"
   },
   "outputs": [],
   "source": [
    "# Cargar valores electricos relacionados a los segmentos de transmicion\n",
    "SSDMT_ELE = pd.merge(GDB['SSDMT'][SSDMT_ft], GDB['SEGCON'][SEGCON_ft],\n",
    "                     how='left', left_on='TIP_CND', right_on='COD_ID', suffixes=('','CON'))"
   ]
  },
  {
   "cell_type": "markdown",
   "metadata": {
    "Collapsed": "true"
   },
   "source": [
    "## Adicionar Informacion Electrica"
   ]
  },
  {
   "cell_type": "code",
   "execution_count": 14,
   "metadata": {
    "Collapsed": "false"
   },
   "outputs": [],
   "source": [
    "def get_elec_features(TRD):\n",
    "    \n",
    "    SEG_REF_ROUTE = TRD.SID_ROUTE_SUB\n",
    "    \n",
    "    SRR_ELE = SSDMT_ELE[SSDMT_ELE.COD_ID.isin(SEG_REF_ROUTE)]\n",
    "    \n",
    "    DISTANCIA = SRR_ELE.COMP.sum()\n",
    "    RESISTENCIA = (SRR_ELE.R1  * SRR_ELE.COMP).sum()\n",
    "    REACTANCIA = (SRR_ELE.X1 * SRR_ELE.COMP).sum()\n",
    "    \n",
    "    FCONV = SRR_ELE.FTRCNV.mean()\n",
    "    \n",
    "    I_NOM_MIN = SRR_ELE.CNOM.min()\n",
    "    I_NOM_MED = SRR_ELE.CNOM.median()\n",
    "    \n",
    "    I_MAX_MIN = SRR_ELE.CMAX.min()\n",
    "    I_MAX_MED = SRR_ELE.CMAX.median()\n",
    "    \n",
    "    elect_ft = {\n",
    "        'DISTANCE_SUB': DISTANCIA,\n",
    "        'RESI_SUB': RESISTENCIA,\n",
    "        'REAC_SUB': REACTANCIA,\n",
    "        'FCONV_R': FCONV,\n",
    "        'I_NOM_MED_R': I_NOM_MED,\n",
    "        'I_NOM_MIN_R': I_NOM_MIN,\n",
    "        'I_MAX_MED_R': I_MAX_MED,\n",
    "        'I_MAX_MIN_R': I_MAX_MIN\n",
    "    }\n",
    "    \n",
    "    return elect_ft"
   ]
  },
  {
   "cell_type": "code",
   "execution_count": 15,
   "metadata": {
    "Collapsed": "false"
   },
   "outputs": [],
   "source": [
    "UNTRD_ELE = UNTRD_CONS.apply(get_elec_features , axis=1, result_type='expand')"
   ]
  },
  {
   "cell_type": "code",
   "execution_count": 16,
   "metadata": {
    "Collapsed": "false"
   },
   "outputs": [],
   "source": [
    "# Agregar Variables Manualmente\n",
    "UNTRD_ELE['Z_MOD_SUB'] = UNTRD_ELE.apply(lambda x: np.absolute(x.RESI_SUB - x.REAC_SUB*1j), axis=1)\n",
    "UNTRD_ELE['Z_ANG_SUB'] = UNTRD_ELE.apply(lambda x: np.angle(x.RESI_SUB- x.REAC_SUB*1j, deg=True), axis=1)"
   ]
  },
  {
   "cell_type": "markdown",
   "metadata": {
    "Collapsed": "true"
   },
   "source": [
    "## Unir variables de distancia y electricas"
   ]
  },
  {
   "cell_type": "code",
   "execution_count": 17,
   "metadata": {
    "Collapsed": "false"
   },
   "outputs": [],
   "source": [
    "UNTRD_CONS[UNTRD_ELE.columns] = UNTRD_ELE"
   ]
  },
  {
   "cell_type": "code",
   "execution_count": 18,
   "metadata": {
    "Collapsed": "false"
   },
   "outputs": [
    {
     "data": {
      "text/html": [
       "<div>\n",
       "<style scoped>\n",
       "    .dataframe tbody tr th:only-of-type {\n",
       "        vertical-align: middle;\n",
       "    }\n",
       "\n",
       "    .dataframe tbody tr th {\n",
       "        vertical-align: top;\n",
       "    }\n",
       "\n",
       "    .dataframe thead th {\n",
       "        text-align: right;\n",
       "    }\n",
       "</style>\n",
       "<table border=\"1\" class=\"dataframe\">\n",
       "  <thead>\n",
       "    <tr style=\"text-align: right;\">\n",
       "      <th></th>\n",
       "      <th>COD_ID</th>\n",
       "      <th>PAC_1</th>\n",
       "      <th>CTMT</th>\n",
       "      <th>SUB</th>\n",
       "      <th>UNTRD_PCON</th>\n",
       "      <th>CTMT_PCON</th>\n",
       "      <th>ROUTE_SUB</th>\n",
       "      <th>SID_ROUTE_SUB</th>\n",
       "      <th>DISTANCE_SUB</th>\n",
       "      <th>FCONV_R</th>\n",
       "      <th>I_MAX_MED_R</th>\n",
       "      <th>I_MAX_MIN_R</th>\n",
       "      <th>I_NOM_MED_R</th>\n",
       "      <th>I_NOM_MIN_R</th>\n",
       "      <th>REAC_SUB</th>\n",
       "      <th>RESI_SUB</th>\n",
       "      <th>Z_MOD_SUB</th>\n",
       "      <th>Z_ANG_SUB</th>\n",
       "    </tr>\n",
       "  </thead>\n",
       "  <tbody>\n",
       "    <tr>\n",
       "      <th>2556</th>\n",
       "      <td>26877238</td>\n",
       "      <td>75471000754036300ET</td>\n",
       "      <td>27117485</td>\n",
       "      <td>27335509</td>\n",
       "      <td>27135985</td>\n",
       "      <td>27152908</td>\n",
       "      <td>[27135985, 27136025, 27135986, 27136026, 27136...</td>\n",
       "      <td>[26693150, 26693135, 26699498, 26680819, 26693...</td>\n",
       "      <td>2112.691</td>\n",
       "      <td>0.382188</td>\n",
       "      <td>230.0</td>\n",
       "      <td>97.0</td>\n",
       "      <td>230.0</td>\n",
       "      <td>97.0</td>\n",
       "      <td>834.648623</td>\n",
       "      <td>1116.376534</td>\n",
       "      <td>1393.891993</td>\n",
       "      <td>-36.783289</td>\n",
       "    </tr>\n",
       "    <tr>\n",
       "      <th>597</th>\n",
       "      <td>26878681</td>\n",
       "      <td>75783800752819100ET</td>\n",
       "      <td>27117496</td>\n",
       "      <td>27335510</td>\n",
       "      <td>27142846</td>\n",
       "      <td>27707915</td>\n",
       "      <td>[27142846, 27158704, 27152184, 27151942, 27151...</td>\n",
       "      <td>[26704644, 26683074, 26683640, 26685442, 26683...</td>\n",
       "      <td>10664.952</td>\n",
       "      <td>0.448240</td>\n",
       "      <td>365.0</td>\n",
       "      <td>97.0</td>\n",
       "      <td>365.0</td>\n",
       "      <td>97.0</td>\n",
       "      <td>4096.062174</td>\n",
       "      <td>4119.925692</td>\n",
       "      <td>5809.605240</td>\n",
       "      <td>-44.833584</td>\n",
       "    </tr>\n",
       "    <tr>\n",
       "      <th>1911</th>\n",
       "      <td>26878468</td>\n",
       "      <td>75927300753568600ET</td>\n",
       "      <td>27117495</td>\n",
       "      <td>27335510</td>\n",
       "      <td>27144841</td>\n",
       "      <td>27131280</td>\n",
       "      <td>[27144841, 27158814, 27158433, 27158177, 27160...</td>\n",
       "      <td>[26695649, 26703202, 26684375, 26708156, 26687...</td>\n",
       "      <td>5668.202</td>\n",
       "      <td>0.576429</td>\n",
       "      <td>438.0</td>\n",
       "      <td>95.0</td>\n",
       "      <td>438.0</td>\n",
       "      <td>95.0</td>\n",
       "      <td>2220.989902</td>\n",
       "      <td>2603.227207</td>\n",
       "      <td>3421.927532</td>\n",
       "      <td>-40.469746</td>\n",
       "    </tr>\n",
       "    <tr>\n",
       "      <th>1540</th>\n",
       "      <td>26877738</td>\n",
       "      <td>75242200753668700ET</td>\n",
       "      <td>80345444</td>\n",
       "      <td>27335511</td>\n",
       "      <td>27140446</td>\n",
       "      <td>27708175</td>\n",
       "      <td>[27140446, 27143649, 27143313, 27140760, 27143...</td>\n",
       "      <td>[26706015, 26690881, 26684995, 26690812, 26706...</td>\n",
       "      <td>5451.810</td>\n",
       "      <td>0.457000</td>\n",
       "      <td>438.0</td>\n",
       "      <td>54.0</td>\n",
       "      <td>438.0</td>\n",
       "      <td>54.0</td>\n",
       "      <td>2055.654511</td>\n",
       "      <td>1685.511820</td>\n",
       "      <td>2658.320064</td>\n",
       "      <td>-50.650329</td>\n",
       "    </tr>\n",
       "    <tr>\n",
       "      <th>3006</th>\n",
       "      <td>26876848</td>\n",
       "      <td>76818222752570311MT</td>\n",
       "      <td>27117484</td>\n",
       "      <td>27335513</td>\n",
       "      <td>27158993</td>\n",
       "      <td>44571767</td>\n",
       "      <td>[27158993, 27159479, 27158992, 27158991, 27161...</td>\n",
       "      <td>[26700505, 26707041, 26700504, 26700503, 26700...</td>\n",
       "      <td>19293.869</td>\n",
       "      <td>0.459458</td>\n",
       "      <td>438.0</td>\n",
       "      <td>54.0</td>\n",
       "      <td>438.0</td>\n",
       "      <td>54.0</td>\n",
       "      <td>7758.728863</td>\n",
       "      <td>16790.072494</td>\n",
       "      <td>18496.064660</td>\n",
       "      <td>-24.801761</td>\n",
       "    </tr>\n",
       "  </tbody>\n",
       "</table>\n",
       "</div>"
      ],
      "text/plain": [
       "        COD_ID                PAC_1      CTMT       SUB UNTRD_PCON CTMT_PCON  \\\n",
       "2556  26877238  75471000754036300ET  27117485  27335509   27135985  27152908   \n",
       "597   26878681  75783800752819100ET  27117496  27335510   27142846  27707915   \n",
       "1911  26878468  75927300753568600ET  27117495  27335510   27144841  27131280   \n",
       "1540  26877738  75242200753668700ET  80345444  27335511   27140446  27708175   \n",
       "3006  26876848  76818222752570311MT  27117484  27335513   27158993  44571767   \n",
       "\n",
       "                                              ROUTE_SUB  \\\n",
       "2556  [27135985, 27136025, 27135986, 27136026, 27136...   \n",
       "597   [27142846, 27158704, 27152184, 27151942, 27151...   \n",
       "1911  [27144841, 27158814, 27158433, 27158177, 27160...   \n",
       "1540  [27140446, 27143649, 27143313, 27140760, 27143...   \n",
       "3006  [27158993, 27159479, 27158992, 27158991, 27161...   \n",
       "\n",
       "                                          SID_ROUTE_SUB  DISTANCE_SUB  \\\n",
       "2556  [26693150, 26693135, 26699498, 26680819, 26693...      2112.691   \n",
       "597   [26704644, 26683074, 26683640, 26685442, 26683...     10664.952   \n",
       "1911  [26695649, 26703202, 26684375, 26708156, 26687...      5668.202   \n",
       "1540  [26706015, 26690881, 26684995, 26690812, 26706...      5451.810   \n",
       "3006  [26700505, 26707041, 26700504, 26700503, 26700...     19293.869   \n",
       "\n",
       "       FCONV_R  I_MAX_MED_R  I_MAX_MIN_R  I_NOM_MED_R  I_NOM_MIN_R  \\\n",
       "2556  0.382188        230.0         97.0        230.0         97.0   \n",
       "597   0.448240        365.0         97.0        365.0         97.0   \n",
       "1911  0.576429        438.0         95.0        438.0         95.0   \n",
       "1540  0.457000        438.0         54.0        438.0         54.0   \n",
       "3006  0.459458        438.0         54.0        438.0         54.0   \n",
       "\n",
       "         REAC_SUB      RESI_SUB     Z_MOD_SUB  Z_ANG_SUB  \n",
       "2556   834.648623   1116.376534   1393.891993 -36.783289  \n",
       "597   4096.062174   4119.925692   5809.605240 -44.833584  \n",
       "1911  2220.989902   2603.227207   3421.927532 -40.469746  \n",
       "1540  2055.654511   1685.511820   2658.320064 -50.650329  \n",
       "3006  7758.728863  16790.072494  18496.064660 -24.801761  "
      ]
     },
     "execution_count": 18,
     "metadata": {},
     "output_type": "execute_result"
    }
   ],
   "source": [
    "UNTRD_CONS.sample(5)"
   ]
  },
  {
   "cell_type": "code",
   "execution_count": 19,
   "metadata": {
    "Collapsed": "false"
   },
   "outputs": [
    {
     "data": {
      "text/plain": [
       "(3848, 18)"
      ]
     },
     "execution_count": 19,
     "metadata": {},
     "output_type": "execute_result"
    }
   ],
   "source": [
    "UNTRD_CONS.shape"
   ]
  },
  {
   "cell_type": "code",
   "execution_count": 20,
   "metadata": {
    "Collapsed": "false"
   },
   "outputs": [
    {
     "data": {
      "text/plain": [
       "Index(['COD_ID', 'PAC_1', 'CTMT', 'SUB', 'UNTRD_PCON', 'CTMT_PCON',\n",
       "       'ROUTE_SUB', 'SID_ROUTE_SUB', 'DISTANCE_SUB', 'FCONV_R', 'I_MAX_MED_R',\n",
       "       'I_MAX_MIN_R', 'I_NOM_MED_R', 'I_NOM_MIN_R', 'REAC_SUB', 'RESI_SUB',\n",
       "       'Z_MOD_SUB', 'Z_ANG_SUB'],\n",
       "      dtype='object')"
      ]
     },
     "execution_count": 20,
     "metadata": {},
     "output_type": "execute_result"
    }
   ],
   "source": [
    "UNTRD_CONS.columns"
   ]
  },
  {
   "cell_type": "markdown",
   "metadata": {
    "Collapsed": "false"
   },
   "source": [
    "## Exportar exit point"
   ]
  },
  {
   "cell_type": "code",
   "execution_count": 20,
   "metadata": {
    "Collapsed": "false"
   },
   "outputs": [],
   "source": [
    "filename = './data/222_ETRD_ROUTES_ELEC.pkl'\n",
    "outfile = open(filename, 'wb')\n",
    "pickle.dump(UNTRD_CONS,outfile)\n",
    "outfile.close()"
   ]
  },
  {
   "cell_type": "code",
   "execution_count": null,
   "metadata": {
    "Collapsed": "false"
   },
   "outputs": [],
   "source": []
  }
 ],
 "metadata": {
  "kernelspec": {
   "display_name": "Python 3",
   "language": "python",
   "name": "python3"
  },
  "language_info": {
   "codemirror_mode": {
    "name": "ipython",
    "version": 3
   },
   "file_extension": ".py",
   "mimetype": "text/x-python",
   "name": "python",
   "nbconvert_exporter": "python",
   "pygments_lexer": "ipython3",
   "version": "3.7.3"
  }
 },
 "nbformat": 4,
 "nbformat_minor": 4
}
