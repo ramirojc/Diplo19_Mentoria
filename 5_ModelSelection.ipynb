{
 "cells": [
  {
   "cell_type": "markdown",
   "metadata": {
    "Collapsed": "false"
   },
   "source": [
    "# Model Selection and HyperParameter Tuning"
   ]
  },
  {
   "cell_type": "code",
   "execution_count": 1,
   "metadata": {
    "Collapsed": "false"
   },
   "outputs": [],
   "source": [
    "import warnings\n",
    "warnings.filterwarnings('ignore')"
   ]
  },
  {
   "cell_type": "code",
   "execution_count": 2,
   "metadata": {
    "Collapsed": "false"
   },
   "outputs": [
    {
     "name": "stderr",
     "output_type": "stream",
     "text": [
      "D:\\Anaconda3\\envs\\gpd\\lib\\site-packages\\networkx\\classes\\reportviews.py:95: DeprecationWarning: Using or importing the ABCs from 'collections' instead of from 'collections.abc' is deprecated, and in 3.8 it will stop working\n",
      "  from collections import Mapping, Set, Iterable\n"
     ]
    }
   ],
   "source": [
    "import numpy as np\n",
    "import pandas as pd\n",
    "\n",
    "import pickle\n",
    "\n",
    "import mlflow\n",
    "import mlflow.sklearn\n",
    "\n",
    "from sklearn.model_selection import train_test_split, cross_val_score\n",
    "from sklearn.metrics import mean_squared_error\n",
    "\n",
    "from xgboost.sklearn import XGBRegressor\n",
    "\n",
    "from hyperopt import hp, fmin, tpe, STATUS_OK, STATUS_FAIL, Trials"
   ]
  },
  {
   "cell_type": "code",
   "execution_count": 3,
   "metadata": {
    "Collapsed": "false"
   },
   "outputs": [],
   "source": [
    "filename = './data/3_FtSet_XGImportance.pkl'\n",
    "infile = open(filename, 'rb')\n",
    "data_set1 = pickle.load(infile)\n",
    "infile.close()"
   ]
  },
  {
   "cell_type": "code",
   "execution_count": 4,
   "metadata": {
    "Collapsed": "false"
   },
   "outputs": [],
   "source": [
    "filename = './data/3_Target.pkl'\n",
    "infile = open(filename, 'rb')\n",
    "target = pickle.load(infile)\n",
    "infile.close()"
   ]
  },
  {
   "cell_type": "markdown",
   "metadata": {
    "Collapsed": "false"
   },
   "source": [
    "## Split Data"
   ]
  },
  {
   "cell_type": "code",
   "execution_count": 5,
   "metadata": {
    "Collapsed": "false"
   },
   "outputs": [],
   "source": [
    "X_train, X_test, y_train, y_test = train_test_split(data_set1, target, test_size=0.2, random_state=0)"
   ]
  },
  {
   "cell_type": "markdown",
   "metadata": {
    "Collapsed": "false"
   },
   "source": [
    "## XGBoost, Hyperparameter Tuning"
   ]
  },
  {
   "cell_type": "code",
   "execution_count": 21,
   "metadata": {
    "Collapsed": "false"
   },
   "outputs": [],
   "source": [
    "# XGB parameters\n",
    "xgb_reg_params = {\n",
    "    'learning_rate':    hp.choice('learning_rate',    np.array([0.01, 0.05, 0.1])),\n",
    "    'max_depth':        hp.choice('max_depth',        np.array([3, 5, 7])),\n",
    "    'subsample':        hp.choice('subsample',        np.array([0.8, 1])),\n",
    "    'n_estimators':     hp.choice('n_estimators',     np.array([300, 500, 1000, 2000], dtype=int))\n",
    "}"
   ]
  },
  {
   "cell_type": "code",
   "execution_count": 22,
   "metadata": {
    "Collapsed": "false"
   },
   "outputs": [
    {
     "name": "stdout",
     "output_type": "stream",
     "text": [
      "100%|███████████████████████████████████████████████████| 50/50 [05:50<00:00,  7.32s/it, best loss: 1.8880251393493432]\n"
     ]
    }
   ],
   "source": [
    "def objective(space):\n",
    "\n",
    "    reg = XGBRegressor(\n",
    "        n_estimators = space['n_estimators'],\n",
    "        learning_rate= space['learning_rate'],\n",
    "        max_depth= space['max_depth'],\n",
    "        subsample= space['subsample'],\n",
    "        n_jobs= -1\n",
    "    )\n",
    "        \n",
    "    eval_set  = [(X_train, y_train), (X_test, y_test)]\n",
    "\n",
    "    reg.fit(X_train, y_train,\n",
    "            eval_set = eval_set, \n",
    "            eval_metric = 'rmse',\n",
    "            verbose = False,\n",
    "            early_stopping_rounds= 5)\n",
    "\n",
    "    pred = reg.predict(X_test)\n",
    "    \n",
    "    cv_scores = cross_val_score(reg, X_train, y_train, cv=3, scoring='neg_mean_absolute_error')\n",
    "    loss = abs(cv_scores.mean())\n",
    "    \n",
    "    return {'loss': loss, 'status': STATUS_OK}\n",
    "\n",
    "trials = Trials()\n",
    "\n",
    "best = fmin(fn= objective,\n",
    "            space= xgb_reg_params,\n",
    "            algo= tpe.suggest,\n",
    "            max_evals= 50,\n",
    "            trials= trials)"
   ]
  },
  {
   "cell_type": "code",
   "execution_count": 28,
   "metadata": {
    "Collapsed": "false"
   },
   "outputs": [
    {
     "data": {
      "text/html": [
       "<div>\n",
       "<style scoped>\n",
       "    .dataframe tbody tr th:only-of-type {\n",
       "        vertical-align: middle;\n",
       "    }\n",
       "\n",
       "    .dataframe tbody tr th {\n",
       "        vertical-align: top;\n",
       "    }\n",
       "\n",
       "    .dataframe thead th {\n",
       "        text-align: right;\n",
       "    }\n",
       "</style>\n",
       "<table border=\"1\" class=\"dataframe\">\n",
       "  <thead>\n",
       "    <tr style=\"text-align: right;\">\n",
       "      <th></th>\n",
       "      <th>XGBoost Baseline</th>\n",
       "      <th>XGBoost Optimizado</th>\n",
       "    </tr>\n",
       "  </thead>\n",
       "  <tbody>\n",
       "    <tr>\n",
       "      <th>Error medio absoluto</th>\n",
       "      <td>2.214</td>\n",
       "      <td>1.888</td>\n",
       "    </tr>\n",
       "  </tbody>\n",
       "</table>\n",
       "</div>"
      ],
      "text/plain": [
       "                      XGBoost Baseline  XGBoost Optimizado\n",
       "Error medio absoluto             2.214               1.888"
      ]
     },
     "execution_count": 28,
     "metadata": {},
     "output_type": "execute_result"
    }
   ],
   "source": [
    "results_summary = pd.DataFrame(columns=['XGBoost Baseline', 'XGBoost Optimizado'])\n",
    "results_summary.loc['Error medio absoluto'] = [2.214, 1.888]\n",
    "results_summary"
   ]
  },
  {
   "cell_type": "code",
   "execution_count": 34,
   "metadata": {
    "Collapsed": "false"
   },
   "outputs": [
    {
     "data": {
      "text/plain": [
       "{'learning_rate': 0, 'max_depth': 2, 'n_estimators': 2, 'subsample': 0}"
      ]
     },
     "execution_count": 34,
     "metadata": {},
     "output_type": "execute_result"
    }
   ],
   "source": [
    "best"
   ]
  },
  {
   "cell_type": "code",
   "execution_count": 35,
   "metadata": {
    "Collapsed": "false"
   },
   "outputs": [],
   "source": [
    "best_model = XGBRegressor(\n",
    "        n_estimators = 1000,\n",
    "        learning_rate= 0.01,\n",
    "        max_depth= 7,\n",
    "        subsample= 0.8,\n",
    "        n_jobs= -1)"
   ]
  },
  {
   "cell_type": "markdown",
   "metadata": {
    "Collapsed": "false"
   },
   "source": [
    "## Exportar Exit Point"
   ]
  },
  {
   "cell_type": "code",
   "execution_count": 36,
   "metadata": {
    "Collapsed": "false"
   },
   "outputs": [],
   "source": [
    "filename = './data/5_XGB_Reg_Model.pkl'\n",
    "outfile = open(filename, 'wb')\n",
    "pickle.dump(best_model, outfile)\n",
    "outfile.close()"
   ]
  },
  {
   "cell_type": "code",
   "execution_count": null,
   "metadata": {},
   "outputs": [],
   "source": []
  }
 ],
 "metadata": {
  "kernelspec": {
   "display_name": "Python 3",
   "language": "python",
   "name": "python3"
  },
  "language_info": {
   "codemirror_mode": {
    "name": "ipython",
    "version": 3
   },
   "file_extension": ".py",
   "mimetype": "text/x-python",
   "name": "python",
   "nbconvert_exporter": "python",
   "pygments_lexer": "ipython3",
   "version": "3.7.3"
  }
 },
 "nbformat": 4,
 "nbformat_minor": 4
}
