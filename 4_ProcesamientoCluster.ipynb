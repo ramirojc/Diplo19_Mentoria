{
 "cells": [
  {
   "cell_type": "markdown",
   "metadata": {
    "Collapsed": "false"
   },
   "source": [
    "# Feauture Selection"
   ]
  },
  {
   "cell_type": "markdown",
   "metadata": {
    "Collapsed": "false"
   },
   "source": [
    "## Imports & Load Data"
   ]
  },
  {
   "cell_type": "code",
   "execution_count": null,
   "metadata": {
    "Collapsed": "false"
   },
   "outputs": [],
   "source": [
    "# Import the required packages\n",
    "import os\n",
    "import sys\n",
    "in_colab = 'google.colab' in sys.modules"
   ]
  },
  {
   "cell_type": "code",
   "execution_count": null,
   "metadata": {
    "Collapsed": "false"
   },
   "outputs": [],
   "source": [
    "if in_colab:\n",
    "    from google.colab import drive\n",
    "    drive.mount('/content/drive')\n",
    "    BASE_DIR = \"/content/drive/My Drive/Colab Notebooks/Data/\"\n",
    "else:\n",
    "    BASE_DIR = \"./Data/\""
   ]
  },
  {
   "cell_type": "code",
   "execution_count": 3,
   "metadata": {
    "Collapsed": "false"
   },
   "outputs": [],
   "source": [
    "import numpy as np\n",
    "import pandas as pd\n",
    "import seaborn as sns\n",
    "import matplotlib.pyplot as plt\n",
    "import pandas_profiling as pp\n",
    "import statsmodels.api as sm\n",
    "import pickle\n",
    "\n",
    "from sklearn import metrics\n",
    "from sklearn.preprocessing import QuantileTransformer\n",
    "from sklearn.model_selection import train_test_split\n",
    "from sklearn.ensemble import ExtraTreesRegressor\n",
    "from sklearn.linear_model import LinearRegression\n",
    "\n",
    "from xgboost.sklearn import XGBRegressor\n",
    "\n",
    "from IPython.display import display\n",
    "from time import time\n",
    "pd.options.display.float_format = '{:.2f}'.format\n",
    "%matplotlib inline \n",
    "import warnings\n",
    "warnings.filterwarnings('ignore')"
   ]
  },
  {
   "cell_type": "code",
   "execution_count": 4,
   "metadata": {
    "Collapsed": "false"
   },
   "outputs": [],
   "source": [
    "# Cargar endpoint\n",
    "infile = open(BASE_DIR+'21_ETL_Tabular.pkl','rb')\n",
    "tabular_ft = pickle.load(infile)\n",
    "infile.close()"
   ]
  },
  {
   "cell_type": "code",
   "execution_count": 5,
   "metadata": {
    "Collapsed": "false"
   },
   "outputs": [],
   "source": [
    "filename = BASE_DIR+'221_Graph_Metrics.pkl'\n",
    "infile = open(filename, 'rb')\n",
    "gmetrics_ft = pickle.load(infile)\n",
    "infile.close()"
   ]
  },
  {
   "cell_type": "code",
   "execution_count": 6,
   "metadata": {
    "Collapsed": "false"
   },
   "outputs": [],
   "source": [
    "filename = BASE_DIR+'222_ETRD_ROUTES_ELEC.pkl'\n",
    "infile = open(filename, 'rb')\n",
    "path_ft = pickle.load(infile)\n",
    "infile.close()"
   ]
  },
  {
   "cell_type": "code",
   "execution_count": 7,
   "metadata": {
    "Collapsed": "false"
   },
   "outputs": [],
   "source": [
    "filename = BASE_DIR+'1_OUTFT_UNTRD_FIC.pkl'\n",
    "infile = open(filename, 'rb')\n",
    "DEPVAR = pickle.load(infile)\n",
    "infile.close()"
   ]
  },
  {
   "cell_type": "markdown",
   "metadata": {
    "Collapsed": "false"
   },
   "source": [
    "## Preparar Datos"
   ]
  },
  {
   "cell_type": "code",
   "execution_count": 8,
   "metadata": {
    "Collapsed": "false"
   },
   "outputs": [],
   "source": [
    "def prepare_data(X, categoricas):\n",
    "    \n",
    "    X = pd.get_dummies(X.dropna(), columns=categoricas, dummy_na= True, drop_first= True)\n",
    "#    X = pd.get_dummies(X, columns = categoricas)\n",
    "\n",
    "    FIC = X.FIC\n",
    "    bin = np.array(FIC.values)\n",
    "    FIC_bin = pd.cut(bin, bins=4, labels=False)\n",
    " \n",
    "    X = X.drop(['FIC'], axis=1)\n",
    "    X = X.fillna(0)\n",
    "\n",
    "    return X, FIC, FIC_bin"
   ]
  },
  {
   "cell_type": "code",
   "execution_count": 9,
   "metadata": {
    "Collapsed": "false"
   },
   "outputs": [],
   "source": [
    "def backwardElimination(x, y, sl):\n",
    "    numVars = len(x[0])\n",
    "    for i in range(0, numVars):\n",
    "        regressor_OLS = sm.OLS(y, x).fit()\n",
    "        maxVar = max(regressor_OLS.pvalues)\n",
    "        if maxVar > sl:\n",
    "            for j in range(0, numVars - i):\n",
    "                if (regressor_OLS.pvalues[j] == maxVar):\n",
    "                    x = np.delete(x, j, 1)\n",
    "    regressor_OLS.summary()\n",
    "    return x"
   ]
  },
  {
   "cell_type": "code",
   "execution_count": 10,
   "metadata": {
    "Collapsed": "false"
   },
   "outputs": [],
   "source": [
    "def backwardEliminationRQ(x, y, SL):\n",
    "    numVars = len(x[0])\n",
    "    temp = np.zeros((x.shape)).astype(int)\n",
    "    for i in range(0, numVars):\n",
    "        regressor_OLS = sm.OLS(y, x).fit()\n",
    "        maxVar = max(regressor_OLS.pvalues)\n",
    "        adjR_before = regressor_OLS.rsquared_adj.astype(float)\n",
    "        if maxVar > SL:\n",
    "            for j in range(0, numVars - i):\n",
    "                if (regressor_OLS.pvalues[j].astype(float) == maxVar):\n",
    "                    temp[:,j] = x[:, j]\n",
    "                    x = np.delete(x, j, 1)\n",
    "                    tmp_regressor = sm.OLS(y, x).fit()\n",
    "                    adjR_after = tmp_regressor.rsquared_adj.astype(float)\n",
    "                    if (adjR_before >= adjR_after):\n",
    "                        x_rollback = np.hstack((x, temp[:,[0,j]]))\n",
    "                        x_rollback = np.delete(x_rollback, j, 1)\n",
    "                        print (regressor_OLS.summary())\n",
    "                        return x_rollback\n",
    "                    else:\n",
    "                        continue\n",
    "    regressor_OLS.summary()\n",
    "    return x"
   ]
  },
  {
   "cell_type": "code",
   "execution_count": 11,
   "metadata": {
    "Collapsed": "false"
   },
   "outputs": [],
   "source": [
    "tabular_cols = tabular_ft.columns"
   ]
  },
  {
   "cell_type": "code",
   "execution_count": 12,
   "metadata": {
    "Collapsed": "false"
   },
   "outputs": [],
   "source": [
    "gmetrics_cols = gmetrics_ft.columns"
   ]
  },
  {
   "cell_type": "code",
   "execution_count": 13,
   "metadata": {
    "Collapsed": "false"
   },
   "outputs": [],
   "source": [
    "path_ft.drop(['ROUTE_SUB','SID_ROUTE_SUB'], axis=1, inplace=True)\n",
    "path_cols = path_ft.columns"
   ]
  },
  {
   "cell_type": "code",
   "execution_count": 14,
   "metadata": {
    "Collapsed": "false"
   },
   "outputs": [],
   "source": [
    "data = pd.merge(tabular_ft, gmetrics_ft, on = 'COD_ID')\n",
    "data = pd.merge(data, path_ft, on = 'COD_ID')"
   ]
  },
  {
   "cell_type": "code",
   "execution_count": 15,
   "metadata": {
    "Collapsed": "false"
   },
   "outputs": [],
   "source": [
    "data = pd.merge(data, DEPVAR.reset_index(), left_on='COD_ID', right_on='UNI_TR_D')"
   ]
  },
  {
   "cell_type": "code",
   "execution_count": 16,
   "metadata": {
    "Collapsed": "false"
   },
   "outputs": [],
   "source": [
    "data.drop(['PAC_1','UNI_TR_D_x','UNI_TR_D_y','UNTRD_PCON_x','UNTRD_PCON_y','UNI_TR_S',\n",
    "           'CTMT_x','CTMT_y','SUB_x','SUB_y','CONJ','DESCR','CTMT_PCON'], axis=1, inplace=True)"
   ]
  },
  {
   "cell_type": "code",
   "execution_count": 17,
   "metadata": {
    "Collapsed": "false"
   },
   "outputs": [
    {
     "data": {
      "text/plain": [
       "(3540, 70)"
      ]
     },
     "execution_count": 17,
     "metadata": {},
     "output_type": "execute_result"
    }
   ],
   "source": [
    "data.shape"
   ]
  },
  {
   "cell_type": "code",
   "execution_count": 18,
   "metadata": {},
   "outputs": [],
   "source": [
    "data.set_index('COD_ID', drop=True, inplace=True)\n"
   ]
  },
  {
   "cell_type": "code",
   "execution_count": 19,
   "metadata": {},
   "outputs": [
    {
     "data": {
      "text/html": [
       "<div>\n",
       "<style scoped>\n",
       "    .dataframe tbody tr th:only-of-type {\n",
       "        vertical-align: middle;\n",
       "    }\n",
       "\n",
       "    .dataframe tbody tr th {\n",
       "        vertical-align: top;\n",
       "    }\n",
       "\n",
       "    .dataframe thead th {\n",
       "        text-align: right;\n",
       "    }\n",
       "</style>\n",
       "<table border=\"1\" class=\"dataframe\">\n",
       "  <thead>\n",
       "    <tr style=\"text-align: right;\">\n",
       "      <th></th>\n",
       "      <th>FAS_CON_P</th>\n",
       "      <th>FAS_CON_S</th>\n",
       "      <th>FAS_CON_T</th>\n",
       "      <th>TEN_LIN_SE</th>\n",
       "      <th>CAP_ELO</th>\n",
       "      <th>CAP_CHA</th>\n",
       "      <th>CONF</th>\n",
       "      <th>POSTO</th>\n",
       "      <th>POT_NOM</th>\n",
       "      <th>PER_FER</th>\n",
       "      <th>...</th>\n",
       "      <th>FCONV_R</th>\n",
       "      <th>I_MAX_MED_R</th>\n",
       "      <th>I_MAX_MIN_R</th>\n",
       "      <th>I_NOM_MED_R</th>\n",
       "      <th>I_NOM_MIN_R</th>\n",
       "      <th>REAC_SUB</th>\n",
       "      <th>RESI_SUB</th>\n",
       "      <th>Z_MOD_SUB</th>\n",
       "      <th>Z_ANG_SUB</th>\n",
       "      <th>FIC</th>\n",
       "    </tr>\n",
       "    <tr>\n",
       "      <th>COD_ID</th>\n",
       "      <th></th>\n",
       "      <th></th>\n",
       "      <th></th>\n",
       "      <th></th>\n",
       "      <th></th>\n",
       "      <th></th>\n",
       "      <th></th>\n",
       "      <th></th>\n",
       "      <th></th>\n",
       "      <th></th>\n",
       "      <th></th>\n",
       "      <th></th>\n",
       "      <th></th>\n",
       "      <th></th>\n",
       "      <th></th>\n",
       "      <th></th>\n",
       "      <th></th>\n",
       "      <th></th>\n",
       "      <th></th>\n",
       "      <th></th>\n",
       "      <th></th>\n",
       "    </tr>\n",
       "  </thead>\n",
       "  <tbody>\n",
       "    <tr>\n",
       "      <th>26879192</th>\n",
       "      <td>ABC</td>\n",
       "      <td>ABC</td>\n",
       "      <td>0</td>\n",
       "      <td>0.38</td>\n",
       "      <td>2H</td>\n",
       "      <td>12</td>\n",
       "      <td>RA</td>\n",
       "      <td>PT</td>\n",
       "      <td>45.00</td>\n",
       "      <td>0.47</td>\n",
       "      <td>...</td>\n",
       "      <td>0.47</td>\n",
       "      <td>365.00</td>\n",
       "      <td>130.00</td>\n",
       "      <td>365.00</td>\n",
       "      <td>130.00</td>\n",
       "      <td>2014.67</td>\n",
       "      <td>3303.26</td>\n",
       "      <td>3869.16</td>\n",
       "      <td>-31.38</td>\n",
       "      <td>1.00</td>\n",
       "    </tr>\n",
       "    <tr>\n",
       "      <th>26880293</th>\n",
       "      <td>ABC</td>\n",
       "      <td>ABC</td>\n",
       "      <td>0</td>\n",
       "      <td>0.38</td>\n",
       "      <td>5H</td>\n",
       "      <td>12</td>\n",
       "      <td>RA</td>\n",
       "      <td>PT</td>\n",
       "      <td>112.50</td>\n",
       "      <td>0.38</td>\n",
       "      <td>...</td>\n",
       "      <td>0.46</td>\n",
       "      <td>438.00</td>\n",
       "      <td>97.00</td>\n",
       "      <td>438.00</td>\n",
       "      <td>97.00</td>\n",
       "      <td>1400.15</td>\n",
       "      <td>4011.34</td>\n",
       "      <td>4248.68</td>\n",
       "      <td>-19.24</td>\n",
       "      <td>0.00</td>\n",
       "    </tr>\n",
       "    <tr>\n",
       "      <th>26880293</th>\n",
       "      <td>ABC</td>\n",
       "      <td>ABC</td>\n",
       "      <td>0</td>\n",
       "      <td>0.38</td>\n",
       "      <td>5H</td>\n",
       "      <td>12</td>\n",
       "      <td>RA</td>\n",
       "      <td>PT</td>\n",
       "      <td>112.50</td>\n",
       "      <td>0.38</td>\n",
       "      <td>...</td>\n",
       "      <td>0.46</td>\n",
       "      <td>438.00</td>\n",
       "      <td>97.00</td>\n",
       "      <td>438.00</td>\n",
       "      <td>97.00</td>\n",
       "      <td>1400.15</td>\n",
       "      <td>4011.34</td>\n",
       "      <td>4248.68</td>\n",
       "      <td>-19.24</td>\n",
       "      <td>0.00</td>\n",
       "    </tr>\n",
       "    <tr>\n",
       "      <th>26880295</th>\n",
       "      <td>ABC</td>\n",
       "      <td>ABC</td>\n",
       "      <td>0</td>\n",
       "      <td>0.38</td>\n",
       "      <td>3H</td>\n",
       "      <td>12</td>\n",
       "      <td>RA</td>\n",
       "      <td>PT</td>\n",
       "      <td>75.00</td>\n",
       "      <td>0.43</td>\n",
       "      <td>...</td>\n",
       "      <td>0.46</td>\n",
       "      <td>438.00</td>\n",
       "      <td>97.00</td>\n",
       "      <td>438.00</td>\n",
       "      <td>97.00</td>\n",
       "      <td>1448.22</td>\n",
       "      <td>4062.81</td>\n",
       "      <td>4313.21</td>\n",
       "      <td>-19.62</td>\n",
       "      <td>0.00</td>\n",
       "    </tr>\n",
       "    <tr>\n",
       "      <th>26880295</th>\n",
       "      <td>ABC</td>\n",
       "      <td>ABC</td>\n",
       "      <td>0</td>\n",
       "      <td>0.38</td>\n",
       "      <td>3H</td>\n",
       "      <td>12</td>\n",
       "      <td>RA</td>\n",
       "      <td>PT</td>\n",
       "      <td>75.00</td>\n",
       "      <td>0.43</td>\n",
       "      <td>...</td>\n",
       "      <td>0.46</td>\n",
       "      <td>438.00</td>\n",
       "      <td>97.00</td>\n",
       "      <td>438.00</td>\n",
       "      <td>97.00</td>\n",
       "      <td>1448.22</td>\n",
       "      <td>4062.81</td>\n",
       "      <td>4313.21</td>\n",
       "      <td>-19.62</td>\n",
       "      <td>0.00</td>\n",
       "    </tr>\n",
       "    <tr>\n",
       "      <th>...</th>\n",
       "      <td>...</td>\n",
       "      <td>...</td>\n",
       "      <td>...</td>\n",
       "      <td>...</td>\n",
       "      <td>...</td>\n",
       "      <td>...</td>\n",
       "      <td>...</td>\n",
       "      <td>...</td>\n",
       "      <td>...</td>\n",
       "      <td>...</td>\n",
       "      <td>...</td>\n",
       "      <td>...</td>\n",
       "      <td>...</td>\n",
       "      <td>...</td>\n",
       "      <td>...</td>\n",
       "      <td>...</td>\n",
       "      <td>...</td>\n",
       "      <td>...</td>\n",
       "      <td>...</td>\n",
       "      <td>...</td>\n",
       "      <td>...</td>\n",
       "    </tr>\n",
       "    <tr>\n",
       "      <th>26878633</th>\n",
       "      <td>ABC</td>\n",
       "      <td>ABCN</td>\n",
       "      <td>0</td>\n",
       "      <td>0.38</td>\n",
       "      <td>1H</td>\n",
       "      <td>12</td>\n",
       "      <td>RA</td>\n",
       "      <td>PT</td>\n",
       "      <td>30.00</td>\n",
       "      <td>0.54</td>\n",
       "      <td>...</td>\n",
       "      <td>0.44</td>\n",
       "      <td>168.00</td>\n",
       "      <td>95.00</td>\n",
       "      <td>168.00</td>\n",
       "      <td>95.00</td>\n",
       "      <td>6754.61</td>\n",
       "      <td>11607.73</td>\n",
       "      <td>13429.97</td>\n",
       "      <td>-30.20</td>\n",
       "      <td>16.00</td>\n",
       "    </tr>\n",
       "    <tr>\n",
       "      <th>26878634</th>\n",
       "      <td>ABC</td>\n",
       "      <td>ABC</td>\n",
       "      <td>0</td>\n",
       "      <td>0.22</td>\n",
       "      <td>05H</td>\n",
       "      <td>12</td>\n",
       "      <td>RA</td>\n",
       "      <td>PT</td>\n",
       "      <td>15.00</td>\n",
       "      <td>0.62</td>\n",
       "      <td>...</td>\n",
       "      <td>0.46</td>\n",
       "      <td>168.00</td>\n",
       "      <td>95.00</td>\n",
       "      <td>168.00</td>\n",
       "      <td>95.00</td>\n",
       "      <td>6680.84</td>\n",
       "      <td>11380.55</td>\n",
       "      <td>13196.61</td>\n",
       "      <td>-30.41</td>\n",
       "      <td>8.00</td>\n",
       "    </tr>\n",
       "    <tr>\n",
       "      <th>26878635</th>\n",
       "      <td>B</td>\n",
       "      <td>BN</td>\n",
       "      <td>NULL</td>\n",
       "      <td>0.23</td>\n",
       "      <td>1H</td>\n",
       "      <td>12</td>\n",
       "      <td>RA</td>\n",
       "      <td>PT</td>\n",
       "      <td>10.00</td>\n",
       "      <td>0.54</td>\n",
       "      <td>...</td>\n",
       "      <td>0.45</td>\n",
       "      <td>168.00</td>\n",
       "      <td>95.00</td>\n",
       "      <td>168.00</td>\n",
       "      <td>95.00</td>\n",
       "      <td>7114.83</td>\n",
       "      <td>12292.00</td>\n",
       "      <td>14202.61</td>\n",
       "      <td>-30.06</td>\n",
       "      <td>8.00</td>\n",
       "    </tr>\n",
       "    <tr>\n",
       "      <th>26878636</th>\n",
       "      <td>ABC</td>\n",
       "      <td>ABCN</td>\n",
       "      <td>0</td>\n",
       "      <td>0.38</td>\n",
       "      <td>2H</td>\n",
       "      <td>12</td>\n",
       "      <td>RA</td>\n",
       "      <td>PT</td>\n",
       "      <td>45.00</td>\n",
       "      <td>0.47</td>\n",
       "      <td>...</td>\n",
       "      <td>0.43</td>\n",
       "      <td>168.00</td>\n",
       "      <td>95.00</td>\n",
       "      <td>168.00</td>\n",
       "      <td>95.00</td>\n",
       "      <td>7182.67</td>\n",
       "      <td>12571.93</td>\n",
       "      <td>14479.10</td>\n",
       "      <td>-29.74</td>\n",
       "      <td>13.00</td>\n",
       "    </tr>\n",
       "    <tr>\n",
       "      <th>26878637</th>\n",
       "      <td>ABC</td>\n",
       "      <td>ABCN</td>\n",
       "      <td>0</td>\n",
       "      <td>0.38</td>\n",
       "      <td>05H</td>\n",
       "      <td>12</td>\n",
       "      <td>RA</td>\n",
       "      <td>PT</td>\n",
       "      <td>15.00</td>\n",
       "      <td>0.62</td>\n",
       "      <td>...</td>\n",
       "      <td>0.43</td>\n",
       "      <td>168.00</td>\n",
       "      <td>95.00</td>\n",
       "      <td>168.00</td>\n",
       "      <td>95.00</td>\n",
       "      <td>7258.76</td>\n",
       "      <td>12744.86</td>\n",
       "      <td>14667.00</td>\n",
       "      <td>-29.66</td>\n",
       "      <td>18.00</td>\n",
       "    </tr>\n",
       "  </tbody>\n",
       "</table>\n",
       "<p>3540 rows × 69 columns</p>\n",
       "</div>"
      ],
      "text/plain": [
       "         FAS_CON_P FAS_CON_S FAS_CON_T  TEN_LIN_SE CAP_ELO CAP_CHA CONF POSTO  \\\n",
       "COD_ID                                                                          \n",
       "26879192       ABC       ABC         0        0.38      2H      12   RA    PT   \n",
       "26880293       ABC       ABC         0        0.38      5H      12   RA    PT   \n",
       "26880293       ABC       ABC         0        0.38      5H      12   RA    PT   \n",
       "26880295       ABC       ABC         0        0.38      3H      12   RA    PT   \n",
       "26880295       ABC       ABC         0        0.38      3H      12   RA    PT   \n",
       "...            ...       ...       ...         ...     ...     ...  ...   ...   \n",
       "26878633       ABC      ABCN         0        0.38      1H      12   RA    PT   \n",
       "26878634       ABC       ABC         0        0.22     05H      12   RA    PT   \n",
       "26878635         B        BN      NULL        0.23      1H      12   RA    PT   \n",
       "26878636       ABC      ABCN         0        0.38      2H      12   RA    PT   \n",
       "26878637       ABC      ABCN         0        0.38     05H      12   RA    PT   \n",
       "\n",
       "          POT_NOM  PER_FER  ...  FCONV_R I_MAX_MED_R I_MAX_MIN_R I_NOM_MED_R  \\\n",
       "COD_ID                      ...                                                \n",
       "26879192    45.00     0.47  ...     0.47      365.00      130.00      365.00   \n",
       "26880293   112.50     0.38  ...     0.46      438.00       97.00      438.00   \n",
       "26880293   112.50     0.38  ...     0.46      438.00       97.00      438.00   \n",
       "26880295    75.00     0.43  ...     0.46      438.00       97.00      438.00   \n",
       "26880295    75.00     0.43  ...     0.46      438.00       97.00      438.00   \n",
       "...           ...      ...  ...      ...         ...         ...         ...   \n",
       "26878633    30.00     0.54  ...     0.44      168.00       95.00      168.00   \n",
       "26878634    15.00     0.62  ...     0.46      168.00       95.00      168.00   \n",
       "26878635    10.00     0.54  ...     0.45      168.00       95.00      168.00   \n",
       "26878636    45.00     0.47  ...     0.43      168.00       95.00      168.00   \n",
       "26878637    15.00     0.62  ...     0.43      168.00       95.00      168.00   \n",
       "\n",
       "         I_NOM_MIN_R REAC_SUB RESI_SUB Z_MOD_SUB  Z_ANG_SUB   FIC  \n",
       "COD_ID                                                             \n",
       "26879192      130.00  2014.67  3303.26   3869.16     -31.38  1.00  \n",
       "26880293       97.00  1400.15  4011.34   4248.68     -19.24  0.00  \n",
       "26880293       97.00  1400.15  4011.34   4248.68     -19.24  0.00  \n",
       "26880295       97.00  1448.22  4062.81   4313.21     -19.62  0.00  \n",
       "26880295       97.00  1448.22  4062.81   4313.21     -19.62  0.00  \n",
       "...              ...      ...      ...       ...        ...   ...  \n",
       "26878633       95.00  6754.61 11607.73  13429.97     -30.20 16.00  \n",
       "26878634       95.00  6680.84 11380.55  13196.61     -30.41  8.00  \n",
       "26878635       95.00  7114.83 12292.00  14202.61     -30.06  8.00  \n",
       "26878636       95.00  7182.67 12571.93  14479.10     -29.74 13.00  \n",
       "26878637       95.00  7258.76 12744.86  14667.00     -29.66 18.00  \n",
       "\n",
       "[3540 rows x 69 columns]"
      ]
     },
     "execution_count": 19,
     "metadata": {},
     "output_type": "execute_result"
    }
   ],
   "source": [
    "data"
   ]
  },
  {
   "cell_type": "code",
   "execution_count": 20,
   "metadata": {
    "Collapsed": "false"
   },
   "outputs": [
    {
     "data": {
      "text/plain": [
       "Index(['FAS_CON_P', 'FAS_CON_S', 'FAS_CON_T', 'TEN_LIN_SE', 'CAP_ELO',\n",
       "       'CAP_CHA', 'CONF', 'POSTO', 'POT_NOM', 'PER_FER', 'PER_TOT',\n",
       "       'TIP_TRAFO', 'ARE_LOC', 'CLAS_SUB', 'CNAE', 'TIP_CC', 'TEN_FORN',\n",
       "       'GRU_TAR', 'CAR_INST', 'UCBT_ENE_MED', 'UCBT_ENE_STD', 'UCBT_ENE_MAX',\n",
       "       'NCON', 'NCON_URB', 'CTMT_ENE_MED', 'CTMT_ENE_STD', 'CTMT_ENE_MAX',\n",
       "       'PERD_A3a', 'PERD_A4', 'PERD_B', 'PERD_MED', 'PERD_A3a_B', 'PERD_A4_B',\n",
       "       'PERD_B_A3a', 'PERD_B_A4', 'CTMT_PNTMT_MED', 'CTMT_PNTMT_STD',\n",
       "       'CTMT_PNTMT_MAX', 'CTMT_PNTBT_MED', 'CTMT_PNTBT_STD', 'CTMT_PNTBT_MAX',\n",
       "       'POT_NOM_TRS', 'POT_F01', 'POT_F02', 'PER_FER_TRS', 'PER_TOT_TRS',\n",
       "       'TIP_TRAFO_TRS', 'UNTRS_ENES_MED', 'UNTRS_ENES_STD', 'UNTRS_ENES_MAX',\n",
       "       'UNTRS_ENET_MED', 'UNTRS_ENET_STD', 'UNTRS_ENET_MAX', 'DEGREE',\n",
       "       'NEIG_DEGREE', 'BET_CEN', 'CLO_CEN', 'PAGE_RANK', 'DISTANCE_SUB',\n",
       "       'FCONV_R', 'I_MAX_MED_R', 'I_MAX_MIN_R', 'I_NOM_MED_R', 'I_NOM_MIN_R',\n",
       "       'REAC_SUB', 'RESI_SUB', 'Z_MOD_SUB', 'Z_ANG_SUB', 'FIC'],\n",
       "      dtype='object')"
      ]
     },
     "execution_count": 20,
     "metadata": {},
     "output_type": "execute_result"
    }
   ],
   "source": [
    "data.columns"
   ]
  },
  {
   "cell_type": "markdown",
   "metadata": {
    "Collapsed": "false"
   },
   "source": [
    "### Evaluación de correlacion y sesgo mediante el perfilador de pandas"
   ]
  },
  {
   "cell_type": "code",
   "execution_count": 21,
   "metadata": {
    "Collapsed": "false"
   },
   "outputs": [],
   "source": [
    "#pp.ProfileReport(data)"
   ]
  },
  {
   "cell_type": "code",
   "execution_count": 22,
   "metadata": {
    "Collapsed": "false"
   },
   "outputs": [],
   "source": [
    "## Reconfiguración del dataset de acuerdo al analisis del perfilador\n",
    "\n",
    "# Se eliminan variables con alta correlacion y con alta cardinalidad\n",
    "\n",
    "data.drop(['UCBT_ENE_MAX', 'NCON', 'CTMT_ENE_MAX', 'PERD_A3a', 'PERD_A3a_B', 'PERD_B_A3a', 'PERD_B_A4',\n",
    "           'CTMT_PNTMT_MAX', 'POT_F01', 'POT_F02', 'PER_TOT_TRS', 'TIP_TRAFO_TRS', 'UNTRS_ENES_MED', \n",
    "           'UNTRS_ENES_STD', 'UNTRS_ENES_MAX', 'UNTRS_ENET_MED', 'UNTRS_ENET_STD', 'UNTRS_ENET_MAX', \n",
    "           'RESI_SUB', 'REAC_SUB', 'I_MAX_MED_R', 'I_MAX_MIN_R', 'Z_MOD_SUB'], axis=1, inplace=True)"
   ]
  },
  {
   "cell_type": "code",
   "execution_count": 23,
   "metadata": {
    "Collapsed": "false"
   },
   "outputs": [
    {
     "data": {
      "text/plain": [
       "Index(['TEN_LIN_SE', 'POT_NOM', 'PER_FER', 'PER_TOT', 'CAR_INST',\n",
       "       'UCBT_ENE_MED', 'UCBT_ENE_STD', 'NCON_URB', 'CTMT_ENE_MED',\n",
       "       'CTMT_ENE_STD', 'PERD_A4', 'PERD_B', 'PERD_MED', 'PERD_A4_B',\n",
       "       'CTMT_PNTMT_MED', 'CTMT_PNTMT_STD', 'CTMT_PNTBT_MED', 'CTMT_PNTBT_STD',\n",
       "       'CTMT_PNTBT_MAX', 'POT_NOM_TRS', 'PER_FER_TRS', 'DEGREE', 'NEIG_DEGREE',\n",
       "       'BET_CEN', 'CLO_CEN', 'PAGE_RANK', 'DISTANCE_SUB', 'FCONV_R',\n",
       "       'I_NOM_MED_R', 'I_NOM_MIN_R', 'Z_ANG_SUB', 'FIC'],\n",
       "      dtype='object')"
      ]
     },
     "execution_count": 23,
     "metadata": {},
     "output_type": "execute_result"
    }
   ],
   "source": [
    "continuas = data.describe(exclude='O').columns\n",
    "continuas"
   ]
  },
  {
   "cell_type": "code",
   "execution_count": 24,
   "metadata": {
    "Collapsed": "false"
   },
   "outputs": [
    {
     "data": {
      "text/html": [
       "<div>\n",
       "<style scoped>\n",
       "    .dataframe tbody tr th:only-of-type {\n",
       "        vertical-align: middle;\n",
       "    }\n",
       "\n",
       "    .dataframe tbody tr th {\n",
       "        vertical-align: top;\n",
       "    }\n",
       "\n",
       "    .dataframe thead th {\n",
       "        text-align: right;\n",
       "    }\n",
       "</style>\n",
       "<table border=\"1\" class=\"dataframe\">\n",
       "  <thead>\n",
       "    <tr style=\"text-align: right;\">\n",
       "      <th></th>\n",
       "      <th>TEN_LIN_SE</th>\n",
       "      <th>POT_NOM</th>\n",
       "      <th>PER_FER</th>\n",
       "      <th>PER_TOT</th>\n",
       "      <th>CAR_INST</th>\n",
       "      <th>UCBT_ENE_MED</th>\n",
       "      <th>UCBT_ENE_STD</th>\n",
       "      <th>NCON_URB</th>\n",
       "      <th>CTMT_ENE_MED</th>\n",
       "      <th>CTMT_ENE_STD</th>\n",
       "      <th>...</th>\n",
       "      <th>NEIG_DEGREE</th>\n",
       "      <th>BET_CEN</th>\n",
       "      <th>CLO_CEN</th>\n",
       "      <th>PAGE_RANK</th>\n",
       "      <th>DISTANCE_SUB</th>\n",
       "      <th>FCONV_R</th>\n",
       "      <th>I_NOM_MED_R</th>\n",
       "      <th>I_NOM_MIN_R</th>\n",
       "      <th>Z_ANG_SUB</th>\n",
       "      <th>FIC</th>\n",
       "    </tr>\n",
       "  </thead>\n",
       "  <tbody>\n",
       "    <tr>\n",
       "      <th>count</th>\n",
       "      <td>3540.00</td>\n",
       "      <td>3540.00</td>\n",
       "      <td>3540.00</td>\n",
       "      <td>3540.00</td>\n",
       "      <td>3540.00</td>\n",
       "      <td>3540.00</td>\n",
       "      <td>3540.00</td>\n",
       "      <td>3540.00</td>\n",
       "      <td>3540.00</td>\n",
       "      <td>3540.00</td>\n",
       "      <td>...</td>\n",
       "      <td>3540.00</td>\n",
       "      <td>3540.00</td>\n",
       "      <td>3540.00</td>\n",
       "      <td>3540.00</td>\n",
       "      <td>3540.00</td>\n",
       "      <td>3538.00</td>\n",
       "      <td>3538.00</td>\n",
       "      <td>3538.00</td>\n",
       "      <td>3540.00</td>\n",
       "      <td>3540.00</td>\n",
       "    </tr>\n",
       "    <tr>\n",
       "      <th>mean</th>\n",
       "      <td>0.34</td>\n",
       "      <td>50.37</td>\n",
       "      <td>0.49</td>\n",
       "      <td>354.06</td>\n",
       "      <td>242.22</td>\n",
       "      <td>5580.52</td>\n",
       "      <td>62.13</td>\n",
       "      <td>2.61</td>\n",
       "      <td>992189.85</td>\n",
       "      <td>57921.00</td>\n",
       "      <td>...</td>\n",
       "      <td>2.20</td>\n",
       "      <td>0.08</td>\n",
       "      <td>0.01</td>\n",
       "      <td>0.00</td>\n",
       "      <td>11459.53</td>\n",
       "      <td>0.47</td>\n",
       "      <td>364.27</td>\n",
       "      <td>85.78</td>\n",
       "      <td>-31.51</td>\n",
       "      <td>7.95</td>\n",
       "    </tr>\n",
       "    <tr>\n",
       "      <th>std</th>\n",
       "      <td>0.07</td>\n",
       "      <td>50.72</td>\n",
       "      <td>0.11</td>\n",
       "      <td>350.13</td>\n",
       "      <td>315.36</td>\n",
       "      <td>19925.54</td>\n",
       "      <td>269.36</td>\n",
       "      <td>6.66</td>\n",
       "      <td>515926.90</td>\n",
       "      <td>32526.83</td>\n",
       "      <td>...</td>\n",
       "      <td>0.41</td>\n",
       "      <td>0.13</td>\n",
       "      <td>0.01</td>\n",
       "      <td>0.00</td>\n",
       "      <td>9423.00</td>\n",
       "      <td>0.09</td>\n",
       "      <td>94.76</td>\n",
       "      <td>53.63</td>\n",
       "      <td>11.29</td>\n",
       "      <td>6.74</td>\n",
       "    </tr>\n",
       "    <tr>\n",
       "      <th>min</th>\n",
       "      <td>0.22</td>\n",
       "      <td>5.00</td>\n",
       "      <td>0.17</td>\n",
       "      <td>0.14</td>\n",
       "      <td>0.00</td>\n",
       "      <td>0.00</td>\n",
       "      <td>0.00</td>\n",
       "      <td>0.00</td>\n",
       "      <td>148659.28</td>\n",
       "      <td>12429.24</td>\n",
       "      <td>...</td>\n",
       "      <td>1.33</td>\n",
       "      <td>0.00</td>\n",
       "      <td>0.00</td>\n",
       "      <td>0.00</td>\n",
       "      <td>0.00</td>\n",
       "      <td>0.13</td>\n",
       "      <td>97.00</td>\n",
       "      <td>54.00</td>\n",
       "      <td>-62.69</td>\n",
       "      <td>0.00</td>\n",
       "    </tr>\n",
       "    <tr>\n",
       "      <th>25%</th>\n",
       "      <td>0.23</td>\n",
       "      <td>15.00</td>\n",
       "      <td>0.43</td>\n",
       "      <td>1.89</td>\n",
       "      <td>18.50</td>\n",
       "      <td>283.75</td>\n",
       "      <td>19.31</td>\n",
       "      <td>0.00</td>\n",
       "      <td>612463.25</td>\n",
       "      <td>39736.28</td>\n",
       "      <td>...</td>\n",
       "      <td>2.00</td>\n",
       "      <td>0.00</td>\n",
       "      <td>0.00</td>\n",
       "      <td>0.00</td>\n",
       "      <td>3955.11</td>\n",
       "      <td>0.41</td>\n",
       "      <td>330.00</td>\n",
       "      <td>54.00</td>\n",
       "      <td>-39.89</td>\n",
       "      <td>2.00</td>\n",
       "    </tr>\n",
       "    <tr>\n",
       "      <th>50%</th>\n",
       "      <td>0.38</td>\n",
       "      <td>45.00</td>\n",
       "      <td>0.47</td>\n",
       "      <td>245.00</td>\n",
       "      <td>75.55</td>\n",
       "      <td>1634.00</td>\n",
       "      <td>24.78</td>\n",
       "      <td>0.00</td>\n",
       "      <td>884878.76</td>\n",
       "      <td>49923.49</td>\n",
       "      <td>...</td>\n",
       "      <td>2.00</td>\n",
       "      <td>0.01</td>\n",
       "      <td>0.01</td>\n",
       "      <td>0.00</td>\n",
       "      <td>8985.54</td>\n",
       "      <td>0.45</td>\n",
       "      <td>365.00</td>\n",
       "      <td>95.00</td>\n",
       "      <td>-31.13</td>\n",
       "      <td>6.00</td>\n",
       "    </tr>\n",
       "    <tr>\n",
       "      <th>75%</th>\n",
       "      <td>0.38</td>\n",
       "      <td>75.00</td>\n",
       "      <td>0.54</td>\n",
       "      <td>695.00</td>\n",
       "      <td>387.92</td>\n",
       "      <td>8342.88</td>\n",
       "      <td>36.93</td>\n",
       "      <td>2.00</td>\n",
       "      <td>1239099.83</td>\n",
       "      <td>66985.50</td>\n",
       "      <td>...</td>\n",
       "      <td>2.50</td>\n",
       "      <td>0.09</td>\n",
       "      <td>0.01</td>\n",
       "      <td>0.00</td>\n",
       "      <td>16985.15</td>\n",
       "      <td>0.50</td>\n",
       "      <td>438.00</td>\n",
       "      <td>97.00</td>\n",
       "      <td>-22.22</td>\n",
       "      <td>13.00</td>\n",
       "    </tr>\n",
       "    <tr>\n",
       "      <th>max</th>\n",
       "      <td>0.44</td>\n",
       "      <td>1500.00</td>\n",
       "      <td>0.76</td>\n",
       "      <td>945.00</td>\n",
       "      <td>2400.73</td>\n",
       "      <td>1112697.50</td>\n",
       "      <td>10184.95</td>\n",
       "      <td>101.00</td>\n",
       "      <td>2276963.08</td>\n",
       "      <td>141887.74</td>\n",
       "      <td>...</td>\n",
       "      <td>5.00</td>\n",
       "      <td>0.51</td>\n",
       "      <td>0.09</td>\n",
       "      <td>0.02</td>\n",
       "      <td>46826.17</td>\n",
       "      <td>0.90</td>\n",
       "      <td>505.00</td>\n",
       "      <td>495.00</td>\n",
       "      <td>0.00</td>\n",
       "      <td>40.50</td>\n",
       "    </tr>\n",
       "  </tbody>\n",
       "</table>\n",
       "<p>8 rows × 32 columns</p>\n",
       "</div>"
      ],
      "text/plain": [
       "       TEN_LIN_SE  POT_NOM  PER_FER  PER_TOT  CAR_INST  UCBT_ENE_MED  \\\n",
       "count     3540.00  3540.00  3540.00  3540.00   3540.00       3540.00   \n",
       "mean         0.34    50.37     0.49   354.06    242.22       5580.52   \n",
       "std          0.07    50.72     0.11   350.13    315.36      19925.54   \n",
       "min          0.22     5.00     0.17     0.14      0.00          0.00   \n",
       "25%          0.23    15.00     0.43     1.89     18.50        283.75   \n",
       "50%          0.38    45.00     0.47   245.00     75.55       1634.00   \n",
       "75%          0.38    75.00     0.54   695.00    387.92       8342.88   \n",
       "max          0.44  1500.00     0.76   945.00   2400.73    1112697.50   \n",
       "\n",
       "       UCBT_ENE_STD  NCON_URB  CTMT_ENE_MED  CTMT_ENE_STD  ...  NEIG_DEGREE  \\\n",
       "count       3540.00   3540.00       3540.00       3540.00  ...      3540.00   \n",
       "mean          62.13      2.61     992189.85      57921.00  ...         2.20   \n",
       "std          269.36      6.66     515926.90      32526.83  ...         0.41   \n",
       "min            0.00      0.00     148659.28      12429.24  ...         1.33   \n",
       "25%           19.31      0.00     612463.25      39736.28  ...         2.00   \n",
       "50%           24.78      0.00     884878.76      49923.49  ...         2.00   \n",
       "75%           36.93      2.00    1239099.83      66985.50  ...         2.50   \n",
       "max        10184.95    101.00    2276963.08     141887.74  ...         5.00   \n",
       "\n",
       "       BET_CEN  CLO_CEN  PAGE_RANK  DISTANCE_SUB  FCONV_R  I_NOM_MED_R  \\\n",
       "count  3540.00  3540.00    3540.00       3540.00  3538.00      3538.00   \n",
       "mean      0.08     0.01       0.00      11459.53     0.47       364.27   \n",
       "std       0.13     0.01       0.00       9423.00     0.09        94.76   \n",
       "min       0.00     0.00       0.00          0.00     0.13        97.00   \n",
       "25%       0.00     0.00       0.00       3955.11     0.41       330.00   \n",
       "50%       0.01     0.01       0.00       8985.54     0.45       365.00   \n",
       "75%       0.09     0.01       0.00      16985.15     0.50       438.00   \n",
       "max       0.51     0.09       0.02      46826.17     0.90       505.00   \n",
       "\n",
       "       I_NOM_MIN_R  Z_ANG_SUB     FIC  \n",
       "count      3538.00    3540.00 3540.00  \n",
       "mean         85.78     -31.51    7.95  \n",
       "std          53.63      11.29    6.74  \n",
       "min          54.00     -62.69    0.00  \n",
       "25%          54.00     -39.89    2.00  \n",
       "50%          95.00     -31.13    6.00  \n",
       "75%          97.00     -22.22   13.00  \n",
       "max         495.00       0.00   40.50  \n",
       "\n",
       "[8 rows x 32 columns]"
      ]
     },
     "execution_count": 24,
     "metadata": {},
     "output_type": "execute_result"
    }
   ],
   "source": [
    "data[continuas].describe()"
   ]
  },
  {
   "cell_type": "code",
   "execution_count": 25,
   "metadata": {
    "Collapsed": "false"
   },
   "outputs": [],
   "source": [
    "categoricas = data.describe(include ='O').columns"
   ]
  },
  {
   "cell_type": "code",
   "execution_count": 26,
   "metadata": {
    "Collapsed": "false"
   },
   "outputs": [
    {
     "data": {
      "text/plain": [
       "Index(['FAS_CON_P', 'FAS_CON_S', 'FAS_CON_T', 'CAP_ELO', 'CAP_CHA', 'CONF',\n",
       "       'POSTO', 'TIP_TRAFO', 'ARE_LOC', 'CLAS_SUB', 'CNAE', 'TIP_CC',\n",
       "       'TEN_FORN', 'GRU_TAR'],\n",
       "      dtype='object')"
      ]
     },
     "execution_count": 26,
     "metadata": {},
     "output_type": "execute_result"
    }
   ],
   "source": [
    "categoricas"
   ]
  },
  {
   "cell_type": "code",
   "execution_count": 27,
   "metadata": {
    "Collapsed": "false"
   },
   "outputs": [
    {
     "data": {
      "text/html": [
       "<div>\n",
       "<style scoped>\n",
       "    .dataframe tbody tr th:only-of-type {\n",
       "        vertical-align: middle;\n",
       "    }\n",
       "\n",
       "    .dataframe tbody tr th {\n",
       "        vertical-align: top;\n",
       "    }\n",
       "\n",
       "    .dataframe thead th {\n",
       "        text-align: right;\n",
       "    }\n",
       "</style>\n",
       "<table border=\"1\" class=\"dataframe\">\n",
       "  <thead>\n",
       "    <tr style=\"text-align: right;\">\n",
       "      <th></th>\n",
       "      <th>FAS_CON_P</th>\n",
       "      <th>FAS_CON_S</th>\n",
       "      <th>FAS_CON_T</th>\n",
       "      <th>CAP_ELO</th>\n",
       "      <th>CAP_CHA</th>\n",
       "      <th>CONF</th>\n",
       "      <th>POSTO</th>\n",
       "      <th>TIP_TRAFO</th>\n",
       "      <th>ARE_LOC</th>\n",
       "      <th>CLAS_SUB</th>\n",
       "      <th>CNAE</th>\n",
       "      <th>TIP_CC</th>\n",
       "      <th>TEN_FORN</th>\n",
       "      <th>GRU_TAR</th>\n",
       "    </tr>\n",
       "  </thead>\n",
       "  <tbody>\n",
       "    <tr>\n",
       "      <th>count</th>\n",
       "      <td>3540</td>\n",
       "      <td>3540</td>\n",
       "      <td>3540</td>\n",
       "      <td>3540</td>\n",
       "      <td>3540</td>\n",
       "      <td>3540</td>\n",
       "      <td>3540</td>\n",
       "      <td>3540</td>\n",
       "      <td>3540</td>\n",
       "      <td>3540</td>\n",
       "      <td>3540</td>\n",
       "      <td>3540</td>\n",
       "      <td>3540</td>\n",
       "      <td>3540</td>\n",
       "    </tr>\n",
       "    <tr>\n",
       "      <th>unique</th>\n",
       "      <td>7</td>\n",
       "      <td>11</td>\n",
       "      <td>4</td>\n",
       "      <td>11</td>\n",
       "      <td>2</td>\n",
       "      <td>2</td>\n",
       "      <td>3</td>\n",
       "      <td>4</td>\n",
       "      <td>2</td>\n",
       "      <td>16</td>\n",
       "      <td>70</td>\n",
       "      <td>47</td>\n",
       "      <td>5</td>\n",
       "      <td>4</td>\n",
       "    </tr>\n",
       "    <tr>\n",
       "      <th>top</th>\n",
       "      <td>ABC</td>\n",
       "      <td>ABC</td>\n",
       "      <td>0</td>\n",
       "      <td>2H</td>\n",
       "      <td>12</td>\n",
       "      <td>RA</td>\n",
       "      <td>PT</td>\n",
       "      <td>T</td>\n",
       "      <td>UB</td>\n",
       "      <td>RE1</td>\n",
       "      <td>99999</td>\n",
       "      <td>RES-Tipo2</td>\n",
       "      <td>15</td>\n",
       "      <td>B1</td>\n",
       "    </tr>\n",
       "    <tr>\n",
       "      <th>freq</th>\n",
       "      <td>2519</td>\n",
       "      <td>2019</td>\n",
       "      <td>2620</td>\n",
       "      <td>767</td>\n",
       "      <td>3402</td>\n",
       "      <td>3535</td>\n",
       "      <td>3533</td>\n",
       "      <td>2519</td>\n",
       "      <td>1975</td>\n",
       "      <td>3066</td>\n",
       "      <td>3014</td>\n",
       "      <td>571</td>\n",
       "      <td>2478</td>\n",
       "      <td>3049</td>\n",
       "    </tr>\n",
       "  </tbody>\n",
       "</table>\n",
       "</div>"
      ],
      "text/plain": [
       "       FAS_CON_P FAS_CON_S FAS_CON_T CAP_ELO CAP_CHA  CONF POSTO TIP_TRAFO  \\\n",
       "count       3540      3540      3540    3540    3540  3540  3540      3540   \n",
       "unique         7        11         4      11       2     2     3         4   \n",
       "top          ABC       ABC         0      2H      12    RA    PT         T   \n",
       "freq        2519      2019      2620     767    3402  3535  3533      2519   \n",
       "\n",
       "       ARE_LOC CLAS_SUB   CNAE     TIP_CC TEN_FORN GRU_TAR  \n",
       "count     3540     3540   3540       3540     3540    3540  \n",
       "unique       2       16     70         47        5       4  \n",
       "top         UB      RE1  99999  RES-Tipo2       15      B1  \n",
       "freq      1975     3066   3014        571     2478    3049  "
      ]
     },
     "execution_count": 27,
     "metadata": {},
     "output_type": "execute_result"
    }
   ],
   "source": [
    "data[categoricas].describe()"
   ]
  },
  {
   "cell_type": "markdown",
   "metadata": {
    "Collapsed": "false"
   },
   "source": [
    "### Explore Output Var"
   ]
  },
  {
   "cell_type": "code",
   "execution_count": 28,
   "metadata": {
    "Collapsed": "false"
   },
   "outputs": [
    {
     "data": {
      "text/plain": [
       "<matplotlib.axes._subplots.AxesSubplot at 0x2c57dd64518>"
      ]
     },
     "execution_count": 28,
     "metadata": {},
     "output_type": "execute_result"
    },
    {
     "data": {
      "image/png": "[encoded data removed]",
      "text/plain": [
       "<Figure size 432x288 with 1 Axes>"
      ]
     },
     "metadata": {
      "needs_background": "light"
     },
     "output_type": "display_data"
    }
   ],
   "source": [
    "sns.distplot(data.FIC, bins=20)"
   ]
  },
  {
   "cell_type": "markdown",
   "metadata": {
    "Collapsed": "false"
   },
   "source": [
    "### Transformar target"
   ]
  },
  {
   "cell_type": "code",
   "execution_count": 29,
   "metadata": {
    "Collapsed": "false"
   },
   "outputs": [],
   "source": [
    "qt = QuantileTransformer(output_distribution='normal', n_quantiles=1000)\n",
    "normal_FIC = qt.fit_transform(data.FIC.to_numpy().reshape(-1,1))"
   ]
  },
  {
   "cell_type": "code",
   "execution_count": 30,
   "metadata": {
    "Collapsed": "false"
   },
   "outputs": [
    {
     "data": {
      "text/plain": [
       "<matplotlib.axes._subplots.AxesSubplot at 0x2c57db55eb8>"
      ]
     },
     "execution_count": 30,
     "metadata": {},
     "output_type": "execute_result"
    },
    {
     "data": {
      "image/png": "[encoded data removed]",
      "text/plain": [
       "<Figure size 432x288 with 1 Axes>"
      ]
     },
     "metadata": {
      "needs_background": "light"
     },
     "output_type": "display_data"
    }
   ],
   "source": [
    "sns.distplot(normal_FIC, kde=False, bins=20)"
   ]
  },
  {
   "cell_type": "code",
   "execution_count": 31,
   "metadata": {
    "Collapsed": "false"
   },
   "outputs": [
    {
     "data": {
      "text/plain": [
       "<matplotlib.axes._subplots.AxesSubplot at 0x2c57dbe67f0>"
      ]
     },
     "execution_count": 31,
     "metadata": {},
     "output_type": "execute_result"
    },
    {
     "data": {
      "image/png": "[encoded data removed]",
      "text/plain": [
       "<Figure size 432x288 with 1 Axes>"
      ]
     },
     "metadata": {
      "needs_background": "light"
     },
     "output_type": "display_data"
    }
   ],
   "source": [
    "sns.distplot(np.log1p(data.FIC), kde=False, bins=20)"
   ]
  },
  {
   "cell_type": "code",
   "execution_count": 32,
   "metadata": {
    "Collapsed": "false"
   },
   "outputs": [
    {
     "data": {
      "text/plain": [
       "<matplotlib.axes._subplots.AxesSubplot at 0x2c57dc76c88>"
      ]
     },
     "execution_count": 32,
     "metadata": {},
     "output_type": "execute_result"
    },
    {
     "data": {
      "image/png": "[encoded data removed]",
      "text/plain": [
       "<Figure size 432x288 with 1 Axes>"
      ]
     },
     "metadata": {
      "needs_background": "light"
     },
     "output_type": "display_data"
    }
   ],
   "source": [
    "sns.boxplot(x=data['FIC'])"
   ]
  },
  {
   "cell_type": "markdown",
   "metadata": {
    "Collapsed": "false"
   },
   "source": [
    "### Proceso de Outliers"
   ]
  },
  {
   "cell_type": "code",
   "execution_count": 33,
   "metadata": {
    "Collapsed": "false"
   },
   "outputs": [],
   "source": [
    "data_dfo = data[np.abs(data.FIC-data.FIC.mean())<=(1.5*data.FIC.std())]"
   ]
  },
  {
   "cell_type": "code",
   "execution_count": 34,
   "metadata": {
    "Collapsed": "false"
   },
   "outputs": [
    {
     "data": {
      "text/plain": [
       "(3306, 46)"
      ]
     },
     "execution_count": 34,
     "metadata": {},
     "output_type": "execute_result"
    }
   ],
   "source": [
    "data_dfo.shape"
   ]
  },
  {
   "cell_type": "code",
   "execution_count": 35,
   "metadata": {
    "Collapsed": "false"
   },
   "outputs": [
    {
     "data": {
      "text/html": [
       "<div>\n",
       "<style scoped>\n",
       "    .dataframe tbody tr th:only-of-type {\n",
       "        vertical-align: middle;\n",
       "    }\n",
       "\n",
       "    .dataframe tbody tr th {\n",
       "        vertical-align: top;\n",
       "    }\n",
       "\n",
       "    .dataframe thead th {\n",
       "        text-align: right;\n",
       "    }\n",
       "</style>\n",
       "<table border=\"1\" class=\"dataframe\">\n",
       "  <thead>\n",
       "    <tr style=\"text-align: right;\">\n",
       "      <th></th>\n",
       "      <th>FAS_CON_P</th>\n",
       "      <th>FAS_CON_S</th>\n",
       "      <th>FAS_CON_T</th>\n",
       "      <th>TEN_LIN_SE</th>\n",
       "      <th>CAP_ELO</th>\n",
       "      <th>CAP_CHA</th>\n",
       "      <th>CONF</th>\n",
       "      <th>POSTO</th>\n",
       "      <th>POT_NOM</th>\n",
       "      <th>PER_FER</th>\n",
       "      <th>...</th>\n",
       "      <th>NEIG_DEGREE</th>\n",
       "      <th>BET_CEN</th>\n",
       "      <th>CLO_CEN</th>\n",
       "      <th>PAGE_RANK</th>\n",
       "      <th>DISTANCE_SUB</th>\n",
       "      <th>FCONV_R</th>\n",
       "      <th>I_NOM_MED_R</th>\n",
       "      <th>I_NOM_MIN_R</th>\n",
       "      <th>Z_ANG_SUB</th>\n",
       "      <th>FIC</th>\n",
       "    </tr>\n",
       "    <tr>\n",
       "      <th>COD_ID</th>\n",
       "      <th></th>\n",
       "      <th></th>\n",
       "      <th></th>\n",
       "      <th></th>\n",
       "      <th></th>\n",
       "      <th></th>\n",
       "      <th></th>\n",
       "      <th></th>\n",
       "      <th></th>\n",
       "      <th></th>\n",
       "      <th></th>\n",
       "      <th></th>\n",
       "      <th></th>\n",
       "      <th></th>\n",
       "      <th></th>\n",
       "      <th></th>\n",
       "      <th></th>\n",
       "      <th></th>\n",
       "      <th></th>\n",
       "      <th></th>\n",
       "      <th></th>\n",
       "    </tr>\n",
       "  </thead>\n",
       "  <tbody>\n",
       "    <tr>\n",
       "      <th>26877802</th>\n",
       "      <td>ABC</td>\n",
       "      <td>ABC</td>\n",
       "      <td>0</td>\n",
       "      <td>0.38</td>\n",
       "      <td>2H</td>\n",
       "      <td>12</td>\n",
       "      <td>RA</td>\n",
       "      <td>PT</td>\n",
       "      <td>45.00</td>\n",
       "      <td>0.47</td>\n",
       "      <td>...</td>\n",
       "      <td>2.00</td>\n",
       "      <td>0.00</td>\n",
       "      <td>0.03</td>\n",
       "      <td>0.00</td>\n",
       "      <td>1762.25</td>\n",
       "      <td>0.42</td>\n",
       "      <td>230.00</td>\n",
       "      <td>97.00</td>\n",
       "      <td>-32.08</td>\n",
       "      <td>4.00</td>\n",
       "    </tr>\n",
       "    <tr>\n",
       "      <th>52605794</th>\n",
       "      <td>ABC</td>\n",
       "      <td>ABC</td>\n",
       "      <td>0</td>\n",
       "      <td>0.38</td>\n",
       "      <td>2H</td>\n",
       "      <td>12</td>\n",
       "      <td>RA</td>\n",
       "      <td>PT</td>\n",
       "      <td>45.00</td>\n",
       "      <td>0.47</td>\n",
       "      <td>...</td>\n",
       "      <td>2.00</td>\n",
       "      <td>0.00</td>\n",
       "      <td>0.00</td>\n",
       "      <td>0.00</td>\n",
       "      <td>1723.68</td>\n",
       "      <td>0.36</td>\n",
       "      <td>495.00</td>\n",
       "      <td>130.00</td>\n",
       "      <td>-44.17</td>\n",
       "      <td>2.00</td>\n",
       "    </tr>\n",
       "    <tr>\n",
       "      <th>26880567</th>\n",
       "      <td>ABC</td>\n",
       "      <td>ABC</td>\n",
       "      <td>0</td>\n",
       "      <td>0.38</td>\n",
       "      <td>3H</td>\n",
       "      <td>12</td>\n",
       "      <td>RA</td>\n",
       "      <td>PT</td>\n",
       "      <td>75.00</td>\n",
       "      <td>0.43</td>\n",
       "      <td>...</td>\n",
       "      <td>2.00</td>\n",
       "      <td>0.00</td>\n",
       "      <td>0.01</td>\n",
       "      <td>0.00</td>\n",
       "      <td>8043.04</td>\n",
       "      <td>0.39</td>\n",
       "      <td>330.00</td>\n",
       "      <td>54.00</td>\n",
       "      <td>-34.97</td>\n",
       "      <td>3.00</td>\n",
       "    </tr>\n",
       "    <tr>\n",
       "      <th>26877638</th>\n",
       "      <td>ABC</td>\n",
       "      <td>ABC</td>\n",
       "      <td>0</td>\n",
       "      <td>0.38</td>\n",
       "      <td>3H</td>\n",
       "      <td>12</td>\n",
       "      <td>RA</td>\n",
       "      <td>PT</td>\n",
       "      <td>75.00</td>\n",
       "      <td>0.43</td>\n",
       "      <td>...</td>\n",
       "      <td>2.00</td>\n",
       "      <td>0.04</td>\n",
       "      <td>0.02</td>\n",
       "      <td>0.00</td>\n",
       "      <td>3187.16</td>\n",
       "      <td>0.43</td>\n",
       "      <td>365.00</td>\n",
       "      <td>54.00</td>\n",
       "      <td>-26.22</td>\n",
       "      <td>1.00</td>\n",
       "    </tr>\n",
       "    <tr>\n",
       "      <th>26876816</th>\n",
       "      <td>ABC</td>\n",
       "      <td>A</td>\n",
       "      <td>0</td>\n",
       "      <td>0.38</td>\n",
       "      <td>2H</td>\n",
       "      <td>12</td>\n",
       "      <td>RA</td>\n",
       "      <td>PT</td>\n",
       "      <td>45.00</td>\n",
       "      <td>0.47</td>\n",
       "      <td>...</td>\n",
       "      <td>2.00</td>\n",
       "      <td>0.01</td>\n",
       "      <td>0.00</td>\n",
       "      <td>0.00</td>\n",
       "      <td>13267.09</td>\n",
       "      <td>0.42</td>\n",
       "      <td>438.00</td>\n",
       "      <td>54.00</td>\n",
       "      <td>-22.72</td>\n",
       "      <td>8.00</td>\n",
       "    </tr>\n",
       "  </tbody>\n",
       "</table>\n",
       "<p>5 rows × 46 columns</p>\n",
       "</div>"
      ],
      "text/plain": [
       "         FAS_CON_P FAS_CON_S FAS_CON_T  TEN_LIN_SE CAP_ELO CAP_CHA CONF POSTO  \\\n",
       "COD_ID                                                                          \n",
       "26877802       ABC       ABC         0        0.38      2H      12   RA    PT   \n",
       "52605794       ABC       ABC         0        0.38      2H      12   RA    PT   \n",
       "26880567       ABC       ABC         0        0.38      3H      12   RA    PT   \n",
       "26877638       ABC       ABC         0        0.38      3H      12   RA    PT   \n",
       "26876816       ABC         A         0        0.38      2H      12   RA    PT   \n",
       "\n",
       "          POT_NOM  PER_FER  ...  NEIG_DEGREE BET_CEN CLO_CEN PAGE_RANK  \\\n",
       "COD_ID                      ...                                          \n",
       "26877802    45.00     0.47  ...         2.00    0.00    0.03      0.00   \n",
       "52605794    45.00     0.47  ...         2.00    0.00    0.00      0.00   \n",
       "26880567    75.00     0.43  ...         2.00    0.00    0.01      0.00   \n",
       "26877638    75.00     0.43  ...         2.00    0.04    0.02      0.00   \n",
       "26876816    45.00     0.47  ...         2.00    0.01    0.00      0.00   \n",
       "\n",
       "         DISTANCE_SUB FCONV_R I_NOM_MED_R I_NOM_MIN_R  Z_ANG_SUB  FIC  \n",
       "COD_ID                                                                 \n",
       "26877802      1762.25    0.42      230.00       97.00     -32.08 4.00  \n",
       "52605794      1723.68    0.36      495.00      130.00     -44.17 2.00  \n",
       "26880567      8043.04    0.39      330.00       54.00     -34.97 3.00  \n",
       "26877638      3187.16    0.43      365.00       54.00     -26.22 1.00  \n",
       "26876816     13267.09    0.42      438.00       54.00     -22.72 8.00  \n",
       "\n",
       "[5 rows x 46 columns]"
      ]
     },
     "execution_count": 35,
     "metadata": {},
     "output_type": "execute_result"
    }
   ],
   "source": [
    "data_dfo.sample(5)"
   ]
  },
  {
   "cell_type": "code",
   "execution_count": 36,
   "metadata": {
    "Collapsed": "false"
   },
   "outputs": [
    {
     "data": {
      "text/plain": [
       "<matplotlib.axes._subplots.AxesSubplot at 0x2c57ddf2630>"
      ]
     },
     "execution_count": 36,
     "metadata": {},
     "output_type": "execute_result"
    },
    {
     "data": {
      "image/png": "[encoded data removed]",
      "text/plain": [
       "<Figure size 432x288 with 1 Axes>"
      ]
     },
     "metadata": {
      "needs_background": "light"
     },
     "output_type": "display_data"
    }
   ],
   "source": [
    "sns.boxplot(x=data_dfo['FIC'])"
   ]
  },
  {
   "cell_type": "markdown",
   "metadata": {
    "Collapsed": "false"
   },
   "source": [
    "## Split Data"
   ]
  },
  {
   "cell_type": "markdown",
   "metadata": {
    "Collapsed": "false"
   },
   "source": [
    "#### Vemos la frecuencia de ocurrencia de los valores de FIC"
   ]
  },
  {
   "cell_type": "code",
   "execution_count": 37,
   "metadata": {
    "Collapsed": "false"
   },
   "outputs": [],
   "source": [
    "data_X, data_FIC, FIC_bin = prepare_data(data_dfo, categoricas)"
   ]
  },
  {
   "cell_type": "code",
   "execution_count": 38,
   "metadata": {
    "Collapsed": "false"
   },
   "outputs": [
    {
     "data": {
      "text/plain": [
       "(3305, 218)"
      ]
     },
     "execution_count": 38,
     "metadata": {},
     "output_type": "execute_result"
    }
   ],
   "source": [
    "data_X.shape"
   ]
  },
  {
   "cell_type": "code",
   "execution_count": 39,
   "metadata": {
    "Collapsed": "false"
   },
   "outputs": [
    {
     "data": {
      "text/plain": [
       "(3305,)"
      ]
     },
     "execution_count": 39,
     "metadata": {},
     "output_type": "execute_result"
    }
   ],
   "source": [
    "data_FIC.shape"
   ]
  },
  {
   "cell_type": "code",
   "execution_count": 40,
   "metadata": {
    "Collapsed": "false"
   },
   "outputs": [
    {
     "data": {
      "text/html": [
       "<div>\n",
       "<style scoped>\n",
       "    .dataframe tbody tr th:only-of-type {\n",
       "        vertical-align: middle;\n",
       "    }\n",
       "\n",
       "    .dataframe tbody tr th {\n",
       "        vertical-align: top;\n",
       "    }\n",
       "\n",
       "    .dataframe thead th {\n",
       "        text-align: right;\n",
       "    }\n",
       "</style>\n",
       "<table border=\"1\" class=\"dataframe\">\n",
       "  <thead>\n",
       "    <tr style=\"text-align: right;\">\n",
       "      <th></th>\n",
       "      <th>FIC</th>\n",
       "      <th>frecuencia</th>\n",
       "    </tr>\n",
       "  </thead>\n",
       "  <tbody>\n",
       "    <tr>\n",
       "      <th>0</th>\n",
       "      <td>1.00</td>\n",
       "      <td>356</td>\n",
       "    </tr>\n",
       "    <tr>\n",
       "      <th>1</th>\n",
       "      <td>0.00</td>\n",
       "      <td>328</td>\n",
       "    </tr>\n",
       "    <tr>\n",
       "      <th>2</th>\n",
       "      <td>2.00</td>\n",
       "      <td>322</td>\n",
       "    </tr>\n",
       "    <tr>\n",
       "      <th>3</th>\n",
       "      <td>3.00</td>\n",
       "      <td>286</td>\n",
       "    </tr>\n",
       "    <tr>\n",
       "      <th>4</th>\n",
       "      <td>4.00</td>\n",
       "      <td>208</td>\n",
       "    </tr>\n",
       "    <tr>\n",
       "      <th>5</th>\n",
       "      <td>13.00</td>\n",
       "      <td>178</td>\n",
       "    </tr>\n",
       "    <tr>\n",
       "      <th>6</th>\n",
       "      <td>5.00</td>\n",
       "      <td>168</td>\n",
       "    </tr>\n",
       "    <tr>\n",
       "      <th>7</th>\n",
       "      <td>12.00</td>\n",
       "      <td>161</td>\n",
       "    </tr>\n",
       "    <tr>\n",
       "      <th>8</th>\n",
       "      <td>14.00</td>\n",
       "      <td>159</td>\n",
       "    </tr>\n",
       "    <tr>\n",
       "      <th>9</th>\n",
       "      <td>16.00</td>\n",
       "      <td>133</td>\n",
       "    </tr>\n",
       "    <tr>\n",
       "      <th>10</th>\n",
       "      <td>11.00</td>\n",
       "      <td>128</td>\n",
       "    </tr>\n",
       "    <tr>\n",
       "      <th>11</th>\n",
       "      <td>8.00</td>\n",
       "      <td>120</td>\n",
       "    </tr>\n",
       "    <tr>\n",
       "      <th>12</th>\n",
       "      <td>15.00</td>\n",
       "      <td>119</td>\n",
       "    </tr>\n",
       "    <tr>\n",
       "      <th>13</th>\n",
       "      <td>6.00</td>\n",
       "      <td>115</td>\n",
       "    </tr>\n",
       "    <tr>\n",
       "      <th>14</th>\n",
       "      <td>9.00</td>\n",
       "      <td>110</td>\n",
       "    </tr>\n",
       "    <tr>\n",
       "      <th>15</th>\n",
       "      <td>7.00</td>\n",
       "      <td>105</td>\n",
       "    </tr>\n",
       "    <tr>\n",
       "      <th>16</th>\n",
       "      <td>10.00</td>\n",
       "      <td>94</td>\n",
       "    </tr>\n",
       "    <tr>\n",
       "      <th>17</th>\n",
       "      <td>17.00</td>\n",
       "      <td>71</td>\n",
       "    </tr>\n",
       "    <tr>\n",
       "      <th>18</th>\n",
       "      <td>18.00</td>\n",
       "      <td>65</td>\n",
       "    </tr>\n",
       "    <tr>\n",
       "      <th>19</th>\n",
       "      <td>5.50</td>\n",
       "      <td>9</td>\n",
       "    </tr>\n",
       "    <tr>\n",
       "      <th>20</th>\n",
       "      <td>10.50</td>\n",
       "      <td>8</td>\n",
       "    </tr>\n",
       "    <tr>\n",
       "      <th>21</th>\n",
       "      <td>12.50</td>\n",
       "      <td>8</td>\n",
       "    </tr>\n",
       "    <tr>\n",
       "      <th>22</th>\n",
       "      <td>14.50</td>\n",
       "      <td>7</td>\n",
       "    </tr>\n",
       "    <tr>\n",
       "      <th>23</th>\n",
       "      <td>15.50</td>\n",
       "      <td>6</td>\n",
       "    </tr>\n",
       "    <tr>\n",
       "      <th>24</th>\n",
       "      <td>9.50</td>\n",
       "      <td>6</td>\n",
       "    </tr>\n",
       "    <tr>\n",
       "      <th>25</th>\n",
       "      <td>7.50</td>\n",
       "      <td>5</td>\n",
       "    </tr>\n",
       "    <tr>\n",
       "      <th>26</th>\n",
       "      <td>17.50</td>\n",
       "      <td>4</td>\n",
       "    </tr>\n",
       "    <tr>\n",
       "      <th>27</th>\n",
       "      <td>13.50</td>\n",
       "      <td>4</td>\n",
       "    </tr>\n",
       "    <tr>\n",
       "      <th>28</th>\n",
       "      <td>8.50</td>\n",
       "      <td>4</td>\n",
       "    </tr>\n",
       "    <tr>\n",
       "      <th>29</th>\n",
       "      <td>16.50</td>\n",
       "      <td>3</td>\n",
       "    </tr>\n",
       "    <tr>\n",
       "      <th>30</th>\n",
       "      <td>6.50</td>\n",
       "      <td>3</td>\n",
       "    </tr>\n",
       "    <tr>\n",
       "      <th>31</th>\n",
       "      <td>4.50</td>\n",
       "      <td>3</td>\n",
       "    </tr>\n",
       "    <tr>\n",
       "      <th>32</th>\n",
       "      <td>3.50</td>\n",
       "      <td>2</td>\n",
       "    </tr>\n",
       "    <tr>\n",
       "      <th>33</th>\n",
       "      <td>1.50</td>\n",
       "      <td>2</td>\n",
       "    </tr>\n",
       "    <tr>\n",
       "      <th>34</th>\n",
       "      <td>2.50</td>\n",
       "      <td>2</td>\n",
       "    </tr>\n",
       "    <tr>\n",
       "      <th>35</th>\n",
       "      <td>11.50</td>\n",
       "      <td>2</td>\n",
       "    </tr>\n",
       "    <tr>\n",
       "      <th>36</th>\n",
       "      <td>0.50</td>\n",
       "      <td>1</td>\n",
       "    </tr>\n",
       "  </tbody>\n",
       "</table>\n",
       "</div>"
      ],
      "text/plain": [
       "     FIC  frecuencia\n",
       "0   1.00         356\n",
       "1   0.00         328\n",
       "2   2.00         322\n",
       "3   3.00         286\n",
       "4   4.00         208\n",
       "5  13.00         178\n",
       "6   5.00         168\n",
       "7  12.00         161\n",
       "8  14.00         159\n",
       "9  16.00         133\n",
       "10 11.00         128\n",
       "11  8.00         120\n",
       "12 15.00         119\n",
       "13  6.00         115\n",
       "14  9.00         110\n",
       "15  7.00         105\n",
       "16 10.00          94\n",
       "17 17.00          71\n",
       "18 18.00          65\n",
       "19  5.50           9\n",
       "20 10.50           8\n",
       "21 12.50           8\n",
       "22 14.50           7\n",
       "23 15.50           6\n",
       "24  9.50           6\n",
       "25  7.50           5\n",
       "26 17.50           4\n",
       "27 13.50           4\n",
       "28  8.50           4\n",
       "29 16.50           3\n",
       "30  6.50           3\n",
       "31  4.50           3\n",
       "32  3.50           2\n",
       "33  1.50           2\n",
       "34  2.50           2\n",
       "35 11.50           2\n",
       "36  0.50           1"
      ]
     },
     "execution_count": 40,
     "metadata": {},
     "output_type": "execute_result"
    }
   ],
   "source": [
    "df = pd.value_counts(np.array(data_FIC)).to_frame().reset_index()\n",
    "df.rename(columns={\"index\":\"FIC\",0:\"frecuencia\"})"
   ]
  },
  {
   "cell_type": "code",
   "execution_count": 41,
   "metadata": {
    "Collapsed": "false"
   },
   "outputs": [
    {
     "data": {
      "image/png": "[encoded data removed]",
      "text/plain": [
       "<Figure size 432x288 with 1 Axes>"
      ]
     },
     "metadata": {
      "needs_background": "light"
     },
     "output_type": "display_data"
    }
   ],
   "source": [
    "# Evaluamos la distribucion de la variable dependiente\n",
    "hist, bin_edges = np.histogram(data_FIC, 25)\n",
    "plt.hist(data_FIC, bins=bin_edges)\n",
    "plt.show()"
   ]
  },
  {
   "cell_type": "code",
   "execution_count": 42,
   "metadata": {
    "Collapsed": "false"
   },
   "outputs": [
    {
     "data": {
      "text/html": [
       "<div>\n",
       "<style scoped>\n",
       "    .dataframe tbody tr th:only-of-type {\n",
       "        vertical-align: middle;\n",
       "    }\n",
       "\n",
       "    .dataframe tbody tr th {\n",
       "        vertical-align: top;\n",
       "    }\n",
       "\n",
       "    .dataframe thead th {\n",
       "        text-align: right;\n",
       "    }\n",
       "</style>\n",
       "<table border=\"1\" class=\"dataframe\">\n",
       "  <thead>\n",
       "    <tr style=\"text-align: right;\">\n",
       "      <th></th>\n",
       "      <th>FIC</th>\n",
       "      <th>frecuencia</th>\n",
       "    </tr>\n",
       "  </thead>\n",
       "  <tbody>\n",
       "    <tr>\n",
       "      <th>0</th>\n",
       "      <td>0</td>\n",
       "      <td>1510</td>\n",
       "    </tr>\n",
       "    <tr>\n",
       "      <th>1</th>\n",
       "      <td>1</td>\n",
       "      <td>639</td>\n",
       "    </tr>\n",
       "    <tr>\n",
       "      <th>2</th>\n",
       "      <td>2</td>\n",
       "      <td>589</td>\n",
       "    </tr>\n",
       "    <tr>\n",
       "      <th>3</th>\n",
       "      <td>3</td>\n",
       "      <td>567</td>\n",
       "    </tr>\n",
       "  </tbody>\n",
       "</table>\n",
       "</div>"
      ],
      "text/plain": [
       "   FIC  frecuencia\n",
       "0    0        1510\n",
       "1    1         639\n",
       "2    2         589\n",
       "3    3         567"
      ]
     },
     "execution_count": 42,
     "metadata": {},
     "output_type": "execute_result"
    }
   ],
   "source": [
    "# Vemos la frecuencia de ocurrencia de los valores de FIC discretizado con 4 bins\n",
    "df = pd.value_counts(np.array(FIC_bin)).to_frame().reset_index()\n",
    "df.rename(columns={\"index\":\"FIC\",0:\"frecuencia\"})"
   ]
  },
  {
   "cell_type": "code",
   "execution_count": 43,
   "metadata": {
    "Collapsed": "false"
   },
   "outputs": [
    {
     "data": {
      "image/png": "[encoded data removed]",
      "text/plain": [
       "<Figure size 432x288 with 1 Axes>"
      ]
     },
     "metadata": {
      "needs_background": "light"
     },
     "output_type": "display_data"
    }
   ],
   "source": [
    "# Evaluamos la distribucion de la variable dependiente discretizada\n",
    "hist, bin_edges = np.histogram(FIC_bin, 7)\n",
    "plt.hist(FIC_bin, bins=bin_edges)\n",
    "plt.show()"
   ]
  },
  {
   "cell_type": "markdown",
   "metadata": {
    "Collapsed": "false"
   },
   "source": [
    "## Split and get baselines"
   ]
  },
  {
   "cell_type": "code",
   "execution_count": 44,
   "metadata": {
    "Collapsed": "false"
   },
   "outputs": [],
   "source": [
    "from sklearn.model_selection import train_test_split"
   ]
  },
  {
   "cell_type": "code",
   "execution_count": 45,
   "metadata": {
    "Collapsed": "false"
   },
   "outputs": [],
   "source": [
    "from sklearn.ensemble import RandomForestClassifier\n",
    "from boruta import BorutaPy"
   ]
  },
  {
   "cell_type": "code",
   "execution_count": 46,
   "metadata": {
    "Collapsed": "false"
   },
   "outputs": [],
   "source": [
    "#data_labeled = pd.get_dummies(data.dropna(), columns=categorical, dummy_na= True, drop_first= True)"
   ]
  },
  {
   "cell_type": "code",
   "execution_count": 47,
   "metadata": {
    "Collapsed": "false"
   },
   "outputs": [],
   "source": [
    "#X_train, X_test, y_train, y_test = train_test_split(data_labeled.drop('FIC',axis=1), data_labeled.FIC, test_size=0.3, random_state=0)"
   ]
  },
  {
   "cell_type": "code",
   "execution_count": 48,
   "metadata": {
    "Collapsed": "false"
   },
   "outputs": [],
   "source": [
    "X_train, X_test, y_train, y_test = train_test_split(data_X, data_FIC, test_size=0.2, random_state=0)"
   ]
  },
  {
   "cell_type": "code",
   "execution_count": 49,
   "metadata": {
    "Collapsed": "false"
   },
   "outputs": [
    {
     "data": {
      "text/plain": [
       "XGBRegressor(base_score=0.5, booster='gbtree', colsample_bylevel=1,\n",
       "             colsample_bynode=1, colsample_bytree=1, eval_metric='mae', gamma=1,\n",
       "             importance_type='gain', learning_rate=0.03, max_delta_step=0,\n",
       "             max_depth=3, min_child_weight=1, missing=None, n_estimators=1000,\n",
       "             n_jobs=-1, nthread=None, objective='reg:squarederror',\n",
       "             random_state=0, reg_alpha=0, reg_lambda=1, scale_pos_weight=1,\n",
       "             seed=None, silent=None, subsample=0.8, verbosity=1)"
      ]
     },
     "execution_count": 49,
     "metadata": {},
     "output_type": "execute_result"
    }
   ],
   "source": [
    "xb_reg = XGBRegressor(learning_rate=0.03,\n",
    "                         n_estimators=1000,\n",
    "                         max_depth=3,\n",
    "                         subsample=0.8,\n",
    "                         colsample_bytree=1,\n",
    "                         gamma=1,\n",
    "                         objective='reg:squarederror',\n",
    "                         n_jobs=-1,\n",
    "                         eval_metric='mae')\n",
    "\n",
    "# Entreno sobre el logarimo de la variable de salidad\n",
    "xb_reg.fit(X_train, np.log1p(y_train))"
   ]
  },
  {
   "cell_type": "code",
   "execution_count": 50,
   "metadata": {
    "Collapsed": "false"
   },
   "outputs": [],
   "source": [
    "desc_importance = np.sort(xb_reg.feature_importances_)"
   ]
  },
  {
   "cell_type": "code",
   "execution_count": 51,
   "metadata": {
    "Collapsed": "false"
   },
   "outputs": [],
   "source": [
    "ft_qty = (desc_importance[::-1] > 0).sum()"
   ]
  },
  {
   "cell_type": "code",
   "execution_count": 52,
   "metadata": {
    "Collapsed": "false"
   },
   "outputs": [
    {
     "data": {
      "text/plain": [
       "Index(['DISTANCE_SUB', 'CTMT_PNTMT_STD', 'CLO_CEN', 'TIP_CC_RES-Tipo3',\n",
       "       'POT_NOM', 'PERD_A4_B', 'I_NOM_MED_R', 'CTMT_ENE_STD', 'CTMT_PNTMT_MED',\n",
       "       'UCBT_ENE_MED', 'I_NOM_MIN_R', 'CTMT_PNTBT_MAX', 'PAGE_RANK',\n",
       "       'TIP_TRAFO_M', 'FAS_CON_S_ABCN', 'CTMT_ENE_MED', 'GRU_TAR_B3',\n",
       "       'TIP_CC_RES-Tipo10', 'PERD_A4', 'TIP_CC_RES-Tipo5'],\n",
       "      dtype='object')"
      ]
     },
     "execution_count": 52,
     "metadata": {},
     "output_type": "execute_result"
    }
   ],
   "source": [
    "indices = np.argsort(xb_reg.feature_importances_)[::-1]\n",
    "#top_features = data_X.columns[indices][:ft_qty]\n",
    "top_features = data_X.columns[indices[0:20]]\n",
    "top_features"
   ]
  },
  {
   "cell_type": "code",
   "execution_count": 53,
   "metadata": {
    "Collapsed": "false"
   },
   "outputs": [
    {
     "data": {
      "text/html": [
       "<div>\n",
       "<style scoped>\n",
       "    .dataframe tbody tr th:only-of-type {\n",
       "        vertical-align: middle;\n",
       "    }\n",
       "\n",
       "    .dataframe tbody tr th {\n",
       "        vertical-align: top;\n",
       "    }\n",
       "\n",
       "    .dataframe thead th {\n",
       "        text-align: right;\n",
       "    }\n",
       "</style>\n",
       "<table border=\"1\" class=\"dataframe\">\n",
       "  <thead>\n",
       "    <tr style=\"text-align: right;\">\n",
       "      <th></th>\n",
       "      <th>DISTANCE_SUB</th>\n",
       "      <th>CTMT_PNTMT_STD</th>\n",
       "      <th>CLO_CEN</th>\n",
       "      <th>TIP_CC_RES-Tipo3</th>\n",
       "      <th>POT_NOM</th>\n",
       "      <th>PERD_A4_B</th>\n",
       "      <th>I_NOM_MED_R</th>\n",
       "      <th>CTMT_ENE_STD</th>\n",
       "      <th>CTMT_PNTMT_MED</th>\n",
       "      <th>UCBT_ENE_MED</th>\n",
       "      <th>I_NOM_MIN_R</th>\n",
       "      <th>CTMT_PNTBT_MAX</th>\n",
       "      <th>PAGE_RANK</th>\n",
       "      <th>TIP_TRAFO_M</th>\n",
       "      <th>FAS_CON_S_ABCN</th>\n",
       "      <th>CTMT_ENE_MED</th>\n",
       "      <th>GRU_TAR_B3</th>\n",
       "      <th>TIP_CC_RES-Tipo10</th>\n",
       "      <th>PERD_A4</th>\n",
       "      <th>TIP_CC_RES-Tipo5</th>\n",
       "    </tr>\n",
       "    <tr>\n",
       "      <th>COD_ID</th>\n",
       "      <th></th>\n",
       "      <th></th>\n",
       "      <th></th>\n",
       "      <th></th>\n",
       "      <th></th>\n",
       "      <th></th>\n",
       "      <th></th>\n",
       "      <th></th>\n",
       "      <th></th>\n",
       "      <th></th>\n",
       "      <th></th>\n",
       "      <th></th>\n",
       "      <th></th>\n",
       "      <th></th>\n",
       "      <th></th>\n",
       "      <th></th>\n",
       "      <th></th>\n",
       "      <th></th>\n",
       "      <th></th>\n",
       "      <th></th>\n",
       "    </tr>\n",
       "  </thead>\n",
       "  <tbody>\n",
       "    <tr>\n",
       "      <th>26876488</th>\n",
       "      <td>19671.69</td>\n",
       "      <td>236.63</td>\n",
       "      <td>0.01</td>\n",
       "      <td>1</td>\n",
       "      <td>25.00</td>\n",
       "      <td>506374.22</td>\n",
       "      <td>438.00</td>\n",
       "      <td>49923.49</td>\n",
       "      <td>909.23</td>\n",
       "      <td>157.00</td>\n",
       "      <td>54.00</td>\n",
       "      <td>158336.61</td>\n",
       "      <td>0.00</td>\n",
       "      <td>1</td>\n",
       "      <td>0</td>\n",
       "      <td>844268.40</td>\n",
       "      <td>0</td>\n",
       "      <td>0</td>\n",
       "      <td>180278.34</td>\n",
       "      <td>0</td>\n",
       "    </tr>\n",
       "    <tr>\n",
       "      <th>26876462</th>\n",
       "      <td>19119.05</td>\n",
       "      <td>236.63</td>\n",
       "      <td>0.01</td>\n",
       "      <td>0</td>\n",
       "      <td>10.00</td>\n",
       "      <td>506374.22</td>\n",
       "      <td>438.00</td>\n",
       "      <td>49923.49</td>\n",
       "      <td>909.23</td>\n",
       "      <td>192.00</td>\n",
       "      <td>54.00</td>\n",
       "      <td>158336.61</td>\n",
       "      <td>0.00</td>\n",
       "      <td>0</td>\n",
       "      <td>0</td>\n",
       "      <td>844268.40</td>\n",
       "      <td>0</td>\n",
       "      <td>0</td>\n",
       "      <td>180278.34</td>\n",
       "      <td>0</td>\n",
       "    </tr>\n",
       "    <tr>\n",
       "      <th>26877055</th>\n",
       "      <td>30452.04</td>\n",
       "      <td>0.00</td>\n",
       "      <td>0.00</td>\n",
       "      <td>0</td>\n",
       "      <td>5.00</td>\n",
       "      <td>475052.12</td>\n",
       "      <td>230.00</td>\n",
       "      <td>21457.60</td>\n",
       "      <td>0.00</td>\n",
       "      <td>67.50</td>\n",
       "      <td>54.00</td>\n",
       "      <td>110460.45</td>\n",
       "      <td>0.00</td>\n",
       "      <td>1</td>\n",
       "      <td>0</td>\n",
       "      <td>459459.02</td>\n",
       "      <td>0</td>\n",
       "      <td>0</td>\n",
       "      <td>100388.53</td>\n",
       "      <td>0</td>\n",
       "    </tr>\n",
       "    <tr>\n",
       "      <th>26876583</th>\n",
       "      <td>26896.22</td>\n",
       "      <td>236.63</td>\n",
       "      <td>0.00</td>\n",
       "      <td>0</td>\n",
       "      <td>5.00</td>\n",
       "      <td>506374.22</td>\n",
       "      <td>438.00</td>\n",
       "      <td>49923.49</td>\n",
       "      <td>909.23</td>\n",
       "      <td>0.00</td>\n",
       "      <td>54.00</td>\n",
       "      <td>158336.61</td>\n",
       "      <td>0.00</td>\n",
       "      <td>1</td>\n",
       "      <td>0</td>\n",
       "      <td>844268.40</td>\n",
       "      <td>0</td>\n",
       "      <td>0</td>\n",
       "      <td>180278.34</td>\n",
       "      <td>0</td>\n",
       "    </tr>\n",
       "    <tr>\n",
       "      <th>26877196</th>\n",
       "      <td>35719.12</td>\n",
       "      <td>0.00</td>\n",
       "      <td>0.00</td>\n",
       "      <td>0</td>\n",
       "      <td>10.00</td>\n",
       "      <td>475052.12</td>\n",
       "      <td>171.00</td>\n",
       "      <td>21457.60</td>\n",
       "      <td>0.00</td>\n",
       "      <td>122.50</td>\n",
       "      <td>54.00</td>\n",
       "      <td>110460.45</td>\n",
       "      <td>0.00</td>\n",
       "      <td>1</td>\n",
       "      <td>0</td>\n",
       "      <td>459459.02</td>\n",
       "      <td>0</td>\n",
       "      <td>0</td>\n",
       "      <td>100388.53</td>\n",
       "      <td>0</td>\n",
       "    </tr>\n",
       "  </tbody>\n",
       "</table>\n",
       "</div>"
      ],
      "text/plain": [
       "          DISTANCE_SUB  CTMT_PNTMT_STD  CLO_CEN  TIP_CC_RES-Tipo3  POT_NOM  \\\n",
       "COD_ID                                                                       \n",
       "26876488      19671.69          236.63     0.01                 1    25.00   \n",
       "26876462      19119.05          236.63     0.01                 0    10.00   \n",
       "26877055      30452.04            0.00     0.00                 0     5.00   \n",
       "26876583      26896.22          236.63     0.00                 0     5.00   \n",
       "26877196      35719.12            0.00     0.00                 0    10.00   \n",
       "\n",
       "          PERD_A4_B  I_NOM_MED_R  CTMT_ENE_STD  CTMT_PNTMT_MED  UCBT_ENE_MED  \\\n",
       "COD_ID                                                                         \n",
       "26876488  506374.22       438.00      49923.49          909.23        157.00   \n",
       "26876462  506374.22       438.00      49923.49          909.23        192.00   \n",
       "26877055  475052.12       230.00      21457.60            0.00         67.50   \n",
       "26876583  506374.22       438.00      49923.49          909.23          0.00   \n",
       "26877196  475052.12       171.00      21457.60            0.00        122.50   \n",
       "\n",
       "          I_NOM_MIN_R  CTMT_PNTBT_MAX  PAGE_RANK  TIP_TRAFO_M  FAS_CON_S_ABCN  \\\n",
       "COD_ID                                                                          \n",
       "26876488        54.00       158336.61       0.00            1               0   \n",
       "26876462        54.00       158336.61       0.00            0               0   \n",
       "26877055        54.00       110460.45       0.00            1               0   \n",
       "26876583        54.00       158336.61       0.00            1               0   \n",
       "26877196        54.00       110460.45       0.00            1               0   \n",
       "\n",
       "          CTMT_ENE_MED  GRU_TAR_B3  TIP_CC_RES-Tipo10   PERD_A4  \\\n",
       "COD_ID                                                            \n",
       "26876488     844268.40           0                  0 180278.34   \n",
       "26876462     844268.40           0                  0 180278.34   \n",
       "26877055     459459.02           0                  0 100388.53   \n",
       "26876583     844268.40           0                  0 180278.34   \n",
       "26877196     459459.02           0                  0 100388.53   \n",
       "\n",
       "          TIP_CC_RES-Tipo5  \n",
       "COD_ID                      \n",
       "26876488                 0  \n",
       "26876462                 0  \n",
       "26877055                 0  \n",
       "26876583                 0  \n",
       "26877196                 0  "
      ]
     },
     "execution_count": 53,
     "metadata": {},
     "output_type": "execute_result"
    }
   ],
   "source": [
    "data_top = data_X[top_features]\n",
    "data_top.sample(5)"
   ]
  },
  {
   "cell_type": "markdown",
   "metadata": {
    "Collapsed": "false"
   },
   "source": [
    "### Se evalúa con Regresion Lineal las top features"
   ]
  },
  {
   "cell_type": "code",
   "execution_count": 54,
   "metadata": {
    "Collapsed": "false"
   },
   "outputs": [
    {
     "data": {
      "text/plain": [
       "(3305, 20)"
      ]
     },
     "execution_count": 54,
     "metadata": {},
     "output_type": "execute_result"
    }
   ],
   "source": [
    "data_top.shape"
   ]
  },
  {
   "cell_type": "code",
   "execution_count": 55,
   "metadata": {
    "Collapsed": "false"
   },
   "outputs": [
    {
     "data": {
      "text/plain": [
       "(3305,)"
      ]
     },
     "execution_count": 55,
     "metadata": {},
     "output_type": "execute_result"
    }
   ],
   "source": [
    "data_FIC.shape"
   ]
  },
  {
   "cell_type": "code",
   "execution_count": 56,
   "metadata": {
    "Collapsed": "false"
   },
   "outputs": [],
   "source": [
    "X_train, X_test, y_train, y_test = train_test_split(data_top, data_FIC, test_size=0.2, random_state=0)"
   ]
  },
  {
   "cell_type": "code",
   "execution_count": 57,
   "metadata": {
    "Collapsed": "false"
   },
   "outputs": [
    {
     "data": {
      "text/plain": [
       "LinearRegression(copy_X=True, fit_intercept=True, n_jobs=-1, normalize=False)"
      ]
     },
     "execution_count": 57,
     "metadata": {},
     "output_type": "execute_result"
    }
   ],
   "source": [
    "regressor = LinearRegression(n_jobs=-1)\n",
    "regressor.fit(data_top, data_FIC)"
   ]
  },
  {
   "cell_type": "code",
   "execution_count": 58,
   "metadata": {
    "Collapsed": "false"
   },
   "outputs": [],
   "source": [
    "y_pred = regressor.predict(X_test)"
   ]
  },
  {
   "cell_type": "markdown",
   "metadata": {
    "Collapsed": "false"
   },
   "source": [
    "#### Regresión por Cuadrados Mínimos Ordinarios"
   ]
  },
  {
   "cell_type": "code",
   "execution_count": 59,
   "metadata": {
    "Collapsed": "false"
   },
   "outputs": [],
   "source": [
    "# Consideramos un nivel de significancia del 0.05 para evaluarlo contra el P-value \n",
    "# para saber que features vamos descartando"
   ]
  },
  {
   "cell_type": "code",
   "execution_count": 60,
   "metadata": {
    "Collapsed": "false"
   },
   "outputs": [],
   "source": [
    "X = np.append(arr = np.ones((data_top.shape[0], 1)).astype(int), values = data_top, axis = 1)\n",
    "SL = 0.05\n",
    "X_opt = X[:, [0, 1, 2, 3, 4, 5, 6, 7, 8, 9, 10, 11, 12, 13, 14, 15, 16, 17, 18, 19]]"
   ]
  },
  {
   "cell_type": "code",
   "execution_count": 61,
   "metadata": {
    "Collapsed": "false"
   },
   "outputs": [
    {
     "data": {
      "text/html": [
       "<table class=\"simpletable\">\n",
       "<caption>OLS Regression Results</caption>\n",
       "<tr>\n",
       "  <th>Dep. Variable:</th>           <td>FIC</td>       <th>  R-squared:         </th> <td>   0.653</td> \n",
       "</tr>\n",
       "<tr>\n",
       "  <th>Model:</th>                   <td>OLS</td>       <th>  Adj. R-squared:    </th> <td>   0.651</td> \n",
       "</tr>\n",
       "<tr>\n",
       "  <th>Method:</th>             <td>Least Squares</td>  <th>  F-statistic:       </th> <td>   386.9</td> \n",
       "</tr>\n",
       "<tr>\n",
       "  <th>Date:</th>             <td>Wed, 30 Oct 2019</td> <th>  Prob (F-statistic):</th>  <td>  0.00</td>  \n",
       "</tr>\n",
       "<tr>\n",
       "  <th>Time:</th>                 <td>08:32:28</td>     <th>  Log-Likelihood:    </th> <td> -8599.6</td> \n",
       "</tr>\n",
       "<tr>\n",
       "  <th>No. Observations:</th>      <td>  3305</td>      <th>  AIC:               </th> <td>1.723e+04</td>\n",
       "</tr>\n",
       "<tr>\n",
       "  <th>Df Residuals:</th>          <td>  3288</td>      <th>  BIC:               </th> <td>1.734e+04</td>\n",
       "</tr>\n",
       "<tr>\n",
       "  <th>Df Model:</th>              <td>    16</td>      <th>                     </th>     <td> </td>    \n",
       "</tr>\n",
       "<tr>\n",
       "  <th>Covariance Type:</th>      <td>nonrobust</td>    <th>                     </th>     <td> </td>    \n",
       "</tr>\n",
       "</table>\n",
       "<table class=\"simpletable\">\n",
       "<tr>\n",
       "    <td></td>       <th>coef</th>     <th>std err</th>      <th>t</th>      <th>P>|t|</th>  <th>[0.025</th>    <th>0.975]</th>  \n",
       "</tr>\n",
       "<tr>\n",
       "  <th>const</th> <td>    4.6153</td> <td>    0.381</td> <td>   12.121</td> <td> 0.000</td> <td>    3.869</td> <td>    5.362</td>\n",
       "</tr>\n",
       "<tr>\n",
       "  <th>x1</th>    <td>    0.0003</td> <td> 9.58e-06</td> <td>   31.175</td> <td> 0.000</td> <td>    0.000</td> <td>    0.000</td>\n",
       "</tr>\n",
       "<tr>\n",
       "  <th>x2</th>    <td>    0.0001</td> <td>  1.4e-05</td> <td>    9.791</td> <td> 0.000</td> <td>    0.000</td> <td>    0.000</td>\n",
       "</tr>\n",
       "<tr>\n",
       "  <th>x3</th>    <td>  -87.0829</td> <td>   15.971</td> <td>   -5.453</td> <td> 0.000</td> <td> -118.396</td> <td>  -55.769</td>\n",
       "</tr>\n",
       "<tr>\n",
       "  <th>x4</th>    <td>   -0.0074</td> <td>    0.001</td> <td>   -5.539</td> <td> 0.000</td> <td>   -0.010</td> <td>   -0.005</td>\n",
       "</tr>\n",
       "<tr>\n",
       "  <th>x5</th>    <td> 1.656e-05</td> <td> 9.79e-07</td> <td>   16.913</td> <td> 0.000</td> <td> 1.46e-05</td> <td> 1.85e-05</td>\n",
       "</tr>\n",
       "<tr>\n",
       "  <th>x6</th>    <td>   -0.0039</td> <td>    0.001</td> <td>   -5.837</td> <td> 0.000</td> <td>   -0.005</td> <td>   -0.003</td>\n",
       "</tr>\n",
       "<tr>\n",
       "  <th>x7</th>    <td>-8.727e-06</td> <td> 3.36e-06</td> <td>   -2.594</td> <td> 0.010</td> <td>-1.53e-05</td> <td>-2.13e-06</td>\n",
       "</tr>\n",
       "<tr>\n",
       "  <th>x8</th>    <td> 6.031e-05</td> <td> 3.22e-06</td> <td>   18.702</td> <td> 0.000</td> <td>  5.4e-05</td> <td> 6.66e-05</td>\n",
       "</tr>\n",
       "<tr>\n",
       "  <th>x9</th>    <td>   -0.0025</td> <td>    0.001</td> <td>   -2.074</td> <td> 0.038</td> <td>   -0.005</td> <td>   -0.000</td>\n",
       "</tr>\n",
       "<tr>\n",
       "  <th>x10</th>   <td>-5.871e-06</td> <td> 1.21e-06</td> <td>   -4.851</td> <td> 0.000</td> <td>-8.24e-06</td> <td> -3.5e-06</td>\n",
       "</tr>\n",
       "<tr>\n",
       "  <th>x11</th>   <td>  233.9157</td> <td>   70.556</td> <td>    3.315</td> <td> 0.001</td> <td>   95.578</td> <td>  372.253</td>\n",
       "</tr>\n",
       "<tr>\n",
       "  <th>x12</th>   <td>    1.0985</td> <td>    0.185</td> <td>    5.950</td> <td> 0.000</td> <td>    0.737</td> <td>    1.461</td>\n",
       "</tr>\n",
       "<tr>\n",
       "  <th>x13</th>   <td>-4.062e-06</td> <td> 4.38e-07</td> <td>   -9.265</td> <td> 0.000</td> <td>-4.92e-06</td> <td> -3.2e-06</td>\n",
       "</tr>\n",
       "<tr>\n",
       "  <th>x14</th>   <td>   -1.2409</td> <td>    0.242</td> <td>   -5.131</td> <td> 0.000</td> <td>   -1.715</td> <td>   -0.767</td>\n",
       "</tr>\n",
       "<tr>\n",
       "  <th>x15</th>   <td>   -0.6179</td> <td>    0.259</td> <td>   -2.381</td> <td> 0.017</td> <td>   -1.127</td> <td>   -0.109</td>\n",
       "</tr>\n",
       "<tr>\n",
       "  <th>x16</th>   <td>-4.316e-06</td> <td> 8.96e-07</td> <td>   -4.818</td> <td> 0.000</td> <td>-6.07e-06</td> <td>-2.56e-06</td>\n",
       "</tr>\n",
       "</table>\n",
       "<table class=\"simpletable\">\n",
       "<tr>\n",
       "  <th>Omnibus:</th>       <td>156.037</td> <th>  Durbin-Watson:     </th> <td>   1.273</td>\n",
       "</tr>\n",
       "<tr>\n",
       "  <th>Prob(Omnibus):</th> <td> 0.000</td>  <th>  Jarque-Bera (JB):  </th> <td> 246.391</td>\n",
       "</tr>\n",
       "<tr>\n",
       "  <th>Skew:</th>          <td> 0.407</td>  <th>  Prob(JB):          </th> <td>3.14e-54</td>\n",
       "</tr>\n",
       "<tr>\n",
       "  <th>Kurtosis:</th>      <td> 4.062</td>  <th>  Cond. No.          </th> <td>1.55e+09</td>\n",
       "</tr>\n",
       "</table><br/><br/>Warnings:<br/>[1] Standard Errors assume that the covariance matrix of the errors is correctly specified.<br/>[2] The condition number is large, 1.55e+09. This might indicate that there are<br/>strong multicollinearity or other numerical problems."
      ],
      "text/plain": [
       "<class 'statsmodels.iolib.summary.Summary'>\n",
       "\"\"\"\n",
       "                            OLS Regression Results                            \n",
       "==============================================================================\n",
       "Dep. Variable:                    FIC   R-squared:                       0.653\n",
       "Model:                            OLS   Adj. R-squared:                  0.651\n",
       "Method:                 Least Squares   F-statistic:                     386.9\n",
       "Date:                Wed, 30 Oct 2019   Prob (F-statistic):               0.00\n",
       "Time:                        08:32:28   Log-Likelihood:                -8599.6\n",
       "No. Observations:                3305   AIC:                         1.723e+04\n",
       "Df Residuals:                    3288   BIC:                         1.734e+04\n",
       "Df Model:                          16                                         \n",
       "Covariance Type:            nonrobust                                         \n",
       "==============================================================================\n",
       "                 coef    std err          t      P>|t|      [0.025      0.975]\n",
       "------------------------------------------------------------------------------\n",
       "const          4.6153      0.381     12.121      0.000       3.869       5.362\n",
       "x1             0.0003   9.58e-06     31.175      0.000       0.000       0.000\n",
       "x2             0.0001    1.4e-05      9.791      0.000       0.000       0.000\n",
       "x3           -87.0829     15.971     -5.453      0.000    -118.396     -55.769\n",
       "x4            -0.0074      0.001     -5.539      0.000      -0.010      -0.005\n",
       "x5          1.656e-05   9.79e-07     16.913      0.000    1.46e-05    1.85e-05\n",
       "x6            -0.0039      0.001     -5.837      0.000      -0.005      -0.003\n",
       "x7         -8.727e-06   3.36e-06     -2.594      0.010   -1.53e-05   -2.13e-06\n",
       "x8          6.031e-05   3.22e-06     18.702      0.000     5.4e-05    6.66e-05\n",
       "x9            -0.0025      0.001     -2.074      0.038      -0.005      -0.000\n",
       "x10        -5.871e-06   1.21e-06     -4.851      0.000   -8.24e-06    -3.5e-06\n",
       "x11          233.9157     70.556      3.315      0.001      95.578     372.253\n",
       "x12            1.0985      0.185      5.950      0.000       0.737       1.461\n",
       "x13        -4.062e-06   4.38e-07     -9.265      0.000   -4.92e-06    -3.2e-06\n",
       "x14           -1.2409      0.242     -5.131      0.000      -1.715      -0.767\n",
       "x15           -0.6179      0.259     -2.381      0.017      -1.127      -0.109\n",
       "x16        -4.316e-06   8.96e-07     -4.818      0.000   -6.07e-06   -2.56e-06\n",
       "==============================================================================\n",
       "Omnibus:                      156.037   Durbin-Watson:                   1.273\n",
       "Prob(Omnibus):                  0.000   Jarque-Bera (JB):              246.391\n",
       "Skew:                           0.407   Prob(JB):                     3.14e-54\n",
       "Kurtosis:                       4.062   Cond. No.                     1.55e+09\n",
       "==============================================================================\n",
       "\n",
       "Warnings:\n",
       "[1] Standard Errors assume that the covariance matrix of the errors is correctly specified.\n",
       "[2] The condition number is large, 1.55e+09. This might indicate that there are\n",
       "strong multicollinearity or other numerical problems.\n",
       "\"\"\""
      ]
     },
     "execution_count": 61,
     "metadata": {},
     "output_type": "execute_result"
    }
   ],
   "source": [
    "X_Modeled = backwardElimination(X_opt, data_FIC, SL)\n",
    "regressor_OLS = sm.OLS(endog = data_FIC, exog = X_Modeled).fit()\n",
    "regressor_OLS.summary()"
   ]
  },
  {
   "cell_type": "raw",
   "metadata": {
    "Collapsed": "false"
   },
   "source": [
    "###########################################################################################################\n",
    "# Se puede ver que ninguna de las variables esta por encima del P-value con este modelo\n",
    "###########################################################################################################"
   ]
  },
  {
   "cell_type": "raw",
   "metadata": {
    "Collapsed": "false"
   },
   "source": [
    "###########################################################################################################\n",
    "# Se hace Backward Elimination con P-values y Adjusted R Squared:\n",
    "###########################################################################################################"
   ]
  },
  {
   "cell_type": "code",
   "execution_count": 62,
   "metadata": {
    "Collapsed": "false"
   },
   "outputs": [
    {
     "name": "stdout",
     "output_type": "stream",
     "text": [
      "                            OLS Regression Results                            \n",
      "==============================================================================\n",
      "Dep. Variable:                    FIC   R-squared:                       0.654\n",
      "Model:                            OLS   Adj. R-squared:                  0.652\n",
      "Method:                 Least Squares   F-statistic:                     344.6\n",
      "Date:                Wed, 30 Oct 2019   Prob (F-statistic):               0.00\n",
      "Time:                        08:32:28   Log-Likelihood:                -8596.8\n",
      "No. Observations:                3305   AIC:                         1.723e+04\n",
      "Df Residuals:                    3286   BIC:                         1.735e+04\n",
      "Df Model:                          18                                         \n",
      "Covariance Type:            nonrobust                                         \n",
      "==============================================================================\n",
      "                 coef    std err          t      P>|t|      [0.025      0.975]\n",
      "------------------------------------------------------------------------------\n",
      "const          4.6111      0.381     12.117      0.000       3.865       5.357\n",
      "x1             0.0003   1.01e-05     30.011      0.000       0.000       0.000\n",
      "x2             0.0001   1.41e-05      9.628      0.000       0.000       0.000\n",
      "x3           -86.4857     15.972     -5.415      0.000    -117.802     -55.169\n",
      "x4            -0.0074      0.001     -5.383      0.000      -0.010      -0.005\n",
      "x5          1.667e-05   9.83e-07     16.960      0.000    1.47e-05    1.86e-05\n",
      "x6            -0.0039      0.001     -5.782      0.000      -0.005      -0.003\n",
      "x7         -8.483e-06   3.37e-06     -2.516      0.012   -1.51e-05   -1.87e-06\n",
      "x8          6.046e-05   3.23e-06     18.731      0.000    5.41e-05    6.68e-05\n",
      "x9         -5.558e-06   2.88e-06     -1.931      0.054   -1.12e-05    8.57e-08\n",
      "x10           -0.0024      0.001     -2.037      0.042      -0.005   -9.11e-05\n",
      "x11         -6.04e-06   1.22e-06     -4.965      0.000   -8.43e-06   -3.65e-06\n",
      "x12          234.0178     70.545      3.317      0.001      95.701     372.335\n",
      "x13           -0.2544      0.173     -1.471      0.141      -0.593       0.085\n",
      "x14            1.0201      0.189      5.407      0.000       0.650       1.390\n",
      "x15        -4.025e-06   4.38e-07     -9.180      0.000   -4.88e-06   -3.17e-06\n",
      "x16           -1.2305      0.242     -5.076      0.000      -1.706      -0.755\n",
      "x17           -0.6082      0.260     -2.340      0.019      -1.118      -0.098\n",
      "x18        -4.484e-06   9.01e-07     -4.980      0.000   -6.25e-06   -2.72e-06\n",
      "==============================================================================\n",
      "Omnibus:                      153.073   Durbin-Watson:                   1.271\n",
      "Prob(Omnibus):                  0.000   Jarque-Bera (JB):              239.550\n",
      "Skew:                           0.403   Prob(JB):                     9.60e-53\n",
      "Kurtosis:                       4.043   Cond. No.                     1.55e+09\n",
      "==============================================================================\n",
      "\n",
      "Warnings:\n",
      "[1] Standard Errors assume that the covariance matrix of the errors is correctly specified.\n",
      "[2] The condition number is large, 1.55e+09. This might indicate that there are\n",
      "strong multicollinearity or other numerical problems.\n"
     ]
    },
    {
     "data": {
      "text/html": [
       "<table class=\"simpletable\">\n",
       "<caption>OLS Regression Results</caption>\n",
       "<tr>\n",
       "  <th>Dep. Variable:</th>           <td>FIC</td>       <th>  R-squared:         </th> <td>   0.651</td> \n",
       "</tr>\n",
       "<tr>\n",
       "  <th>Model:</th>                   <td>OLS</td>       <th>  Adj. R-squared:    </th> <td>   0.649</td> \n",
       "</tr>\n",
       "<tr>\n",
       "  <th>Method:</th>             <td>Least Squares</td>  <th>  F-statistic:       </th> <td>   360.0</td> \n",
       "</tr>\n",
       "<tr>\n",
       "  <th>Date:</th>             <td>Wed, 30 Oct 2019</td> <th>  Prob (F-statistic):</th>  <td>  0.00</td>  \n",
       "</tr>\n",
       "<tr>\n",
       "  <th>Time:</th>                 <td>08:32:28</td>     <th>  Log-Likelihood:    </th> <td> -8611.4</td> \n",
       "</tr>\n",
       "<tr>\n",
       "  <th>No. Observations:</th>      <td>  3305</td>      <th>  AIC:               </th> <td>1.726e+04</td>\n",
       "</tr>\n",
       "<tr>\n",
       "  <th>Df Residuals:</th>          <td>  3287</td>      <th>  BIC:               </th> <td>1.737e+04</td>\n",
       "</tr>\n",
       "<tr>\n",
       "  <th>Df Model:</th>              <td>    17</td>      <th>                     </th>     <td> </td>    \n",
       "</tr>\n",
       "<tr>\n",
       "  <th>Covariance Type:</th>      <td>nonrobust</td>    <th>                     </th>     <td> </td>    \n",
       "</tr>\n",
       "</table>\n",
       "<table class=\"simpletable\">\n",
       "<tr>\n",
       "    <td></td>       <th>coef</th>     <th>std err</th>      <th>t</th>      <th>P>|t|</th>  <th>[0.025</th>    <th>0.975]</th>  \n",
       "</tr>\n",
       "<tr>\n",
       "  <th>const</th> <td>    4.7639</td> <td>    0.381</td> <td>   12.499</td> <td> 0.000</td> <td>    4.017</td> <td>    5.511</td>\n",
       "</tr>\n",
       "<tr>\n",
       "  <th>x1</th>    <td>    0.0003</td> <td> 1.01e-05</td> <td>   30.198</td> <td> 0.000</td> <td>    0.000</td> <td>    0.000</td>\n",
       "</tr>\n",
       "<tr>\n",
       "  <th>x2</th>    <td>    0.0001</td> <td> 1.41e-05</td> <td>    9.623</td> <td> 0.000</td> <td>    0.000</td> <td>    0.000</td>\n",
       "</tr>\n",
       "<tr>\n",
       "  <th>x3</th>    <td>  -85.1174</td> <td>   16.039</td> <td>   -5.307</td> <td> 0.000</td> <td> -116.564</td> <td>  -53.671</td>\n",
       "</tr>\n",
       "<tr>\n",
       "  <th>x4</th>    <td>   -0.0073</td> <td>    0.001</td> <td>   -5.258</td> <td> 0.000</td> <td>   -0.010</td> <td>   -0.005</td>\n",
       "</tr>\n",
       "<tr>\n",
       "  <th>x5</th>    <td> 1.681e-05</td> <td> 9.87e-07</td> <td>   17.035</td> <td> 0.000</td> <td> 1.49e-05</td> <td> 1.87e-05</td>\n",
       "</tr>\n",
       "<tr>\n",
       "  <th>x6</th>    <td>   -0.0040</td> <td>    0.001</td> <td>   -5.958</td> <td> 0.000</td> <td>   -0.005</td> <td>   -0.003</td>\n",
       "</tr>\n",
       "<tr>\n",
       "  <th>x7</th>    <td>-8.014e-06</td> <td> 3.38e-06</td> <td>   -2.368</td> <td> 0.018</td> <td>-1.47e-05</td> <td>-1.38e-06</td>\n",
       "</tr>\n",
       "<tr>\n",
       "  <th>x8</th>    <td> 6.127e-05</td> <td> 3.24e-06</td> <td>   18.922</td> <td> 0.000</td> <td> 5.49e-05</td> <td> 6.76e-05</td>\n",
       "</tr>\n",
       "<tr>\n",
       "  <th>x9</th>    <td>-6.746e-06</td> <td> 2.88e-06</td> <td>   -2.340</td> <td> 0.019</td> <td>-1.24e-05</td> <td>-1.09e-06</td>\n",
       "</tr>\n",
       "<tr>\n",
       "  <th>x10</th>   <td>   -0.0021</td> <td>    0.001</td> <td>   -1.785</td> <td> 0.074</td> <td>   -0.004</td> <td>    0.000</td>\n",
       "</tr>\n",
       "<tr>\n",
       "  <th>x11</th>   <td>-6.359e-06</td> <td> 1.22e-06</td> <td>   -5.211</td> <td> 0.000</td> <td>-8.75e-06</td> <td>-3.97e-06</td>\n",
       "</tr>\n",
       "<tr>\n",
       "  <th>x12</th>   <td>  230.4752</td> <td>   70.845</td> <td>    3.253</td> <td> 0.001</td> <td>   91.571</td> <td>  369.379</td>\n",
       "</tr>\n",
       "<tr>\n",
       "  <th>x13</th>   <td>-4.179e-06</td> <td> 4.39e-07</td> <td>   -9.511</td> <td> 0.000</td> <td>-5.04e-06</td> <td>-3.32e-06</td>\n",
       "</tr>\n",
       "<tr>\n",
       "  <th>x14</th>   <td>   -0.7926</td> <td>    0.229</td> <td>   -3.454</td> <td> 0.001</td> <td>   -1.243</td> <td>   -0.343</td>\n",
       "</tr>\n",
       "<tr>\n",
       "  <th>x15</th>   <td>   -0.5716</td> <td>    0.261</td> <td>   -2.190</td> <td> 0.029</td> <td>   -1.083</td> <td>   -0.060</td>\n",
       "</tr>\n",
       "<tr>\n",
       "  <th>x16</th>   <td>-4.203e-06</td> <td> 9.03e-07</td> <td>   -4.655</td> <td> 0.000</td> <td>-5.97e-06</td> <td>-2.43e-06</td>\n",
       "</tr>\n",
       "<tr>\n",
       "  <th>x17</th>   <td>         0</td> <td>        0</td> <td>      nan</td> <td>   nan</td> <td>        0</td> <td>        0</td>\n",
       "</tr>\n",
       "<tr>\n",
       "  <th>x18</th>   <td>   -0.4379</td> <td>    0.170</td> <td>   -2.572</td> <td> 0.010</td> <td>   -0.772</td> <td>   -0.104</td>\n",
       "</tr>\n",
       "</table>\n",
       "<table class=\"simpletable\">\n",
       "<tr>\n",
       "  <th>Omnibus:</th>       <td>163.699</td> <th>  Durbin-Watson:     </th> <td>   1.263</td>\n",
       "</tr>\n",
       "<tr>\n",
       "  <th>Prob(Omnibus):</th> <td> 0.000</td>  <th>  Jarque-Bera (JB):  </th> <td> 259.561</td>\n",
       "</tr>\n",
       "<tr>\n",
       "  <th>Skew:</th>          <td> 0.421</td>  <th>  Prob(JB):          </th> <td>4.33e-57</td>\n",
       "</tr>\n",
       "<tr>\n",
       "  <th>Kurtosis:</th>      <td> 4.084</td>  <th>  Cond. No.          </th> <td>1.86e+28</td>\n",
       "</tr>\n",
       "</table><br/><br/>Warnings:<br/>[1] Standard Errors assume that the covariance matrix of the errors is correctly specified.<br/>[2] The smallest eigenvalue is 1.45e-41. This might indicate that there are<br/>strong multicollinearity problems or that the design matrix is singular."
      ],
      "text/plain": [
       "<class 'statsmodels.iolib.summary.Summary'>\n",
       "\"\"\"\n",
       "                            OLS Regression Results                            \n",
       "==============================================================================\n",
       "Dep. Variable:                    FIC   R-squared:                       0.651\n",
       "Model:                            OLS   Adj. R-squared:                  0.649\n",
       "Method:                 Least Squares   F-statistic:                     360.0\n",
       "Date:                Wed, 30 Oct 2019   Prob (F-statistic):               0.00\n",
       "Time:                        08:32:28   Log-Likelihood:                -8611.4\n",
       "No. Observations:                3305   AIC:                         1.726e+04\n",
       "Df Residuals:                    3287   BIC:                         1.737e+04\n",
       "Df Model:                          17                                         \n",
       "Covariance Type:            nonrobust                                         \n",
       "==============================================================================\n",
       "                 coef    std err          t      P>|t|      [0.025      0.975]\n",
       "------------------------------------------------------------------------------\n",
       "const          4.7639      0.381     12.499      0.000       4.017       5.511\n",
       "x1             0.0003   1.01e-05     30.198      0.000       0.000       0.000\n",
       "x2             0.0001   1.41e-05      9.623      0.000       0.000       0.000\n",
       "x3           -85.1174     16.039     -5.307      0.000    -116.564     -53.671\n",
       "x4            -0.0073      0.001     -5.258      0.000      -0.010      -0.005\n",
       "x5          1.681e-05   9.87e-07     17.035      0.000    1.49e-05    1.87e-05\n",
       "x6            -0.0040      0.001     -5.958      0.000      -0.005      -0.003\n",
       "x7         -8.014e-06   3.38e-06     -2.368      0.018   -1.47e-05   -1.38e-06\n",
       "x8          6.127e-05   3.24e-06     18.922      0.000    5.49e-05    6.76e-05\n",
       "x9         -6.746e-06   2.88e-06     -2.340      0.019   -1.24e-05   -1.09e-06\n",
       "x10           -0.0021      0.001     -1.785      0.074      -0.004       0.000\n",
       "x11        -6.359e-06   1.22e-06     -5.211      0.000   -8.75e-06   -3.97e-06\n",
       "x12          230.4752     70.845      3.253      0.001      91.571     369.379\n",
       "x13        -4.179e-06   4.39e-07     -9.511      0.000   -5.04e-06   -3.32e-06\n",
       "x14           -0.7926      0.229     -3.454      0.001      -1.243      -0.343\n",
       "x15           -0.5716      0.261     -2.190      0.029      -1.083      -0.060\n",
       "x16        -4.203e-06   9.03e-07     -4.655      0.000   -5.97e-06   -2.43e-06\n",
       "x17                 0          0        nan        nan           0           0\n",
       "x18           -0.4379      0.170     -2.572      0.010      -0.772      -0.104\n",
       "==============================================================================\n",
       "Omnibus:                      163.699   Durbin-Watson:                   1.263\n",
       "Prob(Omnibus):                  0.000   Jarque-Bera (JB):              259.561\n",
       "Skew:                           0.421   Prob(JB):                     4.33e-57\n",
       "Kurtosis:                       4.084   Cond. No.                     1.86e+28\n",
       "==============================================================================\n",
       "\n",
       "Warnings:\n",
       "[1] Standard Errors assume that the covariance matrix of the errors is correctly specified.\n",
       "[2] The smallest eigenvalue is 1.45e-41. This might indicate that there are\n",
       "strong multicollinearity problems or that the design matrix is singular.\n",
       "\"\"\""
      ]
     },
     "execution_count": 62,
     "metadata": {},
     "output_type": "execute_result"
    }
   ],
   "source": [
    "X_Modeled = backwardEliminationRQ(X_opt, data_FIC, SL)\n",
    "regressor_OLS = sm.OLS(endog = data_FIC, exog = X_Modeled).fit()\n",
    "regressor_OLS.summary()\n"
   ]
  },
  {
   "cell_type": "raw",
   "metadata": {
    "Collapsed": "false"
   },
   "source": [
    "###########################################################################################################\n",
    "# Tampoco se ven variables a ser descartadas con este modelo\n",
    "###########################################################################################################"
   ]
  },
  {
   "cell_type": "markdown",
   "metadata": {
    "Collapsed": "false"
   },
   "source": [
    "### Evaluación de correlacion y sesgo de dataset procesado mediante el perfilador de pandas"
   ]
  },
  {
   "cell_type": "code",
   "execution_count": 63,
   "metadata": {
    "Collapsed": "false"
   },
   "outputs": [],
   "source": [
    "#data_top.index\n",
    "data_dfo.reset_index(inplace=True)\n",
    "data_top.reset_index(inplace=True)\n"
   ]
  },
  {
   "cell_type": "code",
   "execution_count": 64,
   "metadata": {},
   "outputs": [],
   "source": [
    "df_FIC  = data_dfo.FIC\n",
    "data_top_full = pd.concat((data_top, df_FIC), axis=1)"
   ]
  },
  {
   "cell_type": "code",
   "execution_count": 65,
   "metadata": {},
   "outputs": [
    {
     "data": {
      "text/html": [
       "<div>\n",
       "<style scoped>\n",
       "    .dataframe tbody tr th:only-of-type {\n",
       "        vertical-align: middle;\n",
       "    }\n",
       "\n",
       "    .dataframe tbody tr th {\n",
       "        vertical-align: top;\n",
       "    }\n",
       "\n",
       "    .dataframe thead th {\n",
       "        text-align: right;\n",
       "    }\n",
       "</style>\n",
       "<table border=\"1\" class=\"dataframe\">\n",
       "  <thead>\n",
       "    <tr style=\"text-align: right;\">\n",
       "      <th></th>\n",
       "      <th>COD_ID</th>\n",
       "      <th>DISTANCE_SUB</th>\n",
       "      <th>CTMT_PNTMT_STD</th>\n",
       "      <th>CLO_CEN</th>\n",
       "      <th>TIP_CC_RES-Tipo3</th>\n",
       "      <th>POT_NOM</th>\n",
       "      <th>PERD_A4_B</th>\n",
       "      <th>I_NOM_MED_R</th>\n",
       "      <th>CTMT_ENE_STD</th>\n",
       "      <th>CTMT_PNTMT_MED</th>\n",
       "      <th>...</th>\n",
       "      <th>CTMT_PNTBT_MAX</th>\n",
       "      <th>PAGE_RANK</th>\n",
       "      <th>TIP_TRAFO_M</th>\n",
       "      <th>FAS_CON_S_ABCN</th>\n",
       "      <th>CTMT_ENE_MED</th>\n",
       "      <th>GRU_TAR_B3</th>\n",
       "      <th>TIP_CC_RES-Tipo10</th>\n",
       "      <th>PERD_A4</th>\n",
       "      <th>TIP_CC_RES-Tipo5</th>\n",
       "      <th>FIC</th>\n",
       "    </tr>\n",
       "  </thead>\n",
       "  <tbody>\n",
       "    <tr>\n",
       "      <th>0</th>\n",
       "      <td>26879192</td>\n",
       "      <td>5104.49</td>\n",
       "      <td>2088.58</td>\n",
       "      <td>0.02</td>\n",
       "      <td>0.00</td>\n",
       "      <td>45.00</td>\n",
       "      <td>389840.98</td>\n",
       "      <td>365.00</td>\n",
       "      <td>43960.32</td>\n",
       "      <td>18885.60</td>\n",
       "      <td>...</td>\n",
       "      <td>143337.13</td>\n",
       "      <td>0.00</td>\n",
       "      <td>0.00</td>\n",
       "      <td>0.00</td>\n",
       "      <td>1421387.50</td>\n",
       "      <td>0.00</td>\n",
       "      <td>0.00</td>\n",
       "      <td>255476.21</td>\n",
       "      <td>0.00</td>\n",
       "      <td>1.00</td>\n",
       "    </tr>\n",
       "    <tr>\n",
       "      <th>1</th>\n",
       "      <td>26880293</td>\n",
       "      <td>3774.91</td>\n",
       "      <td>8194.44</td>\n",
       "      <td>0.01</td>\n",
       "      <td>0.00</td>\n",
       "      <td>112.50</td>\n",
       "      <td>408741.02</td>\n",
       "      <td>438.00</td>\n",
       "      <td>67863.54</td>\n",
       "      <td>22266.87</td>\n",
       "      <td>...</td>\n",
       "      <td>119688.30</td>\n",
       "      <td>0.00</td>\n",
       "      <td>0.00</td>\n",
       "      <td>0.00</td>\n",
       "      <td>1648865.40</td>\n",
       "      <td>0.00</td>\n",
       "      <td>0.00</td>\n",
       "      <td>350609.30</td>\n",
       "      <td>0.00</td>\n",
       "      <td>0.00</td>\n",
       "    </tr>\n",
       "    <tr>\n",
       "      <th>2</th>\n",
       "      <td>26880293</td>\n",
       "      <td>3774.91</td>\n",
       "      <td>8194.44</td>\n",
       "      <td>0.03</td>\n",
       "      <td>0.00</td>\n",
       "      <td>112.50</td>\n",
       "      <td>408741.02</td>\n",
       "      <td>438.00</td>\n",
       "      <td>67863.54</td>\n",
       "      <td>22266.87</td>\n",
       "      <td>...</td>\n",
       "      <td>119688.30</td>\n",
       "      <td>0.00</td>\n",
       "      <td>0.00</td>\n",
       "      <td>0.00</td>\n",
       "      <td>1648865.40</td>\n",
       "      <td>0.00</td>\n",
       "      <td>0.00</td>\n",
       "      <td>350609.30</td>\n",
       "      <td>0.00</td>\n",
       "      <td>0.00</td>\n",
       "    </tr>\n",
       "    <tr>\n",
       "      <th>3</th>\n",
       "      <td>26880295</td>\n",
       "      <td>3897.62</td>\n",
       "      <td>8194.44</td>\n",
       "      <td>0.01</td>\n",
       "      <td>0.00</td>\n",
       "      <td>75.00</td>\n",
       "      <td>408741.02</td>\n",
       "      <td>438.00</td>\n",
       "      <td>67863.54</td>\n",
       "      <td>22266.87</td>\n",
       "      <td>...</td>\n",
       "      <td>119688.30</td>\n",
       "      <td>0.00</td>\n",
       "      <td>0.00</td>\n",
       "      <td>0.00</td>\n",
       "      <td>1648865.40</td>\n",
       "      <td>0.00</td>\n",
       "      <td>0.00</td>\n",
       "      <td>350609.30</td>\n",
       "      <td>0.00</td>\n",
       "      <td>0.00</td>\n",
       "    </tr>\n",
       "    <tr>\n",
       "      <th>4</th>\n",
       "      <td>26880295</td>\n",
       "      <td>3897.62</td>\n",
       "      <td>8194.44</td>\n",
       "      <td>0.03</td>\n",
       "      <td>0.00</td>\n",
       "      <td>75.00</td>\n",
       "      <td>408741.02</td>\n",
       "      <td>438.00</td>\n",
       "      <td>67863.54</td>\n",
       "      <td>22266.87</td>\n",
       "      <td>...</td>\n",
       "      <td>119688.30</td>\n",
       "      <td>0.00</td>\n",
       "      <td>0.00</td>\n",
       "      <td>0.00</td>\n",
       "      <td>1648865.40</td>\n",
       "      <td>0.00</td>\n",
       "      <td>0.00</td>\n",
       "      <td>350609.30</td>\n",
       "      <td>0.00</td>\n",
       "      <td>0.00</td>\n",
       "    </tr>\n",
       "    <tr>\n",
       "      <th>...</th>\n",
       "      <td>...</td>\n",
       "      <td>...</td>\n",
       "      <td>...</td>\n",
       "      <td>...</td>\n",
       "      <td>...</td>\n",
       "      <td>...</td>\n",
       "      <td>...</td>\n",
       "      <td>...</td>\n",
       "      <td>...</td>\n",
       "      <td>...</td>\n",
       "      <td>...</td>\n",
       "      <td>...</td>\n",
       "      <td>...</td>\n",
       "      <td>...</td>\n",
       "      <td>...</td>\n",
       "      <td>...</td>\n",
       "      <td>...</td>\n",
       "      <td>...</td>\n",
       "      <td>...</td>\n",
       "      <td>...</td>\n",
       "      <td>...</td>\n",
       "    </tr>\n",
       "    <tr>\n",
       "      <th>3301</th>\n",
       "      <td>26878634</td>\n",
       "      <td>15732.31</td>\n",
       "      <td>4838.27</td>\n",
       "      <td>0.00</td>\n",
       "      <td>0.00</td>\n",
       "      <td>15.00</td>\n",
       "      <td>379666.04</td>\n",
       "      <td>168.00</td>\n",
       "      <td>93329.28</td>\n",
       "      <td>13712.42</td>\n",
       "      <td>...</td>\n",
       "      <td>320696.78</td>\n",
       "      <td>0.00</td>\n",
       "      <td>0.00</td>\n",
       "      <td>0.00</td>\n",
       "      <td>1013653.45</td>\n",
       "      <td>0.00</td>\n",
       "      <td>0.00</td>\n",
       "      <td>198609.64</td>\n",
       "      <td>0.00</td>\n",
       "      <td>16.00</td>\n",
       "    </tr>\n",
       "    <tr>\n",
       "      <th>3302</th>\n",
       "      <td>26878635</td>\n",
       "      <td>16620.79</td>\n",
       "      <td>4838.27</td>\n",
       "      <td>0.00</td>\n",
       "      <td>0.00</td>\n",
       "      <td>10.00</td>\n",
       "      <td>379666.04</td>\n",
       "      <td>168.00</td>\n",
       "      <td>93329.28</td>\n",
       "      <td>13712.42</td>\n",
       "      <td>...</td>\n",
       "      <td>320696.78</td>\n",
       "      <td>0.00</td>\n",
       "      <td>1.00</td>\n",
       "      <td>0.00</td>\n",
       "      <td>1013653.45</td>\n",
       "      <td>0.00</td>\n",
       "      <td>0.00</td>\n",
       "      <td>198609.64</td>\n",
       "      <td>0.00</td>\n",
       "      <td>8.00</td>\n",
       "    </tr>\n",
       "    <tr>\n",
       "      <th>3303</th>\n",
       "      <td>26878636</td>\n",
       "      <td>16872.15</td>\n",
       "      <td>4838.27</td>\n",
       "      <td>0.00</td>\n",
       "      <td>0.00</td>\n",
       "      <td>45.00</td>\n",
       "      <td>379666.04</td>\n",
       "      <td>168.00</td>\n",
       "      <td>93329.28</td>\n",
       "      <td>13712.42</td>\n",
       "      <td>...</td>\n",
       "      <td>320696.78</td>\n",
       "      <td>0.00</td>\n",
       "      <td>0.00</td>\n",
       "      <td>1.00</td>\n",
       "      <td>1013653.45</td>\n",
       "      <td>0.00</td>\n",
       "      <td>0.00</td>\n",
       "      <td>198609.64</td>\n",
       "      <td>0.00</td>\n",
       "      <td>8.00</td>\n",
       "    </tr>\n",
       "    <tr>\n",
       "      <th>3304</th>\n",
       "      <td>26878637</td>\n",
       "      <td>17049.51</td>\n",
       "      <td>4838.27</td>\n",
       "      <td>0.00</td>\n",
       "      <td>0.00</td>\n",
       "      <td>15.00</td>\n",
       "      <td>379666.04</td>\n",
       "      <td>168.00</td>\n",
       "      <td>93329.28</td>\n",
       "      <td>13712.42</td>\n",
       "      <td>...</td>\n",
       "      <td>320696.78</td>\n",
       "      <td>0.00</td>\n",
       "      <td>0.00</td>\n",
       "      <td>1.00</td>\n",
       "      <td>1013653.45</td>\n",
       "      <td>0.00</td>\n",
       "      <td>0.00</td>\n",
       "      <td>198609.64</td>\n",
       "      <td>0.00</td>\n",
       "      <td>13.00</td>\n",
       "    </tr>\n",
       "    <tr>\n",
       "      <th>3305</th>\n",
       "      <td>NaN</td>\n",
       "      <td>nan</td>\n",
       "      <td>nan</td>\n",
       "      <td>nan</td>\n",
       "      <td>nan</td>\n",
       "      <td>nan</td>\n",
       "      <td>nan</td>\n",
       "      <td>nan</td>\n",
       "      <td>nan</td>\n",
       "      <td>nan</td>\n",
       "      <td>...</td>\n",
       "      <td>nan</td>\n",
       "      <td>nan</td>\n",
       "      <td>nan</td>\n",
       "      <td>nan</td>\n",
       "      <td>nan</td>\n",
       "      <td>nan</td>\n",
       "      <td>nan</td>\n",
       "      <td>nan</td>\n",
       "      <td>nan</td>\n",
       "      <td>18.00</td>\n",
       "    </tr>\n",
       "  </tbody>\n",
       "</table>\n",
       "<p>3306 rows × 22 columns</p>\n",
       "</div>"
      ],
      "text/plain": [
       "        COD_ID  DISTANCE_SUB  CTMT_PNTMT_STD  CLO_CEN  TIP_CC_RES-Tipo3  \\\n",
       "0     26879192       5104.49         2088.58     0.02              0.00   \n",
       "1     26880293       3774.91         8194.44     0.01              0.00   \n",
       "2     26880293       3774.91         8194.44     0.03              0.00   \n",
       "3     26880295       3897.62         8194.44     0.01              0.00   \n",
       "4     26880295       3897.62         8194.44     0.03              0.00   \n",
       "...        ...           ...             ...      ...               ...   \n",
       "3301  26878634      15732.31         4838.27     0.00              0.00   \n",
       "3302  26878635      16620.79         4838.27     0.00              0.00   \n",
       "3303  26878636      16872.15         4838.27     0.00              0.00   \n",
       "3304  26878637      17049.51         4838.27     0.00              0.00   \n",
       "3305       NaN           nan             nan      nan               nan   \n",
       "\n",
       "      POT_NOM  PERD_A4_B  I_NOM_MED_R  CTMT_ENE_STD  CTMT_PNTMT_MED  ...  \\\n",
       "0       45.00  389840.98       365.00      43960.32        18885.60  ...   \n",
       "1      112.50  408741.02       438.00      67863.54        22266.87  ...   \n",
       "2      112.50  408741.02       438.00      67863.54        22266.87  ...   \n",
       "3       75.00  408741.02       438.00      67863.54        22266.87  ...   \n",
       "4       75.00  408741.02       438.00      67863.54        22266.87  ...   \n",
       "...       ...        ...          ...           ...             ...  ...   \n",
       "3301    15.00  379666.04       168.00      93329.28        13712.42  ...   \n",
       "3302    10.00  379666.04       168.00      93329.28        13712.42  ...   \n",
       "3303    45.00  379666.04       168.00      93329.28        13712.42  ...   \n",
       "3304    15.00  379666.04       168.00      93329.28        13712.42  ...   \n",
       "3305      nan        nan          nan           nan             nan  ...   \n",
       "\n",
       "      CTMT_PNTBT_MAX  PAGE_RANK  TIP_TRAFO_M  FAS_CON_S_ABCN  CTMT_ENE_MED  \\\n",
       "0          143337.13       0.00         0.00            0.00    1421387.50   \n",
       "1          119688.30       0.00         0.00            0.00    1648865.40   \n",
       "2          119688.30       0.00         0.00            0.00    1648865.40   \n",
       "3          119688.30       0.00         0.00            0.00    1648865.40   \n",
       "4          119688.30       0.00         0.00            0.00    1648865.40   \n",
       "...              ...        ...          ...             ...           ...   \n",
       "3301       320696.78       0.00         0.00            0.00    1013653.45   \n",
       "3302       320696.78       0.00         1.00            0.00    1013653.45   \n",
       "3303       320696.78       0.00         0.00            1.00    1013653.45   \n",
       "3304       320696.78       0.00         0.00            1.00    1013653.45   \n",
       "3305             nan        nan          nan             nan           nan   \n",
       "\n",
       "      GRU_TAR_B3  TIP_CC_RES-Tipo10   PERD_A4  TIP_CC_RES-Tipo5   FIC  \n",
       "0           0.00               0.00 255476.21              0.00  1.00  \n",
       "1           0.00               0.00 350609.30              0.00  0.00  \n",
       "2           0.00               0.00 350609.30              0.00  0.00  \n",
       "3           0.00               0.00 350609.30              0.00  0.00  \n",
       "4           0.00               0.00 350609.30              0.00  0.00  \n",
       "...          ...                ...       ...               ...   ...  \n",
       "3301        0.00               0.00 198609.64              0.00 16.00  \n",
       "3302        0.00               0.00 198609.64              0.00  8.00  \n",
       "3303        0.00               0.00 198609.64              0.00  8.00  \n",
       "3304        0.00               0.00 198609.64              0.00 13.00  \n",
       "3305         nan                nan       nan               nan 18.00  \n",
       "\n",
       "[3306 rows x 22 columns]"
      ]
     },
     "execution_count": 65,
     "metadata": {},
     "output_type": "execute_result"
    }
   ],
   "source": [
    "data_top_full"
   ]
  },
  {
   "cell_type": "code",
   "execution_count": 66,
   "metadata": {
    "Collapsed": "false"
   },
   "outputs": [],
   "source": [
    "#pp.ProfileReport(data_top_full)"
   ]
  },
  {
   "cell_type": "markdown",
   "metadata": {
    "Collapsed": "false"
   },
   "source": [
    "#### Verificación de consistencia de datos previa a la grabación"
   ]
  },
  {
   "cell_type": "code",
   "execution_count": 67,
   "metadata": {
    "Collapsed": "false"
   },
   "outputs": [
    {
     "data": {
      "text/plain": [
       "(3306, 22)"
      ]
     },
     "execution_count": 67,
     "metadata": {},
     "output_type": "execute_result"
    }
   ],
   "source": [
    "df = data_top_full\n",
    "df.shape"
   ]
  },
  {
   "cell_type": "code",
   "execution_count": 68,
   "metadata": {
    "Collapsed": "false"
   },
   "outputs": [
    {
     "data": {
      "text/plain": [
       "COD_ID                object\n",
       "DISTANCE_SUB         float64\n",
       "CTMT_PNTMT_STD       float64\n",
       "CLO_CEN              float64\n",
       "TIP_CC_RES-Tipo3     float64\n",
       "POT_NOM              float64\n",
       "PERD_A4_B            float64\n",
       "I_NOM_MED_R          float64\n",
       "CTMT_ENE_STD         float64\n",
       "CTMT_PNTMT_MED       float64\n",
       "UCBT_ENE_MED         float64\n",
       "I_NOM_MIN_R          float64\n",
       "CTMT_PNTBT_MAX       float64\n",
       "PAGE_RANK            float64\n",
       "TIP_TRAFO_M          float64\n",
       "FAS_CON_S_ABCN       float64\n",
       "CTMT_ENE_MED         float64\n",
       "GRU_TAR_B3           float64\n",
       "TIP_CC_RES-Tipo10    float64\n",
       "PERD_A4              float64\n",
       "TIP_CC_RES-Tipo5     float64\n",
       "FIC                  float64\n",
       "dtype: object"
      ]
     },
     "execution_count": 68,
     "metadata": {},
     "output_type": "execute_result"
    }
   ],
   "source": [
    "df.dtypes"
   ]
  },
  {
   "cell_type": "code",
   "execution_count": 69,
   "metadata": {
    "Collapsed": "false"
   },
   "outputs": [
    {
     "data": {
      "text/plain": [
       "(3306, 22)"
      ]
     },
     "execution_count": 69,
     "metadata": {},
     "output_type": "execute_result"
    }
   ],
   "source": [
    " df.shape"
   ]
  },
  {
   "cell_type": "code",
   "execution_count": 70,
   "metadata": {
    "Collapsed": "false"
   },
   "outputs": [],
   "source": [
    "if  (df[df.isnull().any(1)]).empty:\n",
    "    print ('no hay nulos')\n",
    "else:\n",
    "    df.drop(df[df.isnull().any(1)].index, inplace = True)\n",
    "    df.shape"
   ]
  },
  {
   "cell_type": "code",
   "execution_count": 71,
   "metadata": {
    "Collapsed": "false"
   },
   "outputs": [
    {
     "data": {
      "text/plain": [
       "(3305, 22)"
      ]
     },
     "execution_count": 71,
     "metadata": {},
     "output_type": "execute_result"
    }
   ],
   "source": [
    "df.shape"
   ]
  },
  {
   "cell_type": "markdown",
   "metadata": {
    "Collapsed": "false"
   },
   "source": [
    "#### Grabacion de archivo UNTRD para analisis de calidad del servicio"
   ]
  },
  {
   "cell_type": "code",
   "execution_count": 72,
   "metadata": {
    "Collapsed": "false"
   },
   "outputs": [],
   "source": [
    "data_path = BASE_DIR+'UNTRD_ENF.csv'"
   ]
  },
  {
   "cell_type": "code",
   "execution_count": 73,
   "metadata": {
    "Collapsed": "false"
   },
   "outputs": [],
   "source": [
    "df.to_csv(data_path, index=False)"
   ]
  },
  {
   "cell_type": "code",
   "execution_count": null,
   "metadata": {},
   "outputs": [],
   "source": []
  },
  {
   "cell_type": "code",
   "execution_count": null,
   "metadata": {},
   "outputs": [],
   "source": []
  }
 ],
 "metadata": {
  "kernelspec": {
   "display_name": "Python 3",
   "language": "python",
   "name": "python3"
  },
  "language_info": {
   "codemirror_mode": {
    "name": "ipython",
    "version": 3
   },
   "file_extension": ".py",
   "mimetype": "text/x-python",
   "name": "python",
   "nbconvert_exporter": "python",
   "pygments_lexer": "ipython3",
   "version": "3.7.3"
  },
  "widgets": {
   "application/vnd.jupyter.widget-state+json": {
    "state": {},
    "version_major": 2,
    "version_minor": 0
   }
  }
 },
 "nbformat": 4,
 "nbformat_minor": 4
}
