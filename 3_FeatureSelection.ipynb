{
 "cells": [
  {
   "cell_type": "markdown",
   "metadata": {
    "Collapsed": "false"
   },
   "source": [
    "# Feauture Selection"
   ]
  },
  {
   "cell_type": "markdown",
   "metadata": {
    "Collapsed": "false"
   },
   "source": [
    "## Imports & Load Data"
   ]
  },
  {
   "cell_type": "code",
   "execution_count": 1,
   "metadata": {
    "Collapsed": "false"
   },
   "outputs": [],
   "source": [
    "import warnings\n",
    "warnings.filterwarnings('ignore')"
   ]
  },
  {
   "cell_type": "code",
   "execution_count": 106,
   "metadata": {
    "Collapsed": "false"
   },
   "outputs": [],
   "source": [
    "import numpy as np\n",
    "import pandas as pd\n",
    "\n",
    "import pickle\n",
    "\n",
    "import mlflow\n",
    "import mlflow.sklearn"
   ]
  },
  {
   "cell_type": "code",
   "execution_count": 3,
   "metadata": {
    "Collapsed": "false"
   },
   "outputs": [],
   "source": [
    "# Cargar endpoint\n",
    "infile = open('./data/21_ETL_tabular.pkl','rb')\n",
    "tabular_ft = pickle.load(infile)\n",
    "infile.close()"
   ]
  },
  {
   "cell_type": "code",
   "execution_count": 4,
   "metadata": {
    "Collapsed": "false"
   },
   "outputs": [],
   "source": [
    "filename = './data/221_graph_metrics.pkl'\n",
    "infile = open(filename, 'rb')\n",
    "gmetrics_ft = pickle.load(infile)\n",
    "infile.close()"
   ]
  },
  {
   "cell_type": "code",
   "execution_count": 5,
   "metadata": {
    "Collapsed": "false"
   },
   "outputs": [],
   "source": [
    "filename = './data/222_ETRD_ROUTES_ELEC.pkl'\n",
    "infile = open(filename, 'rb')\n",
    "path_ft = pickle.load(infile)\n",
    "infile.close()"
   ]
  },
  {
   "cell_type": "code",
   "execution_count": 6,
   "metadata": {
    "Collapsed": "false"
   },
   "outputs": [],
   "source": [
    "filename = './data/223_ConsumerDensity.pkl'\n",
    "infile = open(filename, 'rb')\n",
    "con_cer_ft = pickle.load(infile)\n",
    "infile.close()"
   ]
  },
  {
   "cell_type": "code",
   "execution_count": 7,
   "metadata": {
    "Collapsed": "false"
   },
   "outputs": [],
   "source": [
    "filename = './data/1_OUTFT_UNTRD_FIC.pkl'\n",
    "infile = open(filename, 'rb')\n",
    "DEPVAR = pickle.load(infile)\n",
    "infile.close()"
   ]
  },
  {
   "cell_type": "markdown",
   "metadata": {
    "Collapsed": "false"
   },
   "source": [
    "## Preparar Datos"
   ]
  },
  {
   "cell_type": "code",
   "execution_count": 8,
   "metadata": {
    "Collapsed": "false"
   },
   "outputs": [],
   "source": [
    "# Unir features en un unico dataframe\n",
    "data = pd.merge(tabular_ft, gmetrics_ft, on = 'COD_ID')\n",
    "data = pd.merge(data, path_ft, on = 'COD_ID')\n",
    "\n",
    "# Adicionar variable dependiente FIC\n",
    "data = pd.merge(data, DEPVAR.reset_index(), left_on='COD_ID', right_on='UNI_TR_D')"
   ]
  },
  {
   "cell_type": "code",
   "execution_count": 9,
   "metadata": {
    "Collapsed": "false"
   },
   "outputs": [
    {
     "data": {
      "text/plain": [
       "Index(['COD_ID', 'FAS_CON_P', 'FAS_CON_S', 'FAS_CON_T', 'TEN_LIN_SE',\n",
       "       'CAP_ELO', 'CAP_CHA', 'CONF', 'POSTO', 'POT_NOM', 'PER_FER', 'PER_TOT',\n",
       "       'TIP_TRAFO', 'ARE_LOC', 'UNI_TR_D_x', 'CLAS_SUB', 'CNAE', 'TIP_CC',\n",
       "       'TEN_FORN', 'GRU_TAR', 'CAR_INST', 'UCBT_ENE_MED', 'UCBT_ENE_STD',\n",
       "       'UCBT_ENE_MAX', 'NCON', 'NCON_URB', 'CTMT_ENE_MED', 'CTMT_ENE_STD',\n",
       "       'CTMT_ENE_MAX', 'PERD_A3a', 'PERD_A4', 'PERD_B', 'PERD_MED',\n",
       "       'PERD_A3a_B', 'PERD_A4_B', 'PERD_B_A3a', 'PERD_B_A4', 'CTMT_PNTMT_MED',\n",
       "       'CTMT_PNTMT_STD', 'CTMT_PNTMT_MAX', 'CTMT_PNTBT_MED', 'CTMT_PNTBT_STD',\n",
       "       'CTMT_PNTBT_MAX', 'POT_NOM_TRS', 'POT_F01', 'POT_F02', 'PER_FER_TRS',\n",
       "       'PER_TOT_TRS', 'TIP_TRAFO_TRS', 'UNTRS_ENES_MED', 'UNTRS_ENES_STD',\n",
       "       'UNTRS_ENES_MAX', 'UNTRS_ENET_MED', 'UNTRS_ENET_STD', 'UNTRS_ENET_MAX',\n",
       "       'DEGREE', 'NEIG_DEGREE', 'BET_CEN', 'CLO_CEN', 'PAGE_RANK',\n",
       "       'DISTANCE_SUB', 'FCONV_R', 'I_MAX_MED_R', 'I_MAX_MIN_R', 'I_NOM_MED_R',\n",
       "       'I_NOM_MIN_R', 'REAC_SUB', 'RESI_SUB', 'Z_MOD_SUB', 'Z_ANG_SUB',\n",
       "       'UNI_TR_D_y', 'FIC'],\n",
       "      dtype='object')"
      ]
     },
     "execution_count": 9,
     "metadata": {},
     "output_type": "execute_result"
    }
   ],
   "source": [
    "data.columns"
   ]
  },
  {
   "cell_type": "code",
   "execution_count": 10,
   "metadata": {
    "Collapsed": "false"
   },
   "outputs": [],
   "source": [
    "# Remove all rows with NAs\n",
    "data.dropna(inplace=True)\n",
    "\n",
    "# Isolate target\n",
    "target = data.FIC\n",
    "\n",
    "# Remove Keys and Target from dataframe\n",
    "data.drop(['COD_ID','UNI_TR_D_x','UNI_TR_D_y', 'FIC'], axis=1, inplace=True)"
   ]
  },
  {
   "cell_type": "markdown",
   "metadata": {
    "Collapsed": "false"
   },
   "source": [
    "### Feature clasification from type and origin"
   ]
  },
  {
   "cell_type": "code",
   "execution_count": 11,
   "metadata": {
    "Collapsed": "false"
   },
   "outputs": [
    {
     "data": {
      "text/plain": [
       "Index(['FAS_CON_P', 'FAS_CON_S', 'FAS_CON_T', 'TEN_LIN_SE', 'CAP_ELO',\n",
       "       'CAP_CHA', 'CONF', 'POSTO', 'POT_NOM', 'PER_FER', 'PER_TOT',\n",
       "       'TIP_TRAFO', 'ARE_LOC', 'CLAS_SUB', 'CNAE', 'TIP_CC', 'TEN_FORN',\n",
       "       'GRU_TAR', 'CAR_INST', 'UCBT_ENE_MED', 'UCBT_ENE_STD', 'UCBT_ENE_MAX',\n",
       "       'NCON', 'NCON_URB', 'CTMT_ENE_MED', 'CTMT_ENE_STD', 'CTMT_ENE_MAX',\n",
       "       'PERD_A3a', 'PERD_A4', 'PERD_B', 'PERD_MED', 'PERD_A3a_B', 'PERD_A4_B',\n",
       "       'PERD_B_A3a', 'PERD_B_A4', 'CTMT_PNTMT_MED', 'CTMT_PNTMT_STD',\n",
       "       'CTMT_PNTMT_MAX', 'CTMT_PNTBT_MED', 'CTMT_PNTBT_STD', 'CTMT_PNTBT_MAX',\n",
       "       'POT_NOM_TRS', 'POT_F01', 'POT_F02', 'PER_FER_TRS', 'PER_TOT_TRS',\n",
       "       'TIP_TRAFO_TRS', 'UNTRS_ENES_MED', 'UNTRS_ENES_STD', 'UNTRS_ENES_MAX',\n",
       "       'UNTRS_ENET_MED', 'UNTRS_ENET_STD', 'UNTRS_ENET_MAX', 'DEGREE',\n",
       "       'NEIG_DEGREE', 'BET_CEN', 'CLO_CEN', 'PAGE_RANK', 'DISTANCE_SUB',\n",
       "       'FCONV_R', 'I_MAX_MED_R', 'I_MAX_MIN_R', 'I_NOM_MED_R', 'I_NOM_MIN_R',\n",
       "       'REAC_SUB', 'RESI_SUB', 'Z_MOD_SUB', 'Z_ANG_SUB'],\n",
       "      dtype='object')"
      ]
     },
     "execution_count": 11,
     "metadata": {},
     "output_type": "execute_result"
    }
   ],
   "source": [
    "data.columns"
   ]
  },
  {
   "cell_type": "code",
   "execution_count": 12,
   "metadata": {
    "Collapsed": "false"
   },
   "outputs": [],
   "source": [
    "categorical = set(data.describe(include ='O').columns)"
   ]
  },
  {
   "cell_type": "code",
   "execution_count": 13,
   "metadata": {
    "Collapsed": "false"
   },
   "outputs": [
    {
     "name": "stdout",
     "output_type": "stream",
     "text": [
      "{'TIP_TRAFO', 'GRU_TAR', 'CNAE', 'TEN_FORN', 'FAS_CON_T', 'CLAS_SUB', 'CAP_ELO', 'TIP_TRAFO_TRS', 'FAS_CON_S', 'TIP_CC', 'POSTO', 'CAP_CHA', 'FAS_CON_P', 'ARE_LOC', 'CONF'}\n"
     ]
    }
   ],
   "source": [
    "print(categorical)"
   ]
  },
  {
   "cell_type": "code",
   "execution_count": 15,
   "metadata": {
    "Collapsed": "false"
   },
   "outputs": [],
   "source": [
    "numerical = data.describe().columns"
   ]
  },
  {
   "cell_type": "code",
   "execution_count": 16,
   "metadata": {
    "Collapsed": "false"
   },
   "outputs": [
    {
     "name": "stdout",
     "output_type": "stream",
     "text": [
      "Index(['TEN_LIN_SE', 'POT_NOM', 'PER_FER', 'PER_TOT', 'CAR_INST',\n",
      "       'UCBT_ENE_MED', 'UCBT_ENE_STD', 'UCBT_ENE_MAX', 'NCON', 'NCON_URB',\n",
      "       'CTMT_ENE_MED', 'CTMT_ENE_STD', 'CTMT_ENE_MAX', 'PERD_A3a', 'PERD_A4',\n",
      "       'PERD_B', 'PERD_MED', 'PERD_A3a_B', 'PERD_A4_B', 'PERD_B_A3a',\n",
      "       'PERD_B_A4', 'CTMT_PNTMT_MED', 'CTMT_PNTMT_STD', 'CTMT_PNTMT_MAX',\n",
      "       'CTMT_PNTBT_MED', 'CTMT_PNTBT_STD', 'CTMT_PNTBT_MAX', 'POT_NOM_TRS',\n",
      "       'POT_F01', 'POT_F02', 'PER_FER_TRS', 'PER_TOT_TRS', 'UNTRS_ENES_MED',\n",
      "       'UNTRS_ENES_STD', 'UNTRS_ENES_MAX', 'UNTRS_ENET_MED', 'UNTRS_ENET_STD',\n",
      "       'UNTRS_ENET_MAX', 'DEGREE', 'NEIG_DEGREE', 'BET_CEN', 'CLO_CEN',\n",
      "       'PAGE_RANK', 'DISTANCE_SUB', 'FCONV_R', 'I_MAX_MED_R', 'I_MAX_MIN_R',\n",
      "       'I_NOM_MED_R', 'I_NOM_MIN_R', 'REAC_SUB', 'RESI_SUB', 'Z_MOD_SUB',\n",
      "       'Z_ANG_SUB'],\n",
      "      dtype='object')\n"
     ]
    }
   ],
   "source": [
    "print(numerical)"
   ]
  },
  {
   "cell_type": "code",
   "execution_count": 23,
   "metadata": {
    "Collapsed": "false"
   },
   "outputs": [],
   "source": [
    "# Get Features from each origin\n",
    "tabular_cols = set(tabular_ft.columns) & set(data.columns)\n",
    "gmetrics_cols = set(gmetrics_ft.columns) & set(data.columns)\n",
    "path_cols = set(path_ft.columns) & set(data.columns)"
   ]
  },
  {
   "cell_type": "markdown",
   "metadata": {
    "Collapsed": "false"
   },
   "source": [
    "### Codificacion de variables categoricas"
   ]
  },
  {
   "cell_type": "code",
   "execution_count": 24,
   "metadata": {
    "Collapsed": "false"
   },
   "outputs": [],
   "source": [
    "data_labeled = pd.get_dummies(data, columns=categorical, dummy_na= True, drop_first= True)"
   ]
  },
  {
   "cell_type": "code",
   "execution_count": 25,
   "metadata": {
    "Collapsed": "false"
   },
   "outputs": [],
   "source": [
    "all_cols = set(data_labeled.columns)"
   ]
  },
  {
   "cell_type": "code",
   "execution_count": 26,
   "metadata": {
    "Collapsed": "false"
   },
   "outputs": [],
   "source": [
    "tabular_lb_cols = [s for s in all_cols if any(xs in s for xs in tabular_cols & categorical)]"
   ]
  },
  {
   "cell_type": "markdown",
   "metadata": {
    "Collapsed": "false"
   },
   "source": [
    "## Split Data sets"
   ]
  },
  {
   "cell_type": "code",
   "execution_count": 52,
   "metadata": {
    "Collapsed": "false"
   },
   "outputs": [],
   "source": [
    "from sklearn.model_selection import train_test_split"
   ]
  },
  {
   "cell_type": "code",
   "execution_count": 61,
   "metadata": {
    "Collapsed": "false"
   },
   "outputs": [],
   "source": [
    "X_train, X_test, y_train, y_test = train_test_split(data_labeled, target, test_size=0.2, random_state=0)"
   ]
  },
  {
   "cell_type": "markdown",
   "metadata": {
    "Collapsed": "false"
   },
   "source": [
    "## Generar Baselines con distintos tipo de grupos"
   ]
  },
  {
   "cell_type": "code",
   "execution_count": 54,
   "metadata": {
    "Collapsed": "false"
   },
   "outputs": [],
   "source": [
    "from sklearn.linear_model import Lasso\n",
    "from sklearn.neighbors import KNeighborsRegressor\n",
    "from xgboost.sklearn import XGBRegressor\n",
    "\n",
    "from sklearn.model_selection import cross_val_score"
   ]
  },
  {
   "cell_type": "code",
   "execution_count": 98,
   "metadata": {
    "Collapsed": "false"
   },
   "outputs": [],
   "source": [
    "models = []\n",
    "models.append((\"LinearRegression\", Lasso()))\n",
    "models.append((\"KNN_Regression\", KNeighborsRegressor()))\n",
    "models.append((\"XGBoost\", XGBRegressor(n_estimators=300, n_jobs=-1)))\n",
    "\n",
    "features = []\n",
    "features.append(('Tabulares', tabular_lb_cols))\n",
    "features.append(('Metricas Grafo', gmetrics_cols))\n",
    "features.append(('Conexion Electrica', path_cols))\n",
    "features.append(('Todas', all_cols))"
   ]
  },
  {
   "cell_type": "code",
   "execution_count": 107,
   "metadata": {
    "Collapsed": "false"
   },
   "outputs": [
    {
     "name": "stdout",
     "output_type": "stream",
     "text": [
      "Experiment id: 3\n"
     ]
    },
    {
     "name": "stderr",
     "output_type": "stream",
     "text": [
      "C:\\Users\\RamiroJC\\AppData\\Roaming\\Python\\Python37\\site-packages\\yaml\\constructor.py:126: DeprecationWarning: Using or importing the ABCs from 'collections' instead of from 'collections.abc' is deprecated, and in 3.8 it will stop working\n",
      "  if not isinstance(key, collections.Hashable):\n"
     ]
    }
   ],
   "source": [
    "experiment_id = mlflow.create_experiment(\"Baselines por conjunto de variables\")\n",
    "print(f\"Experiment id: {experiment_id}\")"
   ]
  },
  {
   "cell_type": "code",
   "execution_count": 110,
   "metadata": {
    "Collapsed": "false"
   },
   "outputs": [],
   "source": [
    "results_df = pd.DataFrame(columns= ['Regresion Lineal', 'Regresion KNN', 'Regresion XGBoost'])\n",
    "\n",
    "\n",
    "for ft_group, ft_set in features:\n",
    "    results_row = []\n",
    "\n",
    "    for name, model in models:\n",
    "        \n",
    "        with mlflow.start_run(experiment_id = experiment_id):\n",
    "            result = cross_val_score(model, X_train[ft_set], y_train, cv=3, scoring='neg_mean_absolute_error')\n",
    "            results_row.append(abs(result.mean()))\n",
    "\n",
    "            params = dict(model= name, \n",
    "                          feature_group= ft_group,\n",
    "                          cv=3)\n",
    "\n",
    "            mlflow.log_params(params)\n",
    "            mlflow.log_metric('mean_absolute_error', abs(result.mean()))\n",
    "            mlflow.sklearn.log_model(model, f'{name}_{ft_group}')\n",
    "\n",
    "    results_df.loc[ft_type] = results_row"
   ]
  },
  {
   "cell_type": "code",
   "execution_count": 111,
   "metadata": {
    "Collapsed": "false"
   },
   "outputs": [
    {
     "data": {
      "text/html": [
       "<div>\n",
       "<style scoped>\n",
       "    .dataframe tbody tr th:only-of-type {\n",
       "        vertical-align: middle;\n",
       "    }\n",
       "\n",
       "    .dataframe tbody tr th {\n",
       "        vertical-align: top;\n",
       "    }\n",
       "\n",
       "    .dataframe thead th {\n",
       "        text-align: right;\n",
       "    }\n",
       "</style>\n",
       "<table border=\"1\" class=\"dataframe\">\n",
       "  <thead>\n",
       "    <tr style=\"text-align: right;\">\n",
       "      <th></th>\n",
       "      <th>Regresion Lineal</th>\n",
       "      <th>Regresion KNN</th>\n",
       "      <th>Regresion XGBoost</th>\n",
       "    </tr>\n",
       "  </thead>\n",
       "  <tbody>\n",
       "    <tr>\n",
       "      <th>Todas</th>\n",
       "      <td>2.975346</td>\n",
       "      <td>2.433219</td>\n",
       "      <td>2.157823</td>\n",
       "    </tr>\n",
       "  </tbody>\n",
       "</table>\n",
       "</div>"
      ],
      "text/plain": [
       "       Regresion Lineal  Regresion KNN  Regresion XGBoost\n",
       "Todas          2.975346       2.433219           2.157823"
      ]
     },
     "execution_count": 111,
     "metadata": {},
     "output_type": "execute_result"
    }
   ],
   "source": [
    "results_df"
   ]
  },
  {
   "cell_type": "markdown",
   "metadata": {
    "Collapsed": "false"
   },
   "source": [
    "## Seleccion de features"
   ]
  },
  {
   "cell_type": "markdown",
   "metadata": {
    "Collapsed": "false"
   },
   "source": [
    "### Basada en modelado XGBoost"
   ]
  },
  {
   "cell_type": "code",
   "execution_count": 81,
   "metadata": {
    "Collapsed": "false"
   },
   "outputs": [
    {
     "data": {
      "text/plain": [
       "XGBRegressor(base_score=0.5, booster='gbtree', colsample_bylevel=1,\n",
       "       colsample_bytree=1, eval_metric='mae', gamma=1,\n",
       "       importance_type='gain', learning_rate=0.03, max_delta_step=0,\n",
       "       max_depth=3, min_child_weight=1, missing=None, n_estimators=1000,\n",
       "       n_jobs=1, nthread=None, objective='reg:linear', random_state=0,\n",
       "       reg_alpha=0, reg_lambda=1, scale_pos_weight=1, seed=None,\n",
       "       silent=True, subsample=0.8)"
      ]
     },
     "execution_count": 81,
     "metadata": {},
     "output_type": "execute_result"
    }
   ],
   "source": [
    "xb_selection = XGBRegressor(learning_rate=0.03,\n",
    "                     n_estimators=1000,\n",
    "                     max_depth=3,\n",
    "                     subsample=0.8,\n",
    "                     colsample_bytree=1,\n",
    "                     gamma=1,\n",
    "                     eval_metric='mae')\n",
    "\n",
    "# Entreno sobre el logarimo de la variable de salidad\n",
    "xb_selection.fit(X_train, y_train)"
   ]
  },
  {
   "cell_type": "markdown",
   "metadata": {
    "Collapsed": "false"
   },
   "source": [
    "#### Seleccionar variables que afectan al error"
   ]
  },
  {
   "cell_type": "code",
   "execution_count": 82,
   "metadata": {
    "Collapsed": "false"
   },
   "outputs": [],
   "source": [
    "from sklearn.feature_selection import SelectFromModel\n",
    "from sklearn import metrics"
   ]
  },
  {
   "cell_type": "code",
   "execution_count": 112,
   "metadata": {
    "Collapsed": "false"
   },
   "outputs": [
    {
     "name": "stdout",
     "output_type": "stream",
     "text": [
      "Experiment id: 4\n"
     ]
    }
   ],
   "source": [
    "experiment_id = mlflow.create_experiment(\"Seleccion de variables por incremento de error\")\n",
    "print(f\"Experiment id: {experiment_id}\")"
   ]
  },
  {
   "cell_type": "code",
   "execution_count": 119,
   "metadata": {
    "Collapsed": "false"
   },
   "outputs": [
    {
     "name": "stdout",
     "output_type": "stream",
     "text": [
      "Thresh=0.003, n=70, Error: 2.03\n",
      "Thresh=0.005, n=41, Error: 2.00\n",
      "Thresh=0.006, n=32, Error: 1.96\n",
      "Thresh=0.007, n=26, Error: 2.03\n",
      "Thresh=0.009, n=18, Error: 2.08\n"
     ]
    }
   ],
   "source": [
    "# Aumento el requerimiento de importancia y calculo\n",
    "# la cantidad de variables que permanecen y el error en un modelo de prueba\n",
    "\n",
    "for thresh in [3e-3, 5e-3, 6e-3, 7e-3, 9e-3]:\n",
    "    \n",
    "    # select features using threshold\n",
    "    selection = SelectFromModel(xb_selection, threshold=thresh, prefit=True)\n",
    "    select_X_train = selection.transform(X_train)\n",
    "    \n",
    "    with mlflow.start_run(experiment_id = experiment_id):\n",
    "        # Entrenar un modelo de prueba\n",
    "        selection_model = XGBRegressor(learning_rate=0.1,\n",
    "                         n_estimators= 300,\n",
    "                         max_depth=3,\n",
    "                         subsample=0.8,\n",
    "                         colsample_bytree=1,\n",
    "                         gamma=1,\n",
    "                         eval_metric='mae')\n",
    "\n",
    "        selection_model.fit(select_X_train, y_train)\n",
    "\n",
    "        # Obtener metricas del modelo de prueba\n",
    "        select_X_test = selection.transform(X_test)\n",
    "        y_pred = selection_model.predict(select_X_test)\n",
    "\n",
    "        error = metrics.mean_absolute_error(y_test, y_pred)\n",
    "        \n",
    "        mlflow.log_param('Umbral Importancia', thresh)\n",
    "        mlflow.log_metric('mean_absolute_error', error)\n",
    "        mlflow.log_metric('Cantidad de variables', select_X_train.shape[1])\n",
    "        mlflow.sklearn.log_model(selection_model, f'xg_sel_tr{thresh:.3f}')\n",
    "\n",
    "        print(\"Thresh=%.3f, n=%d, Error: %.2f\" % (thresh, select_X_train.shape[1], error))"
   ]
  },
  {
   "cell_type": "code",
   "execution_count": 86,
   "metadata": {
    "Collapsed": "false"
   },
   "outputs": [
    {
     "data": {
      "text/plain": [
       "Index(['Z_MOD_SUB', 'REAC_SUB', 'CTMT_PNTBT_MAX', 'CTMT_PNTMT_STD',\n",
       "       'ARE_LOC_UB', 'PERD_A4_B', 'RESI_SUB', 'I_MAX_MED_R', 'CTMT_ENE_STD',\n",
       "       'CTMT_PNTBT_MED', 'NCON_URB', 'CTMT_PNTMT_MAX', 'UNTRS_ENES_MED',\n",
       "       'FAS_CON_S_BN', 'PER_TOT', 'FCONV_R', 'CLO_CEN', 'CTMT_ENE_MED',\n",
       "       'PERD_A4', 'PERD_B', 'CTMT_PNTMT_MED', 'TIP_TRAFO_T', 'UCBT_ENE_MED',\n",
       "       'DISTANCE_SUB', 'BET_CEN', 'CAP_ELO_2H', 'POT_NOM_TRS', 'GRU_TAR_B1',\n",
       "       'TIP_CC_RES-Tipo10', 'FAS_CON_T_NULL', 'CTMT_ENE_MAX', 'Z_ANG_SUB'],\n",
       "      dtype='object')"
      ]
     },
     "execution_count": 86,
     "metadata": {},
     "output_type": "execute_result"
    }
   ],
   "source": [
    "indices = np.argsort(xb_selection.feature_importances_)[::-1]\n",
    "top_features = X_train.columns[indices][:32]\n",
    "top_features"
   ]
  },
  {
   "cell_type": "raw",
   "metadata": {
    "Collapsed": "false"
   },
   "source": [
    "Seleccion:\n",
    "---------\n",
    "\n",
    "'Z_MOD_SUB',\n",
    "'REAC_SUB',\n",
    "'CTMT_PNTBT_MAX',\n",
    "'CTMT_PNTMT_STD',\n",
    "'ARE_LOC_UB',\n",
    "'PERD_A4_B',\n",
    "'RESI_SUB',\n",
    "'I_MAX_MED_R',\n",
    "'CTMT_ENE_STD',\n",
    "'CTMT_PNTBT_MED',\n",
    "'NCON_URB', \n",
    "'CTMT_PNTMT_MAX',\n",
    "'UNTRS_ENES_MED',\n",
    "'FAS_CON_S_BN',\n",
    "'PER_TOT',\n",
    "'FCONV_R',\n",
    "'CLO_CEN',\n",
    "'CTMT_ENE_MED',\n",
    "'PERD_A4',\n",
    "'PERD_B', \n",
    "'CTMT_PNTMT_MED',\n",
    "'TIP_TRAFO_T',\n",
    "'UCBT_ENE_MED',\n",
    "'DISTANCE_SUB', \n",
    "'BET_CEN', \n",
    "'CAP_ELO_2H', \n",
    "'POT_NOM_TRS',\n",
    "'GRU_TAR_B1',\n",
    "'TIP_CC_RES-Tipo10', \n",
    "'FAS_CON_T_NULL', \n",
    "'CTMT_ENE_MAX',\n",
    "'Z_ANG_SUB']"
   ]
  },
  {
   "cell_type": "markdown",
   "metadata": {
    "Collapsed": "false"
   },
   "source": [
    "#### Chequear baseline de modelo con seleccion de variables"
   ]
  },
  {
   "cell_type": "code",
   "execution_count": 120,
   "metadata": {
    "Collapsed": "false"
   },
   "outputs": [],
   "source": [
    "mlflow.set_experiment(\"Baselines por conjunto de variables\")"
   ]
  },
  {
   "cell_type": "code",
   "execution_count": 121,
   "metadata": {
    "Collapsed": "false"
   },
   "outputs": [],
   "source": [
    "results_row = []\n",
    "\n",
    "for name, model in models:\n",
    "    with mlflow.start_run():\n",
    "        result = cross_val_score(model, X_train[top_features], y_train, cv=3, scoring='neg_mean_absolute_error')\n",
    "        results_row.append(abs(result.mean()))\n",
    "        \n",
    "        params = dict(model= name, \n",
    "                      feature_group= 'Seleccion XGB',\n",
    "                      cv=3)\n",
    "\n",
    "        mlflow.log_params(params)\n",
    "        mlflow.log_metric('mean_absolute_error', abs(result.mean()))\n",
    "        mlflow.sklearn.log_model(model, f'{name}_{ft_group}')\n",
    "    \n",
    "results_df.loc['Seleccion Variables'] = results_row"
   ]
  },
  {
   "cell_type": "code",
   "execution_count": 102,
   "metadata": {
    "Collapsed": "false"
   },
   "outputs": [
    {
     "data": {
      "text/html": [
       "<div>\n",
       "<style scoped>\n",
       "    .dataframe tbody tr th:only-of-type {\n",
       "        vertical-align: middle;\n",
       "    }\n",
       "\n",
       "    .dataframe tbody tr th {\n",
       "        vertical-align: top;\n",
       "    }\n",
       "\n",
       "    .dataframe thead th {\n",
       "        text-align: right;\n",
       "    }\n",
       "</style>\n",
       "<table border=\"1\" class=\"dataframe\">\n",
       "  <thead>\n",
       "    <tr style=\"text-align: right;\">\n",
       "      <th></th>\n",
       "      <th>Regresion Lineal</th>\n",
       "      <th>Regresion KNN</th>\n",
       "      <th>Regresion XGBoost</th>\n",
       "    </tr>\n",
       "  </thead>\n",
       "  <tbody>\n",
       "    <tr>\n",
       "      <th>Tabulares</th>\n",
       "      <td>4.880642</td>\n",
       "      <td>4.012538</td>\n",
       "      <td>3.734812</td>\n",
       "    </tr>\n",
       "    <tr>\n",
       "      <th>Metricas Grafo</th>\n",
       "      <td>5.751176</td>\n",
       "      <td>4.192741</td>\n",
       "      <td>3.379558</td>\n",
       "    </tr>\n",
       "    <tr>\n",
       "      <th>Conexion Electrica</th>\n",
       "      <td>3.436514</td>\n",
       "      <td>2.825810</td>\n",
       "      <td>2.500436</td>\n",
       "    </tr>\n",
       "    <tr>\n",
       "      <th>Todas</th>\n",
       "      <td>2.975346</td>\n",
       "      <td>2.433219</td>\n",
       "      <td>2.157823</td>\n",
       "    </tr>\n",
       "    <tr>\n",
       "      <th>Seleccion Variables</th>\n",
       "      <td>3.074119</td>\n",
       "      <td>2.447425</td>\n",
       "      <td>2.127191</td>\n",
       "    </tr>\n",
       "  </tbody>\n",
       "</table>\n",
       "</div>"
      ],
      "text/plain": [
       "                     Regresion Lineal  Regresion KNN  Regresion XGBoost\n",
       "Tabulares                    4.880642       4.012538           3.734812\n",
       "Metricas Grafo               5.751176       4.192741           3.379558\n",
       "Conexion Electrica           3.436514       2.825810           2.500436\n",
       "Todas                        2.975346       2.433219           2.157823\n",
       "Seleccion Variables          3.074119       2.447425           2.127191"
      ]
     },
     "execution_count": 102,
     "metadata": {},
     "output_type": "execute_result"
    }
   ],
   "source": [
    "results_df"
   ]
  },
  {
   "cell_type": "markdown",
   "metadata": {
    "Collapsed": "false"
   },
   "source": [
    "## Exportar Exit Point"
   ]
  },
  {
   "cell_type": "code",
   "execution_count": 103,
   "metadata": {
    "Collapsed": "false"
   },
   "outputs": [],
   "source": [
    "filename = './data/3_FtSet_XGImportance.pkl'\n",
    "outfile = open(filename, 'wb')\n",
    "pickle.dump(data_labeled[top_features], outfile)\n",
    "outfile.close()"
   ]
  },
  {
   "cell_type": "code",
   "execution_count": 105,
   "metadata": {
    "Collapsed": "false"
   },
   "outputs": [],
   "source": [
    "filename = './data/3_Target.pkl'\n",
    "outfile = open(filename, 'wb')\n",
    "pickle.dump(target, outfile)\n",
    "outfile.close()"
   ]
  }
 ],
 "metadata": {
  "kernelspec": {
   "display_name": "Python 3",
   "language": "python",
   "name": "python3"
  },
  "language_info": {
   "codemirror_mode": {
    "name": "ipython",
    "version": 3
   },
   "file_extension": ".py",
   "mimetype": "text/x-python",
   "name": "python",
   "nbconvert_exporter": "python",
   "pygments_lexer": "ipython3",
   "version": "3.7.3"
  }
 },
 "nbformat": 4,
 "nbformat_minor": 4
}
