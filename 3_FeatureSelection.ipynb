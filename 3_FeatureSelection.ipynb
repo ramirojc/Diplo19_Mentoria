{
 "cells": [
  {
   "cell_type": "markdown",
   "metadata": {
    "Collapsed": "false"
   },
   "source": [
    "# Feauture Selection"
   ]
  },
  {
   "cell_type": "markdown",
   "metadata": {
    "Collapsed": "false"
   },
   "source": [
    "## Imports & Load Data"
   ]
  },
  {
   "cell_type": "code",
   "execution_count": 216,
   "metadata": {
    "Collapsed": "false"
   },
   "outputs": [],
   "source": [
    "import warnings\n",
    "warnings.filterwarnings('ignore')"
   ]
  },
  {
   "cell_type": "code",
   "execution_count": 217,
   "metadata": {
    "Collapsed": "false"
   },
   "outputs": [],
   "source": [
    "import numpy as np\n",
    "import pandas as pd\n",
    "\n",
    "import pickle"
   ]
  },
  {
   "cell_type": "code",
   "execution_count": 218,
   "metadata": {
    "Collapsed": "false"
   },
   "outputs": [],
   "source": [
    "# Cargar endpoint\n",
    "infile = open('./data/21_ETL_tabular.pkl','rb')\n",
    "tabular_ft = pickle.load(infile)\n",
    "infile.close()"
   ]
  },
  {
   "cell_type": "code",
   "execution_count": 219,
   "metadata": {
    "Collapsed": "false"
   },
   "outputs": [],
   "source": [
    "filename = './data/221_graph_metrics.pkl'\n",
    "infile = open(filename, 'rb')\n",
    "gmetrics_ft = pickle.load(infile)\n",
    "infile.close()"
   ]
  },
  {
   "cell_type": "code",
   "execution_count": 220,
   "metadata": {
    "Collapsed": "false"
   },
   "outputs": [],
   "source": [
    "filename = './data/222_ETRD_ROUTES_ELEC.pkl'\n",
    "infile = open(filename, 'rb')\n",
    "path_ft = pickle.load(infile)\n",
    "infile.close()"
   ]
  },
  {
   "cell_type": "code",
   "execution_count": 221,
   "metadata": {
    "Collapsed": "false"
   },
   "outputs": [],
   "source": [
    "filename = './data/1_OUTFT_UNTRD_FIC.pkl'\n",
    "infile = open(filename, 'rb')\n",
    "DEPVAR = pickle.load(infile)\n",
    "infile.close()"
   ]
  },
  {
   "cell_type": "markdown",
   "metadata": {
    "Collapsed": "false"
   },
   "source": [
    "## Preparar Datos"
   ]
  },
  {
   "cell_type": "code",
   "execution_count": 222,
   "metadata": {
    "Collapsed": "false"
   },
   "outputs": [],
   "source": [
    "tabular_cols = tabular_ft.columns"
   ]
  },
  {
   "cell_type": "code",
   "execution_count": 223,
   "metadata": {
    "Collapsed": "false"
   },
   "outputs": [],
   "source": [
    "gmetrics_cols = gmetrics_ft.columns"
   ]
  },
  {
   "cell_type": "code",
   "execution_count": 224,
   "metadata": {
    "Collapsed": "false"
   },
   "outputs": [],
   "source": [
    "path_ft.drop(['ROUTE_SUB','SID_ROUTE_SUB'], axis=1, inplace=True)\n",
    "path_cols = path_ft.columns"
   ]
  },
  {
   "cell_type": "code",
   "execution_count": 225,
   "metadata": {
    "Collapsed": "false"
   },
   "outputs": [],
   "source": [
    "data = pd.merge(tabular_ft, gmetrics_ft, on = 'COD_ID')\n",
    "data = pd.merge(data, path_ft, on = 'COD_ID')"
   ]
  },
  {
   "cell_type": "code",
   "execution_count": 226,
   "metadata": {
    "Collapsed": "false"
   },
   "outputs": [],
   "source": [
    "data = pd.merge(data, DEPVAR.reset_index(), left_on='COD_ID', right_on='UNI_TR_D')"
   ]
  },
  {
   "cell_type": "code",
   "execution_count": 227,
   "metadata": {
    "Collapsed": "false"
   },
   "outputs": [],
   "source": [
    "data.drop(['COD_ID','PAC_1','UNI_TR_D_x','UNI_TR_D_y','UNTRD_PCON_x','UNTRD_PCON_y','UNI_TR_S',\n",
    "           'CTMT_x','CTMT_y','SUB_x','SUB_y','CONJ','DESCR','CTMT_PCON'], axis=1, inplace=True)"
   ]
  },
  {
   "cell_type": "code",
   "execution_count": 228,
   "metadata": {
    "Collapsed": "false"
   },
   "outputs": [
    {
     "data": {
      "text/plain": [
       "Index(['FAS_CON_P', 'FAS_CON_S', 'FAS_CON_T', 'TEN_LIN_SE', 'CAP_ELO',\n",
       "       'CAP_CHA', 'CONF', 'POSTO', 'POT_NOM', 'PER_FER', 'PER_TOT',\n",
       "       'TIP_TRAFO', 'ARE_LOC', 'CLAS_SUB', 'CNAE', 'TIP_CC', 'TEN_FORN',\n",
       "       'GRU_TAR', 'CAR_INST', 'UCBT_ENE_MED', 'UCBT_ENE_STD', 'UCBT_ENE_MAX',\n",
       "       'NCON', 'NCON_URB', 'CTMT_ENE_MED', 'CTMT_ENE_STD', 'CTMT_ENE_MAX',\n",
       "       'PERD_A3a', 'PERD_A4', 'PERD_B', 'PERD_MED', 'PERD_A3a_B', 'PERD_A4_B',\n",
       "       'PERD_B_A3a', 'PERD_B_A4', 'CTMT_PNTMT_MED', 'CTMT_PNTMT_STD',\n",
       "       'CTMT_PNTMT_MAX', 'CTMT_PNTBT_MED', 'CTMT_PNTBT_STD', 'CTMT_PNTBT_MAX',\n",
       "       'POT_NOM_TRS', 'POT_F01', 'POT_F02', 'PER_FER_TRS', 'PER_TOT_TRS',\n",
       "       'TIP_TRAFO_TRS', 'UNTRS_ENES_MED', 'UNTRS_ENES_STD', 'UNTRS_ENES_MAX',\n",
       "       'UNTRS_ENET_MED', 'UNTRS_ENET_STD', 'UNTRS_ENET_MAX', 'DEGREE',\n",
       "       'NEIG_DEGREE', 'BET_CEN', 'CLO_CEN', 'PAGE_RANK', 'DISTANCE_SUB',\n",
       "       'FCONV_R', 'I_MAX_MED_R', 'I_MAX_MIN_R', 'I_NOM_MED_R', 'I_NOM_MIN_R',\n",
       "       'REAC_SUB', 'RESI_SUB', 'Z_MOD_SUB', 'Z_ANG_SUB', 'FIC'],\n",
       "      dtype='object')"
      ]
     },
     "execution_count": 228,
     "metadata": {},
     "output_type": "execute_result"
    }
   ],
   "source": [
    "data.columns"
   ]
  },
  {
   "cell_type": "code",
   "execution_count": 229,
   "metadata": {
    "Collapsed": "false"
   },
   "outputs": [],
   "source": [
    "categorical = data.describe(include ='O').columns"
   ]
  },
  {
   "cell_type": "code",
   "execution_count": 230,
   "metadata": {
    "Collapsed": "false"
   },
   "outputs": [
    {
     "data": {
      "text/plain": [
       "Index(['FAS_CON_P', 'FAS_CON_S', 'FAS_CON_T', 'CAP_ELO', 'CAP_CHA', 'CONF',\n",
       "       'POSTO', 'TIP_TRAFO', 'ARE_LOC', 'CLAS_SUB', 'CNAE', 'TIP_CC',\n",
       "       'TEN_FORN', 'GRU_TAR', 'TIP_TRAFO_TRS'],\n",
       "      dtype='object')"
      ]
     },
     "execution_count": 230,
     "metadata": {},
     "output_type": "execute_result"
    }
   ],
   "source": [
    "categorical"
   ]
  },
  {
   "cell_type": "markdown",
   "metadata": {
    "Collapsed": "false"
   },
   "source": [
    "## Split and get baselines"
   ]
  },
  {
   "cell_type": "code",
   "execution_count": 231,
   "metadata": {
    "Collapsed": "false"
   },
   "outputs": [],
   "source": [
    "from sklearn.model_selection import train_test_split"
   ]
  },
  {
   "cell_type": "code",
   "execution_count": 232,
   "metadata": {
    "Collapsed": "false"
   },
   "outputs": [],
   "source": [
    "from sklearn.ensemble import RandomForestClassifier\n",
    "from boruta import BorutaPy"
   ]
  },
  {
   "cell_type": "code",
   "execution_count": 233,
   "metadata": {
    "Collapsed": "false"
   },
   "outputs": [],
   "source": [
    "data_labeled = pd.get_dummies(data.dropna(), columns=categorical, dummy_na= True, drop_first= True)"
   ]
  },
  {
   "cell_type": "code",
   "execution_count": 234,
   "metadata": {
    "Collapsed": "false"
   },
   "outputs": [],
   "source": [
    "X_train, X_test, y_train, y_test = train_test_split(data_labeled.drop('FIC',axis=1), data_labeled.FIC, test_size=0.3, random_state=0)"
   ]
  },
  {
   "cell_type": "code",
   "execution_count": 235,
   "metadata": {
    "Collapsed": "false"
   },
   "outputs": [
    {
     "data": {
      "text/plain": [
       "XGBRegressor(base_score=0.5, booster='gbtree', colsample_bylevel=1,\n",
       "       colsample_bytree=1, eval_metric='mae', gamma=1,\n",
       "       importance_type='gain', learning_rate=0.03, max_delta_step=0,\n",
       "       max_depth=3, min_child_weight=1, missing=None, n_estimators=1000,\n",
       "       n_jobs=1, nthread=None, objective='reg:linear', random_state=0,\n",
       "       reg_alpha=0, reg_lambda=1, scale_pos_weight=1, seed=None,\n",
       "       silent=True, subsample=0.8)"
      ]
     },
     "execution_count": 235,
     "metadata": {},
     "output_type": "execute_result"
    }
   ],
   "source": [
    "xb_reg = XGBRegressor(learning_rate=0.03,\n",
    "                     n_estimators=1000,\n",
    "                     max_depth=3,\n",
    "                     subsample=0.8,\n",
    "                     colsample_bytree=1,\n",
    "                     gamma=1,\n",
    "                     eval_metric='mae')\n",
    "\n",
    "# Entreno sobre el logarimo de la variable de salidad\n",
    "xb_reg.fit(X_train, np.log1p(y_train))"
   ]
  },
  {
   "cell_type": "code",
   "execution_count": 236,
   "metadata": {
    "Collapsed": "false"
   },
   "outputs": [],
   "source": [
    "desc_importance = np.sort(xb_reg.feature_importances_)"
   ]
  },
  {
   "cell_type": "code",
   "execution_count": 237,
   "metadata": {
    "Collapsed": "false"
   },
   "outputs": [],
   "source": [
    "ft_qty = (desc_importance[::-1] > 0).sum()"
   ]
  },
  {
   "cell_type": "code",
   "execution_count": 238,
   "metadata": {
    "Collapsed": "false"
   },
   "outputs": [
    {
     "data": {
      "text/plain": [
       "Index(['Z_MOD_SUB', 'UNTRS_ENES_MED', 'REAC_SUB', 'CLO_CEN', 'RESI_SUB',\n",
       "       'CTMT_PNTMT_MAX', 'CTMT_ENE_STD', 'CTMT_ENE_MED', 'I_MAX_MED_R',\n",
       "       'TIP_CC_RES-Tipo2', 'PAGE_RANK', 'CTMT_PNTBT_MAX', 'PERD_MED',\n",
       "       'PERD_A4_B', 'PER_TOT', 'FAS_CON_S_ABC', 'UCBT_ENE_MED',\n",
       "       'TIP_TRAFO_nan', 'POT_NOM', 'NCON_URB', 'CTMT_PNTMT_STD',\n",
       "       'GRU_TAR_B2RU', 'CTMT_PNTBT_MED', 'TIP_CC_RES-Tipo1', 'CTMT_ENE_MAX',\n",
       "       'CTMT_PNTMT_MED', 'I_MAX_MIN_R', 'Z_ANG_SUB', 'FAS_CON_S_AB', 'PERD_B',\n",
       "       'BET_CEN', 'FAS_CON_P_BC', 'FCONV_R', 'TIP_CC_RES-Tipo4', 'NCON',\n",
       "       'DEGREE', 'CTMT_PNTBT_STD', 'PERD_A4', 'DISTANCE_SUB', 'UCBT_ENE_MAX',\n",
       "       'TIP_CC_IND-Tipo9', 'CAR_INST', 'CLAS_SUB_PP3', 'TIP_CC_RES-Tipo10',\n",
       "       'FAS_CON_T_nan', 'CAP_ELO_15K', 'FAS_CON_S_B', 'FAS_CON_S_CAN',\n",
       "       'PER_FER', 'UCBT_ENE_STD', 'ARE_LOC_nan', 'FAS_CON_P_AB',\n",
       "       'TIP_CC_RES-Tipo3', 'TEN_LIN_SE', 'TIP_CC_nan', 'TIP_CC_RES-Tipo5',\n",
       "       'CLAS_SUB_RE1', 'CAP_ELO_nan', 'CAP_ELO_3H', 'TIP_CC_RUR-Tipo10',\n",
       "       'FAS_CON_P_ABC', 'TEN_FORN_17', 'TEN_FORN_nan', 'NEIG_DEGREE',\n",
       "       'TIP_CC_COM-Tipo10', 'CNAE_3449', 'TIP_CC_IND-Tipo1', 'CAP_ELO_2H',\n",
       "       'CNAE_139', 'TIP_CC_RES-Tipo7', 'TIP_CC_COM-Tipo7', 'CLAS_SUB_CO2',\n",
       "       'CNAE_2029', 'TIP_CC_SP-Tipo2'],\n",
       "      dtype='object')"
      ]
     },
     "execution_count": 238,
     "metadata": {},
     "output_type": "execute_result"
    }
   ],
   "source": [
    "indices = np.argsort(xb_reg.feature_importances_)[::-1]\n",
    "top_features = data_labeled.columns[indices][:ft_qty]\n",
    "top_features"
   ]
  },
  {
   "cell_type": "markdown",
   "metadata": {
    "Collapsed": "false"
   },
   "source": [
    "## Eliminar baja varianza"
   ]
  }
 ],
 "metadata": {
  "kernelspec": {
   "display_name": "Python 3",
   "language": "python",
   "name": "python3"
  },
  "language_info": {
   "codemirror_mode": {
    "name": "ipython",
    "version": 3
   },
   "file_extension": ".py",
   "mimetype": "text/x-python",
   "name": "python",
   "nbconvert_exporter": "python",
   "pygments_lexer": "ipython3",
   "version": "3.7.3"
  }
 },
 "nbformat": 4,
 "nbformat_minor": 4
}
